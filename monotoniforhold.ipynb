{
 "cells": [
  {
   "cell_type": "markdown",
   "metadata": {},
   "source": [
    "# Monotoniforhold"
   ]
  },
  {
   "cell_type": "code",
   "execution_count": 173,
   "metadata": {},
   "outputs": [],
   "source": [
    "import numpy as np\n",
    "import plotly.express as px\n",
    "from sympy import *\n",
    "import pandas as pd"
   ]
  },
  {
   "cell_type": "code",
   "execution_count": 197,
   "metadata": {},
   "outputs": [],
   "source": [
    "x = Symbol('x')\n",
    "f = Function('f', real=True)\n",
    "df = Function('df', real=True)"
   ]
  },
  {
   "cell_type": "markdown",
   "metadata": {},
   "source": [
    "### Funktion"
   ]
  },
  {
   "cell_type": "code",
   "execution_count": 198,
   "metadata": {},
   "outputs": [
    {
     "data": {
      "text/latex": [
       "$\\displaystyle x^{3} - x^{2} - 2 x$"
      ],
      "text/plain": [
       "x**3 - x**2 - 2*x"
      ]
     },
     "execution_count": 198,
     "metadata": {},
     "output_type": "execute_result"
    }
   ],
   "source": [
    "f = x**3 - x**2 - 2*x\n",
    "f"
   ]
  },
  {
   "cell_type": "markdown",
   "metadata": {},
   "source": [
    "### Den afledede til funktionen"
   ]
  },
  {
   "cell_type": "code",
   "execution_count": 199,
   "metadata": {},
   "outputs": [
    {
     "data": {
      "text/latex": [
       "$\\displaystyle 3 x^{2} - 2 x - 2$"
      ],
      "text/plain": [
       "3*x**2 - 2*x - 2"
      ]
     },
     "execution_count": 199,
     "metadata": {},
     "output_type": "execute_result"
    }
   ],
   "source": [
    "df = f.diff(x)\n",
    "df"
   ]
  },
  {
   "cell_type": "markdown",
   "metadata": {},
   "source": [
    "Nulpunkter for den afledede funktion"
   ]
  },
  {
   "cell_type": "code",
   "execution_count": 200,
   "metadata": {},
   "outputs": [
    {
     "data": {
      "text/latex": [
       "$\\displaystyle \\left\\{\\frac{1}{3} - \\frac{\\sqrt{7}}{3}, \\frac{1}{3} + \\frac{\\sqrt{7}}{3}\\right\\}$"
      ],
      "text/plain": [
       "FiniteSet(1/3 - sqrt(7)/3, 1/3 + sqrt(7)/3)"
      ]
     },
     "execution_count": 200,
     "metadata": {},
     "output_type": "execute_result"
    }
   ],
   "source": [
    "zeros = solveset(df, x, Interval(-2, 4))\n",
    "zeros"
   ]
  },
  {
   "cell_type": "code",
   "execution_count": 201,
   "metadata": {},
   "outputs": [
    {
     "data": {
      "text/latex": [
       "$\\displaystyle \\left\\{-0.548583770354863, 1.21525043702153\\right\\}$"
      ],
      "text/plain": [
       "FiniteSet(-0.548583770354863, 1.21525043702153)"
      ]
     },
     "execution_count": 201,
     "metadata": {},
     "output_type": "execute_result"
    }
   ],
   "source": [
    "N(zeros)"
   ]
  },
  {
   "cell_type": "code",
   "execution_count": 202,
   "metadata": {},
   "outputs": [],
   "source": [
    "zeros = list(zeros)\n",
    "lam_f = lambdify(x, f)\n",
    "lam_df = lambdify(x, df)"
   ]
  },
  {
   "cell_type": "code",
   "execution_count": 203,
   "metadata": {},
   "outputs": [],
   "source": [
    "x = np.linspace(-2, 4, 100)"
   ]
  },
  {
   "cell_type": "code",
   "execution_count": 213,
   "metadata": {},
   "outputs": [],
   "source": [
    "dataframe = pd.DataFrame(data={'x': x, 'f': lam_f(x), 'df': lam_df(x)})"
   ]
  },
  {
   "cell_type": "code",
   "execution_count": 214,
   "metadata": {},
   "outputs": [
    {
     "data": {
      "application/vnd.plotly.v1+json": {
       "config": {
        "plotlyServerURL": "https://plot.ly"
       },
       "data": [
        {
         "hovertemplate": "variable=f<br>x=%{x}<br>value=%{y}<extra></extra>",
         "legendgroup": "f",
         "line": {
          "color": "#636efa",
          "dash": "solid"
         },
         "mode": "lines",
         "name": "f",
         "orientation": "v",
         "showlegend": true,
         "type": "scatter",
         "x": [
          -2,
          -1.9393939393939394,
          -1.878787878787879,
          -1.8181818181818181,
          -1.7575757575757576,
          -1.696969696969697,
          -1.6363636363636362,
          -1.5757575757575757,
          -1.5151515151515151,
          -1.4545454545454546,
          -1.393939393939394,
          -1.3333333333333333,
          -1.2727272727272727,
          -1.2121212121212122,
          -1.1515151515151514,
          -1.0909090909090908,
          -1.0303030303030303,
          -0.9696969696969697,
          -0.9090909090909092,
          -0.8484848484848484,
          -0.7878787878787878,
          -0.7272727272727273,
          -0.6666666666666665,
          -0.606060606060606,
          -0.5454545454545454,
          -0.48484848484848486,
          -0.4242424242424243,
          -0.36363636363636354,
          -0.303030303030303,
          -0.24242424242424243,
          -0.18181818181818166,
          -0.1212121212121211,
          -0.06060606060606055,
          0,
          0.06060606060606055,
          0.1212121212121211,
          0.18181818181818166,
          0.24242424242424265,
          0.3030303030303032,
          0.36363636363636376,
          0.4242424242424243,
          0.48484848484848486,
          0.5454545454545454,
          0.606060606060606,
          0.666666666666667,
          0.7272727272727275,
          0.7878787878787881,
          0.8484848484848486,
          0.9090909090909092,
          0.9696969696969697,
          1.0303030303030303,
          1.0909090909090908,
          1.1515151515151514,
          1.2121212121212124,
          1.272727272727273,
          1.3333333333333335,
          1.393939393939394,
          1.4545454545454546,
          1.5151515151515151,
          1.5757575757575757,
          1.6363636363636367,
          1.6969696969696972,
          1.7575757575757578,
          1.8181818181818183,
          1.878787878787879,
          1.9393939393939394,
          2,
          2.0606060606060606,
          2.121212121212121,
          2.1818181818181817,
          2.242424242424242,
          2.3030303030303028,
          2.3636363636363633,
          2.4242424242424248,
          2.4848484848484853,
          2.545454545454546,
          2.6060606060606064,
          2.666666666666667,
          2.7272727272727275,
          2.787878787878788,
          2.8484848484848486,
          2.909090909090909,
          2.9696969696969697,
          3.0303030303030303,
          3.090909090909091,
          3.1515151515151514,
          3.212121212121212,
          3.2727272727272725,
          3.333333333333334,
          3.3939393939393945,
          3.454545454545455,
          3.5151515151515156,
          3.575757575757576,
          3.6363636363636367,
          3.6969696969696972,
          3.757575757575758,
          3.8181818181818183,
          3.878787878787879,
          3.9393939393939394,
          4
         ],
         "xaxis": "x",
         "y": [
          -8,
          -7.17700420179759,
          -6.404096056988621,
          -5.679939894815927,
          -5.003200044522359,
          -4.372540835350753,
          -3.786626596543951,
          -3.244121657344798,
          -2.7436903469961313,
          -2.2839969947407965,
          -1.8637059298216334,
          -1.4814814814814805,
          -1.1359879789631853,
          -0.8258897515095867,
          -0.5498511283635246,
          -0.3065364387678433,
          -0.09461001196538366,
          0.08726382280101275,
          0.2404207362885047,
          0.3661963992542505,
          0.46592648245540813,
          0.540946656649136,
          0.5925925925925927,
          0.6221999610429363,
          0.6311044327573253,
          0.6206416784929182,
          0.5921473690068733,
          0.5469571750563486,
          0.48640676739850286,
          0.41183181679049446,
          0.32456799398948133,
          0.22595096975262247,
          0.11731641483707589,
          0,
          -0.12466260400144687,
          -0.2553357264101063,
          -0.39068369646882006,
          -0.5293708434204307,
          -0.6700614965077779,
          -0.8114199849737043,
          -0.9521106380610515,
          -1.0907977850126611,
          -1.2261457550713748,
          -1.3568188774800343,
          -1.481481481481482,
          -1.5987978963185578,
          -1.7074324512341046,
          -1.8060494754709633,
          -1.893313298271976,
          -1.9678882488799845,
          -2.02843865653783,
          -2.0736288504883547,
          -2.1021231599743997,
          -2.1125859142388066,
          -2.103681442524418,
          -2.074074074074074,
          -2.0224281381306173,
          -1.9474079639368895,
          -1.847677880735732,
          -1.7219022177699865,
          -1.5687453042824933,
          -1.3868714695160969,
          -1.1749450427136368,
          -0.9316303531179555,
          -0.6555917299718947,
          -0.3454935025182957,
          0,
          0.3822244483401507,
          0.8025155132593147,
          1.2622088655146486,
          1.7626401758633135,
          2.3051451150624676,
          2.8910593538692684,
          3.521718563040883,
          4.198458413334452,
          4.922614575507142,
          5.695522720316115,
          6.518518518518523,
          7.39293764087153,
          8.32011575813229,
          9.301388541057966,
          10.338091660405711,
          11.43156078693269,
          12.583131591396056,
          13.794139744552966,
          15.065920917160584,
          16.399810779976065,
          17.79714500375657,
          19.259259259259277,
          20.787489217241294,
          22.38317054845982,
          24.047638923671997,
          25.782230013634983,
          27.58827948910595,
          29.467123020842035,
          31.420096279600415,
          33.448534936138245,
          35.55377466121268,
          37.73715112558088,
          40
         ],
         "yaxis": "y"
        },
        {
         "hovertemplate": "variable=df<br>x=%{x}<br>value=%{y}<extra></extra>",
         "legendgroup": "df",
         "line": {
          "color": "#EF553B",
          "dash": "solid"
         },
         "mode": "lines",
         "name": "df",
         "orientation": "v",
         "showlegend": true,
         "type": "scatter",
         "x": [
          -2,
          -1.9393939393939394,
          -1.878787878787879,
          -1.8181818181818181,
          -1.7575757575757576,
          -1.696969696969697,
          -1.6363636363636362,
          -1.5757575757575757,
          -1.5151515151515151,
          -1.4545454545454546,
          -1.393939393939394,
          -1.3333333333333333,
          -1.2727272727272727,
          -1.2121212121212122,
          -1.1515151515151514,
          -1.0909090909090908,
          -1.0303030303030303,
          -0.9696969696969697,
          -0.9090909090909092,
          -0.8484848484848484,
          -0.7878787878787878,
          -0.7272727272727273,
          -0.6666666666666665,
          -0.606060606060606,
          -0.5454545454545454,
          -0.48484848484848486,
          -0.4242424242424243,
          -0.36363636363636354,
          -0.303030303030303,
          -0.24242424242424243,
          -0.18181818181818166,
          -0.1212121212121211,
          -0.06060606060606055,
          0,
          0.06060606060606055,
          0.1212121212121211,
          0.18181818181818166,
          0.24242424242424265,
          0.3030303030303032,
          0.36363636363636376,
          0.4242424242424243,
          0.48484848484848486,
          0.5454545454545454,
          0.606060606060606,
          0.666666666666667,
          0.7272727272727275,
          0.7878787878787881,
          0.8484848484848486,
          0.9090909090909092,
          0.9696969696969697,
          1.0303030303030303,
          1.0909090909090908,
          1.1515151515151514,
          1.2121212121212124,
          1.272727272727273,
          1.3333333333333335,
          1.393939393939394,
          1.4545454545454546,
          1.5151515151515151,
          1.5757575757575757,
          1.6363636363636367,
          1.6969696969696972,
          1.7575757575757578,
          1.8181818181818183,
          1.878787878787879,
          1.9393939393939394,
          2,
          2.0606060606060606,
          2.121212121212121,
          2.1818181818181817,
          2.242424242424242,
          2.3030303030303028,
          2.3636363636363633,
          2.4242424242424248,
          2.4848484848484853,
          2.545454545454546,
          2.6060606060606064,
          2.666666666666667,
          2.7272727272727275,
          2.787878787878788,
          2.8484848484848486,
          2.909090909090909,
          2.9696969696969697,
          3.0303030303030303,
          3.090909090909091,
          3.1515151515151514,
          3.212121212121212,
          3.2727272727272725,
          3.333333333333334,
          3.3939393939393945,
          3.454545454545455,
          3.5151515151515156,
          3.575757575757576,
          3.6363636363636367,
          3.6969696969696972,
          3.757575757575758,
          3.8181818181818183,
          3.878787878787879,
          3.9393939393939394,
          4
         ],
         "xaxis": "x",
         "y": [
          14,
          13.162534435261708,
          12.347107438016529,
          11.553719008264462,
          10.782369146005509,
          10.033057851239672,
          9.305785123966942,
          8.600550964187327,
          7.917355371900825,
          7.256198347107439,
          6.617079889807163,
          6,
          5.404958677685951,
          4.8319559228650135,
          4.280991735537189,
          3.752066115702479,
          3.2451790633608812,
          2.760330578512397,
          2.2975206611570256,
          1.8567493112947653,
          1.43801652892562,
          1.0413223140495869,
          0.6666666666666661,
          0.3140495867768589,
          -0.016528925619834878,
          -0.32506887052341593,
          -0.611570247933884,
          -0.8760330578512401,
          -1.1184573002754823,
          -1.3388429752066116,
          -1.5371900826446288,
          -1.713498622589532,
          -1.8677685950413225,
          -2,
          -2.1101928374655645,
          -2.1983471074380163,
          -2.2644628099173554,
          -2.3085399449035813,
          -2.330578512396694,
          -2.330578512396694,
          -2.3085399449035813,
          -2.2644628099173554,
          -2.1983471074380168,
          -2.110192837465565,
          -1.9999999999999993,
          -1.8677685950413219,
          -1.713498622589531,
          -1.5371900826446279,
          -1.338842975206611,
          -1.118457300275482,
          -0.8760330578512399,
          -0.6115702479338845,
          -0.3250688705234164,
          -0.016528925619833323,
          0.3140495867768607,
          0.666666666666667,
          1.0413223140495873,
          1.43801652892562,
          1.8567493112947657,
          2.2975206611570247,
          2.7603305785123986,
          3.245179063360883,
          3.7520661157024815,
          4.280991735537192,
          4.8319559228650135,
          5.404958677685951,
          6,
          6.617079889807162,
          7.256198347107436,
          7.917355371900825,
          8.600550964187327,
          9.30578512396694,
          10.033057851239665,
          10.782369146005516,
          11.553719008264467,
          12.347107438016534,
          13.162534435261714,
          14,
          14.859504132231407,
          15.741046831955927,
          16.64462809917356,
          17.570247933884296,
          18.517906336088153,
          19.48760330578512,
          20.479338842975203,
          21.493112947658403,
          22.52892561983471,
          23.586776859504127,
          24.666666666666675,
          25.76859504132232,
          26.892561983471087,
          28.038567493112957,
          29.20661157024794,
          30.396694214876042,
          31.608815426997253,
          32.84297520661157,
          34.09917355371901,
          35.37741046831956,
          36.67768595041322,
          38
         ],
         "yaxis": "y"
        }
       ],
       "layout": {
        "autosize": true,
        "legend": {
         "title": {
          "text": "variable"
         },
         "tracegroupgap": 0
        },
        "margin": {
         "t": 60
        },
        "shapes": [
         {
          "line": {
           "color": "green",
           "dash": "dash",
           "width": 2
          },
          "type": "line",
          "x0": -0.5485837703548635,
          "x1": -0.5485837703548635,
          "xref": "x",
          "y0": 0,
          "y1": 1,
          "yref": "y domain"
         },
         {
          "line": {
           "color": "green",
           "dash": "dash",
           "width": 2
          },
          "type": "line",
          "x0": 1.2152504370215302,
          "x1": 1.2152504370215302,
          "xref": "x",
          "y0": 0,
          "y1": 1,
          "yref": "y domain"
         }
        ],
        "template": {
         "data": {
          "bar": [
           {
            "error_x": {
             "color": "#2a3f5f"
            },
            "error_y": {
             "color": "#2a3f5f"
            },
            "marker": {
             "line": {
              "color": "#E5ECF6",
              "width": 0.5
             }
            },
            "type": "bar"
           }
          ],
          "barpolar": [
           {
            "marker": {
             "line": {
              "color": "#E5ECF6",
              "width": 0.5
             }
            },
            "type": "barpolar"
           }
          ],
          "carpet": [
           {
            "aaxis": {
             "endlinecolor": "#2a3f5f",
             "gridcolor": "white",
             "linecolor": "white",
             "minorgridcolor": "white",
             "startlinecolor": "#2a3f5f"
            },
            "baxis": {
             "endlinecolor": "#2a3f5f",
             "gridcolor": "white",
             "linecolor": "white",
             "minorgridcolor": "white",
             "startlinecolor": "#2a3f5f"
            },
            "type": "carpet"
           }
          ],
          "choropleth": [
           {
            "colorbar": {
             "outlinewidth": 0,
             "ticks": ""
            },
            "type": "choropleth"
           }
          ],
          "contour": [
           {
            "colorbar": {
             "outlinewidth": 0,
             "ticks": ""
            },
            "colorscale": [
             [
              0,
              "#0d0887"
             ],
             [
              0.1111111111111111,
              "#46039f"
             ],
             [
              0.2222222222222222,
              "#7201a8"
             ],
             [
              0.3333333333333333,
              "#9c179e"
             ],
             [
              0.4444444444444444,
              "#bd3786"
             ],
             [
              0.5555555555555556,
              "#d8576b"
             ],
             [
              0.6666666666666666,
              "#ed7953"
             ],
             [
              0.7777777777777778,
              "#fb9f3a"
             ],
             [
              0.8888888888888888,
              "#fdca26"
             ],
             [
              1,
              "#f0f921"
             ]
            ],
            "type": "contour"
           }
          ],
          "contourcarpet": [
           {
            "colorbar": {
             "outlinewidth": 0,
             "ticks": ""
            },
            "type": "contourcarpet"
           }
          ],
          "heatmap": [
           {
            "colorbar": {
             "outlinewidth": 0,
             "ticks": ""
            },
            "colorscale": [
             [
              0,
              "#0d0887"
             ],
             [
              0.1111111111111111,
              "#46039f"
             ],
             [
              0.2222222222222222,
              "#7201a8"
             ],
             [
              0.3333333333333333,
              "#9c179e"
             ],
             [
              0.4444444444444444,
              "#bd3786"
             ],
             [
              0.5555555555555556,
              "#d8576b"
             ],
             [
              0.6666666666666666,
              "#ed7953"
             ],
             [
              0.7777777777777778,
              "#fb9f3a"
             ],
             [
              0.8888888888888888,
              "#fdca26"
             ],
             [
              1,
              "#f0f921"
             ]
            ],
            "type": "heatmap"
           }
          ],
          "heatmapgl": [
           {
            "colorbar": {
             "outlinewidth": 0,
             "ticks": ""
            },
            "colorscale": [
             [
              0,
              "#0d0887"
             ],
             [
              0.1111111111111111,
              "#46039f"
             ],
             [
              0.2222222222222222,
              "#7201a8"
             ],
             [
              0.3333333333333333,
              "#9c179e"
             ],
             [
              0.4444444444444444,
              "#bd3786"
             ],
             [
              0.5555555555555556,
              "#d8576b"
             ],
             [
              0.6666666666666666,
              "#ed7953"
             ],
             [
              0.7777777777777778,
              "#fb9f3a"
             ],
             [
              0.8888888888888888,
              "#fdca26"
             ],
             [
              1,
              "#f0f921"
             ]
            ],
            "type": "heatmapgl"
           }
          ],
          "histogram": [
           {
            "marker": {
             "colorbar": {
              "outlinewidth": 0,
              "ticks": ""
             }
            },
            "type": "histogram"
           }
          ],
          "histogram2d": [
           {
            "colorbar": {
             "outlinewidth": 0,
             "ticks": ""
            },
            "colorscale": [
             [
              0,
              "#0d0887"
             ],
             [
              0.1111111111111111,
              "#46039f"
             ],
             [
              0.2222222222222222,
              "#7201a8"
             ],
             [
              0.3333333333333333,
              "#9c179e"
             ],
             [
              0.4444444444444444,
              "#bd3786"
             ],
             [
              0.5555555555555556,
              "#d8576b"
             ],
             [
              0.6666666666666666,
              "#ed7953"
             ],
             [
              0.7777777777777778,
              "#fb9f3a"
             ],
             [
              0.8888888888888888,
              "#fdca26"
             ],
             [
              1,
              "#f0f921"
             ]
            ],
            "type": "histogram2d"
           }
          ],
          "histogram2dcontour": [
           {
            "colorbar": {
             "outlinewidth": 0,
             "ticks": ""
            },
            "colorscale": [
             [
              0,
              "#0d0887"
             ],
             [
              0.1111111111111111,
              "#46039f"
             ],
             [
              0.2222222222222222,
              "#7201a8"
             ],
             [
              0.3333333333333333,
              "#9c179e"
             ],
             [
              0.4444444444444444,
              "#bd3786"
             ],
             [
              0.5555555555555556,
              "#d8576b"
             ],
             [
              0.6666666666666666,
              "#ed7953"
             ],
             [
              0.7777777777777778,
              "#fb9f3a"
             ],
             [
              0.8888888888888888,
              "#fdca26"
             ],
             [
              1,
              "#f0f921"
             ]
            ],
            "type": "histogram2dcontour"
           }
          ],
          "mesh3d": [
           {
            "colorbar": {
             "outlinewidth": 0,
             "ticks": ""
            },
            "type": "mesh3d"
           }
          ],
          "parcoords": [
           {
            "line": {
             "colorbar": {
              "outlinewidth": 0,
              "ticks": ""
             }
            },
            "type": "parcoords"
           }
          ],
          "pie": [
           {
            "automargin": true,
            "type": "pie"
           }
          ],
          "scatter": [
           {
            "marker": {
             "colorbar": {
              "outlinewidth": 0,
              "ticks": ""
             }
            },
            "type": "scatter"
           }
          ],
          "scatter3d": [
           {
            "line": {
             "colorbar": {
              "outlinewidth": 0,
              "ticks": ""
             }
            },
            "marker": {
             "colorbar": {
              "outlinewidth": 0,
              "ticks": ""
             }
            },
            "type": "scatter3d"
           }
          ],
          "scattercarpet": [
           {
            "marker": {
             "colorbar": {
              "outlinewidth": 0,
              "ticks": ""
             }
            },
            "type": "scattercarpet"
           }
          ],
          "scattergeo": [
           {
            "marker": {
             "colorbar": {
              "outlinewidth": 0,
              "ticks": ""
             }
            },
            "type": "scattergeo"
           }
          ],
          "scattergl": [
           {
            "marker": {
             "colorbar": {
              "outlinewidth": 0,
              "ticks": ""
             }
            },
            "type": "scattergl"
           }
          ],
          "scattermapbox": [
           {
            "marker": {
             "colorbar": {
              "outlinewidth": 0,
              "ticks": ""
             }
            },
            "type": "scattermapbox"
           }
          ],
          "scatterpolar": [
           {
            "marker": {
             "colorbar": {
              "outlinewidth": 0,
              "ticks": ""
             }
            },
            "type": "scatterpolar"
           }
          ],
          "scatterpolargl": [
           {
            "marker": {
             "colorbar": {
              "outlinewidth": 0,
              "ticks": ""
             }
            },
            "type": "scatterpolargl"
           }
          ],
          "scatterternary": [
           {
            "marker": {
             "colorbar": {
              "outlinewidth": 0,
              "ticks": ""
             }
            },
            "type": "scatterternary"
           }
          ],
          "surface": [
           {
            "colorbar": {
             "outlinewidth": 0,
             "ticks": ""
            },
            "colorscale": [
             [
              0,
              "#0d0887"
             ],
             [
              0.1111111111111111,
              "#46039f"
             ],
             [
              0.2222222222222222,
              "#7201a8"
             ],
             [
              0.3333333333333333,
              "#9c179e"
             ],
             [
              0.4444444444444444,
              "#bd3786"
             ],
             [
              0.5555555555555556,
              "#d8576b"
             ],
             [
              0.6666666666666666,
              "#ed7953"
             ],
             [
              0.7777777777777778,
              "#fb9f3a"
             ],
             [
              0.8888888888888888,
              "#fdca26"
             ],
             [
              1,
              "#f0f921"
             ]
            ],
            "type": "surface"
           }
          ],
          "table": [
           {
            "cells": {
             "fill": {
              "color": "#EBF0F8"
             },
             "line": {
              "color": "white"
             }
            },
            "header": {
             "fill": {
              "color": "#C8D4E3"
             },
             "line": {
              "color": "white"
             }
            },
            "type": "table"
           }
          ]
         },
         "layout": {
          "annotationdefaults": {
           "arrowcolor": "#2a3f5f",
           "arrowhead": 0,
           "arrowwidth": 1
          },
          "autotypenumbers": "strict",
          "coloraxis": {
           "colorbar": {
            "outlinewidth": 0,
            "ticks": ""
           }
          },
          "colorscale": {
           "diverging": [
            [
             0,
             "#8e0152"
            ],
            [
             0.1,
             "#c51b7d"
            ],
            [
             0.2,
             "#de77ae"
            ],
            [
             0.3,
             "#f1b6da"
            ],
            [
             0.4,
             "#fde0ef"
            ],
            [
             0.5,
             "#f7f7f7"
            ],
            [
             0.6,
             "#e6f5d0"
            ],
            [
             0.7,
             "#b8e186"
            ],
            [
             0.8,
             "#7fbc41"
            ],
            [
             0.9,
             "#4d9221"
            ],
            [
             1,
             "#276419"
            ]
           ],
           "sequential": [
            [
             0,
             "#0d0887"
            ],
            [
             0.1111111111111111,
             "#46039f"
            ],
            [
             0.2222222222222222,
             "#7201a8"
            ],
            [
             0.3333333333333333,
             "#9c179e"
            ],
            [
             0.4444444444444444,
             "#bd3786"
            ],
            [
             0.5555555555555556,
             "#d8576b"
            ],
            [
             0.6666666666666666,
             "#ed7953"
            ],
            [
             0.7777777777777778,
             "#fb9f3a"
            ],
            [
             0.8888888888888888,
             "#fdca26"
            ],
            [
             1,
             "#f0f921"
            ]
           ],
           "sequentialminus": [
            [
             0,
             "#0d0887"
            ],
            [
             0.1111111111111111,
             "#46039f"
            ],
            [
             0.2222222222222222,
             "#7201a8"
            ],
            [
             0.3333333333333333,
             "#9c179e"
            ],
            [
             0.4444444444444444,
             "#bd3786"
            ],
            [
             0.5555555555555556,
             "#d8576b"
            ],
            [
             0.6666666666666666,
             "#ed7953"
            ],
            [
             0.7777777777777778,
             "#fb9f3a"
            ],
            [
             0.8888888888888888,
             "#fdca26"
            ],
            [
             1,
             "#f0f921"
            ]
           ]
          },
          "colorway": [
           "#636efa",
           "#EF553B",
           "#00cc96",
           "#ab63fa",
           "#FFA15A",
           "#19d3f3",
           "#FF6692",
           "#B6E880",
           "#FF97FF",
           "#FECB52"
          ],
          "font": {
           "color": "#2a3f5f"
          },
          "geo": {
           "bgcolor": "white",
           "lakecolor": "white",
           "landcolor": "#E5ECF6",
           "showlakes": true,
           "showland": true,
           "subunitcolor": "white"
          },
          "hoverlabel": {
           "align": "left"
          },
          "hovermode": "closest",
          "mapbox": {
           "style": "light"
          },
          "paper_bgcolor": "white",
          "plot_bgcolor": "#E5ECF6",
          "polar": {
           "angularaxis": {
            "gridcolor": "white",
            "linecolor": "white",
            "ticks": ""
           },
           "bgcolor": "#E5ECF6",
           "radialaxis": {
            "gridcolor": "white",
            "linecolor": "white",
            "ticks": ""
           }
          },
          "scene": {
           "xaxis": {
            "backgroundcolor": "#E5ECF6",
            "gridcolor": "white",
            "gridwidth": 2,
            "linecolor": "white",
            "showbackground": true,
            "ticks": "",
            "zerolinecolor": "white"
           },
           "yaxis": {
            "backgroundcolor": "#E5ECF6",
            "gridcolor": "white",
            "gridwidth": 2,
            "linecolor": "white",
            "showbackground": true,
            "ticks": "",
            "zerolinecolor": "white"
           },
           "zaxis": {
            "backgroundcolor": "#E5ECF6",
            "gridcolor": "white",
            "gridwidth": 2,
            "linecolor": "white",
            "showbackground": true,
            "ticks": "",
            "zerolinecolor": "white"
           }
          },
          "shapedefaults": {
           "line": {
            "color": "#2a3f5f"
           }
          },
          "ternary": {
           "aaxis": {
            "gridcolor": "white",
            "linecolor": "white",
            "ticks": ""
           },
           "baxis": {
            "gridcolor": "white",
            "linecolor": "white",
            "ticks": ""
           },
           "bgcolor": "#E5ECF6",
           "caxis": {
            "gridcolor": "white",
            "linecolor": "white",
            "ticks": ""
           }
          },
          "title": {
           "x": 0.05
          },
          "xaxis": {
           "automargin": true,
           "gridcolor": "white",
           "linecolor": "white",
           "ticks": "",
           "title": {
            "standoff": 15
           },
           "zerolinecolor": "white",
           "zerolinewidth": 2
          },
          "yaxis": {
           "automargin": true,
           "gridcolor": "white",
           "linecolor": "white",
           "ticks": "",
           "title": {
            "standoff": 15
           },
           "zerolinecolor": "white",
           "zerolinewidth": 2
          }
         }
        },
        "xaxis": {
         "anchor": "y",
         "autorange": true,
         "domain": [
          0,
          1
         ],
         "range": [
          -2,
          4
         ],
         "title": {
          "text": "x"
         },
         "type": "linear"
        },
        "yaxis": {
         "anchor": "x",
         "autorange": true,
         "domain": [
          0,
          1
         ],
         "range": [
          -10.666666666666668,
          42.666666666666664
         ],
         "title": {
          "text": "value"
         },
         "type": "linear"
        }
       }
      },
      "image/png": "[encoded data removed]",
      "text/html": [
       "<div>                            <div id=\"f5b3022e-e486-45cc-ae8b-26efd093007b\" class=\"plotly-graph-div\" style=\"height:525px; width:100%;\"></div>            <script type=\"text/javascript\">                require([\"plotly\"], function(Plotly) {                    window.PLOTLYENV=window.PLOTLYENV || {};                                    if (document.getElementById(\"f5b3022e-e486-45cc-ae8b-26efd093007b\")) {                    Plotly.newPlot(                        \"f5b3022e-e486-45cc-ae8b-26efd093007b\",                        [{\"hovertemplate\": \"variable=f<br>x=%{x}<br>value=%{y}<extra></extra>\", \"legendgroup\": \"f\", \"line\": {\"color\": \"#636efa\", \"dash\": \"solid\"}, \"mode\": \"lines\", \"name\": \"f\", \"orientation\": \"v\", \"showlegend\": true, \"type\": \"scatter\", \"x\": [-2.0, -1.9393939393939394, -1.878787878787879, -1.8181818181818181, -1.7575757575757576, -1.696969696969697, -1.6363636363636362, -1.5757575757575757, -1.5151515151515151, -1.4545454545454546, -1.393939393939394, -1.3333333333333333, -1.2727272727272727, -1.2121212121212122, -1.1515151515151514, -1.0909090909090908, -1.0303030303030303, -0.9696969696969697, -0.9090909090909092, -0.8484848484848484, -0.7878787878787878, -0.7272727272727273, -0.6666666666666665, -0.606060606060606, -0.5454545454545454, -0.48484848484848486, -0.4242424242424243, -0.36363636363636354, -0.303030303030303, -0.24242424242424243, -0.18181818181818166, -0.1212121212121211, -0.06060606060606055, 0.0, 0.06060606060606055, 0.1212121212121211, 0.18181818181818166, 0.24242424242424265, 0.3030303030303032, 0.36363636363636376, 0.4242424242424243, 0.48484848484848486, 0.5454545454545454, 0.606060606060606, 0.666666666666667, 0.7272727272727275, 0.7878787878787881, 0.8484848484848486, 0.9090909090909092, 0.9696969696969697, 1.0303030303030303, 1.0909090909090908, 1.1515151515151514, 1.2121212121212124, 1.272727272727273, 1.3333333333333335, 1.393939393939394, 1.4545454545454546, 1.5151515151515151, 1.5757575757575757, 1.6363636363636367, 1.6969696969696972, 1.7575757575757578, 1.8181818181818183, 1.878787878787879, 1.9393939393939394, 2.0, 2.0606060606060606, 2.121212121212121, 2.1818181818181817, 2.242424242424242, 2.3030303030303028, 2.3636363636363633, 2.4242424242424248, 2.4848484848484853, 2.545454545454546, 2.6060606060606064, 2.666666666666667, 2.7272727272727275, 2.787878787878788, 2.8484848484848486, 2.909090909090909, 2.9696969696969697, 3.0303030303030303, 3.090909090909091, 3.1515151515151514, 3.212121212121212, 3.2727272727272725, 3.333333333333334, 3.3939393939393945, 3.454545454545455, 3.5151515151515156, 3.575757575757576, 3.6363636363636367, 3.6969696969696972, 3.757575757575758, 3.8181818181818183, 3.878787878787879, 3.9393939393939394, 4.0], \"xaxis\": \"x\", \"y\": [-8.0, -7.17700420179759, -6.404096056988621, -5.679939894815927, -5.003200044522359, -4.372540835350753, -3.786626596543951, -3.244121657344798, -2.7436903469961313, -2.2839969947407965, -1.8637059298216334, -1.4814814814814805, -1.1359879789631853, -0.8258897515095867, -0.5498511283635246, -0.3065364387678433, -0.09461001196538366, 0.08726382280101275, 0.2404207362885047, 0.3661963992542505, 0.46592648245540813, 0.540946656649136, 0.5925925925925927, 0.6221999610429363, 0.6311044327573253, 0.6206416784929182, 0.5921473690068733, 0.5469571750563486, 0.48640676739850286, 0.41183181679049446, 0.32456799398948133, 0.22595096975262247, 0.11731641483707589, 0.0, -0.12466260400144687, -0.2553357264101063, -0.39068369646882006, -0.5293708434204307, -0.6700614965077779, -0.8114199849737043, -0.9521106380610515, -1.0907977850126611, -1.2261457550713748, -1.3568188774800343, -1.481481481481482, -1.5987978963185578, -1.7074324512341046, -1.8060494754709633, -1.893313298271976, -1.9678882488799845, -2.02843865653783, -2.0736288504883547, -2.1021231599743997, -2.1125859142388066, -2.103681442524418, -2.074074074074074, -2.0224281381306173, -1.9474079639368895, -1.847677880735732, -1.7219022177699865, -1.5687453042824933, -1.3868714695160969, -1.1749450427136368, -0.9316303531179555, -0.6555917299718947, -0.3454935025182957, 0.0, 0.3822244483401507, 0.8025155132593147, 1.2622088655146486, 1.7626401758633135, 2.3051451150624676, 2.8910593538692684, 3.521718563040883, 4.198458413334452, 4.922614575507142, 5.695522720316115, 6.518518518518523, 7.39293764087153, 8.32011575813229, 9.301388541057966, 10.338091660405711, 11.43156078693269, 12.583131591396056, 13.794139744552966, 15.065920917160584, 16.399810779976065, 17.79714500375657, 19.259259259259277, 20.787489217241294, 22.38317054845982, 24.047638923671997, 25.782230013634983, 27.58827948910595, 29.467123020842035, 31.420096279600415, 33.448534936138245, 35.55377466121268, 37.73715112558088, 40.0], \"yaxis\": \"y\"}, {\"hovertemplate\": \"variable=df<br>x=%{x}<br>value=%{y}<extra></extra>\", \"legendgroup\": \"df\", \"line\": {\"color\": \"#EF553B\", \"dash\": \"solid\"}, \"mode\": \"lines\", \"name\": \"df\", \"orientation\": \"v\", \"showlegend\": true, \"type\": \"scatter\", \"x\": [-2.0, -1.9393939393939394, -1.878787878787879, -1.8181818181818181, -1.7575757575757576, -1.696969696969697, -1.6363636363636362, -1.5757575757575757, -1.5151515151515151, -1.4545454545454546, -1.393939393939394, -1.3333333333333333, -1.2727272727272727, -1.2121212121212122, -1.1515151515151514, -1.0909090909090908, -1.0303030303030303, -0.9696969696969697, -0.9090909090909092, -0.8484848484848484, -0.7878787878787878, -0.7272727272727273, -0.6666666666666665, -0.606060606060606, -0.5454545454545454, -0.48484848484848486, -0.4242424242424243, -0.36363636363636354, -0.303030303030303, -0.24242424242424243, -0.18181818181818166, -0.1212121212121211, -0.06060606060606055, 0.0, 0.06060606060606055, 0.1212121212121211, 0.18181818181818166, 0.24242424242424265, 0.3030303030303032, 0.36363636363636376, 0.4242424242424243, 0.48484848484848486, 0.5454545454545454, 0.606060606060606, 0.666666666666667, 0.7272727272727275, 0.7878787878787881, 0.8484848484848486, 0.9090909090909092, 0.9696969696969697, 1.0303030303030303, 1.0909090909090908, 1.1515151515151514, 1.2121212121212124, 1.272727272727273, 1.3333333333333335, 1.393939393939394, 1.4545454545454546, 1.5151515151515151, 1.5757575757575757, 1.6363636363636367, 1.6969696969696972, 1.7575757575757578, 1.8181818181818183, 1.878787878787879, 1.9393939393939394, 2.0, 2.0606060606060606, 2.121212121212121, 2.1818181818181817, 2.242424242424242, 2.3030303030303028, 2.3636363636363633, 2.4242424242424248, 2.4848484848484853, 2.545454545454546, 2.6060606060606064, 2.666666666666667, 2.7272727272727275, 2.787878787878788, 2.8484848484848486, 2.909090909090909, 2.9696969696969697, 3.0303030303030303, 3.090909090909091, 3.1515151515151514, 3.212121212121212, 3.2727272727272725, 3.333333333333334, 3.3939393939393945, 3.454545454545455, 3.5151515151515156, 3.575757575757576, 3.6363636363636367, 3.6969696969696972, 3.757575757575758, 3.8181818181818183, 3.878787878787879, 3.9393939393939394, 4.0], \"xaxis\": \"x\", \"y\": [14.0, 13.162534435261708, 12.347107438016529, 11.553719008264462, 10.782369146005509, 10.033057851239672, 9.305785123966942, 8.600550964187327, 7.917355371900825, 7.256198347107439, 6.617079889807163, 6.0, 5.404958677685951, 4.8319559228650135, 4.280991735537189, 3.752066115702479, 3.2451790633608812, 2.760330578512397, 2.2975206611570256, 1.8567493112947653, 1.43801652892562, 1.0413223140495869, 0.6666666666666661, 0.3140495867768589, -0.016528925619834878, -0.32506887052341593, -0.611570247933884, -0.8760330578512401, -1.1184573002754823, -1.3388429752066116, -1.5371900826446288, -1.713498622589532, -1.8677685950413225, -2.0, -2.1101928374655645, -2.1983471074380163, -2.2644628099173554, -2.3085399449035813, -2.330578512396694, -2.330578512396694, -2.3085399449035813, -2.2644628099173554, -2.1983471074380168, -2.110192837465565, -1.9999999999999993, -1.8677685950413219, -1.713498622589531, -1.5371900826446279, -1.338842975206611, -1.118457300275482, -0.8760330578512399, -0.6115702479338845, -0.3250688705234164, -0.016528925619833323, 0.3140495867768607, 0.666666666666667, 1.0413223140495873, 1.43801652892562, 1.8567493112947657, 2.2975206611570247, 2.7603305785123986, 3.245179063360883, 3.7520661157024815, 4.280991735537192, 4.8319559228650135, 5.404958677685951, 6.0, 6.617079889807162, 7.256198347107436, 7.917355371900825, 8.600550964187327, 9.30578512396694, 10.033057851239665, 10.782369146005516, 11.553719008264467, 12.347107438016534, 13.162534435261714, 14.0, 14.859504132231407, 15.741046831955927, 16.64462809917356, 17.570247933884296, 18.517906336088153, 19.48760330578512, 20.479338842975203, 21.493112947658403, 22.52892561983471, 23.586776859504127, 24.666666666666675, 25.76859504132232, 26.892561983471087, 28.038567493112957, 29.20661157024794, 30.396694214876042, 31.608815426997253, 32.84297520661157, 34.09917355371901, 35.37741046831956, 36.67768595041322, 38.0], \"yaxis\": \"y\"}],                        {\"legend\": {\"title\": {\"text\": \"variable\"}, \"tracegroupgap\": 0}, \"margin\": {\"t\": 60}, \"shapes\": [{\"line\": {\"color\": \"green\", \"dash\": \"dash\", \"width\": 2}, \"type\": \"line\", \"x0\": -0.5485837703548635, \"x1\": -0.5485837703548635, \"xref\": \"x\", \"y0\": 0, \"y1\": 1, \"yref\": \"y domain\"}, {\"line\": {\"color\": \"green\", \"dash\": \"dash\", \"width\": 2}, \"type\": \"line\", \"x0\": 1.2152504370215302, \"x1\": 1.2152504370215302, \"xref\": \"x\", \"y0\": 0, \"y1\": 1, \"yref\": \"y domain\"}], \"template\": {\"data\": {\"bar\": [{\"error_x\": {\"color\": \"#2a3f5f\"}, \"error_y\": {\"color\": \"#2a3f5f\"}, \"marker\": {\"line\": {\"color\": \"#E5ECF6\", \"width\": 0.5}}, \"type\": \"bar\"}], \"barpolar\": [{\"marker\": {\"line\": {\"color\": \"#E5ECF6\", \"width\": 0.5}}, \"type\": \"barpolar\"}], \"carpet\": [{\"aaxis\": {\"endlinecolor\": \"#2a3f5f\", \"gridcolor\": \"white\", \"linecolor\": \"white\", \"minorgridcolor\": \"white\", \"startlinecolor\": \"#2a3f5f\"}, \"baxis\": {\"endlinecolor\": \"#2a3f5f\", \"gridcolor\": \"white\", \"linecolor\": \"white\", \"minorgridcolor\": \"white\", \"startlinecolor\": \"#2a3f5f\"}, \"type\": \"carpet\"}], \"choropleth\": [{\"colorbar\": {\"outlinewidth\": 0, \"ticks\": \"\"}, \"type\": \"choropleth\"}], \"contour\": [{\"colorbar\": {\"outlinewidth\": 0, \"ticks\": \"\"}, \"colorscale\": [[0.0, \"#0d0887\"], [0.1111111111111111, \"#46039f\"], [0.2222222222222222, \"#7201a8\"], [0.3333333333333333, \"#9c179e\"], [0.4444444444444444, \"#bd3786\"], [0.5555555555555556, \"#d8576b\"], [0.6666666666666666, \"#ed7953\"], [0.7777777777777778, \"#fb9f3a\"], [0.8888888888888888, \"#fdca26\"], [1.0, \"#f0f921\"]], \"type\": \"contour\"}], \"contourcarpet\": [{\"colorbar\": {\"outlinewidth\": 0, \"ticks\": \"\"}, \"type\": \"contourcarpet\"}], \"heatmap\": [{\"colorbar\": {\"outlinewidth\": 0, \"ticks\": \"\"}, \"colorscale\": [[0.0, \"#0d0887\"], [0.1111111111111111, \"#46039f\"], [0.2222222222222222, \"#7201a8\"], [0.3333333333333333, \"#9c179e\"], [0.4444444444444444, \"#bd3786\"], [0.5555555555555556, \"#d8576b\"], [0.6666666666666666, \"#ed7953\"], [0.7777777777777778, \"#fb9f3a\"], [0.8888888888888888, \"#fdca26\"], [1.0, \"#f0f921\"]], \"type\": \"heatmap\"}], \"heatmapgl\": [{\"colorbar\": {\"outlinewidth\": 0, \"ticks\": \"\"}, \"colorscale\": [[0.0, \"#0d0887\"], [0.1111111111111111, \"#46039f\"], [0.2222222222222222, \"#7201a8\"], [0.3333333333333333, \"#9c179e\"], [0.4444444444444444, \"#bd3786\"], [0.5555555555555556, \"#d8576b\"], [0.6666666666666666, \"#ed7953\"], [0.7777777777777778, \"#fb9f3a\"], [0.8888888888888888, \"#fdca26\"], [1.0, \"#f0f921\"]], \"type\": \"heatmapgl\"}], \"histogram\": [{\"marker\": {\"colorbar\": {\"outlinewidth\": 0, \"ticks\": \"\"}}, \"type\": \"histogram\"}], \"histogram2d\": [{\"colorbar\": {\"outlinewidth\": 0, \"ticks\": \"\"}, \"colorscale\": [[0.0, \"#0d0887\"], [0.1111111111111111, \"#46039f\"], [0.2222222222222222, \"#7201a8\"], [0.3333333333333333, \"#9c179e\"], [0.4444444444444444, \"#bd3786\"], [0.5555555555555556, \"#d8576b\"], [0.6666666666666666, \"#ed7953\"], [0.7777777777777778, \"#fb9f3a\"], [0.8888888888888888, \"#fdca26\"], [1.0, \"#f0f921\"]], \"type\": \"histogram2d\"}], \"histogram2dcontour\": [{\"colorbar\": {\"outlinewidth\": 0, \"ticks\": \"\"}, \"colorscale\": [[0.0, \"#0d0887\"], [0.1111111111111111, \"#46039f\"], [0.2222222222222222, \"#7201a8\"], [0.3333333333333333, \"#9c179e\"], [0.4444444444444444, \"#bd3786\"], [0.5555555555555556, \"#d8576b\"], [0.6666666666666666, \"#ed7953\"], [0.7777777777777778, \"#fb9f3a\"], [0.8888888888888888, \"#fdca26\"], [1.0, \"#f0f921\"]], \"type\": \"histogram2dcontour\"}], \"mesh3d\": [{\"colorbar\": {\"outlinewidth\": 0, \"ticks\": \"\"}, \"type\": \"mesh3d\"}], \"parcoords\": [{\"line\": {\"colorbar\": {\"outlinewidth\": 0, \"ticks\": \"\"}}, \"type\": \"parcoords\"}], \"pie\": [{\"automargin\": true, \"type\": \"pie\"}], \"scatter\": [{\"marker\": {\"colorbar\": {\"outlinewidth\": 0, \"ticks\": \"\"}}, \"type\": \"scatter\"}], \"scatter3d\": [{\"line\": {\"colorbar\": {\"outlinewidth\": 0, \"ticks\": \"\"}}, \"marker\": {\"colorbar\": {\"outlinewidth\": 0, \"ticks\": \"\"}}, \"type\": \"scatter3d\"}], \"scattercarpet\": [{\"marker\": {\"colorbar\": {\"outlinewidth\": 0, \"ticks\": \"\"}}, \"type\": \"scattercarpet\"}], \"scattergeo\": [{\"marker\": {\"colorbar\": {\"outlinewidth\": 0, \"ticks\": \"\"}}, \"type\": \"scattergeo\"}], \"scattergl\": [{\"marker\": {\"colorbar\": {\"outlinewidth\": 0, \"ticks\": \"\"}}, \"type\": \"scattergl\"}], \"scattermapbox\": [{\"marker\": {\"colorbar\": {\"outlinewidth\": 0, \"ticks\": \"\"}}, \"type\": \"scattermapbox\"}], \"scatterpolar\": [{\"marker\": {\"colorbar\": {\"outlinewidth\": 0, \"ticks\": \"\"}}, \"type\": \"scatterpolar\"}], \"scatterpolargl\": [{\"marker\": {\"colorbar\": {\"outlinewidth\": 0, \"ticks\": \"\"}}, \"type\": \"scatterpolargl\"}], \"scatterternary\": [{\"marker\": {\"colorbar\": {\"outlinewidth\": 0, \"ticks\": \"\"}}, \"type\": \"scatterternary\"}], \"surface\": [{\"colorbar\": {\"outlinewidth\": 0, \"ticks\": \"\"}, \"colorscale\": [[0.0, \"#0d0887\"], [0.1111111111111111, \"#46039f\"], [0.2222222222222222, \"#7201a8\"], [0.3333333333333333, \"#9c179e\"], [0.4444444444444444, \"#bd3786\"], [0.5555555555555556, \"#d8576b\"], [0.6666666666666666, \"#ed7953\"], [0.7777777777777778, \"#fb9f3a\"], [0.8888888888888888, \"#fdca26\"], [1.0, \"#f0f921\"]], \"type\": \"surface\"}], \"table\": [{\"cells\": {\"fill\": {\"color\": \"#EBF0F8\"}, \"line\": {\"color\": \"white\"}}, \"header\": {\"fill\": {\"color\": \"#C8D4E3\"}, \"line\": {\"color\": \"white\"}}, \"type\": \"table\"}]}, \"layout\": {\"annotationdefaults\": {\"arrowcolor\": \"#2a3f5f\", \"arrowhead\": 0, \"arrowwidth\": 1}, \"autotypenumbers\": \"strict\", \"coloraxis\": {\"colorbar\": {\"outlinewidth\": 0, \"ticks\": \"\"}}, \"colorscale\": {\"diverging\": [[0, \"#8e0152\"], [0.1, \"#c51b7d\"], [0.2, \"#de77ae\"], [0.3, \"#f1b6da\"], [0.4, \"#fde0ef\"], [0.5, \"#f7f7f7\"], [0.6, \"#e6f5d0\"], [0.7, \"#b8e186\"], [0.8, \"#7fbc41\"], [0.9, \"#4d9221\"], [1, \"#276419\"]], \"sequential\": [[0.0, \"#0d0887\"], [0.1111111111111111, \"#46039f\"], [0.2222222222222222, \"#7201a8\"], [0.3333333333333333, \"#9c179e\"], [0.4444444444444444, \"#bd3786\"], [0.5555555555555556, \"#d8576b\"], [0.6666666666666666, \"#ed7953\"], [0.7777777777777778, \"#fb9f3a\"], [0.8888888888888888, \"#fdca26\"], [1.0, \"#f0f921\"]], \"sequentialminus\": [[0.0, \"#0d0887\"], [0.1111111111111111, \"#46039f\"], [0.2222222222222222, \"#7201a8\"], [0.3333333333333333, \"#9c179e\"], [0.4444444444444444, \"#bd3786\"], [0.5555555555555556, \"#d8576b\"], [0.6666666666666666, \"#ed7953\"], [0.7777777777777778, \"#fb9f3a\"], [0.8888888888888888, \"#fdca26\"], [1.0, \"#f0f921\"]]}, \"colorway\": [\"#636efa\", \"#EF553B\", \"#00cc96\", \"#ab63fa\", \"#FFA15A\", \"#19d3f3\", \"#FF6692\", \"#B6E880\", \"#FF97FF\", \"#FECB52\"], \"font\": {\"color\": \"#2a3f5f\"}, \"geo\": {\"bgcolor\": \"white\", \"lakecolor\": \"white\", \"landcolor\": \"#E5ECF6\", \"showlakes\": true, \"showland\": true, \"subunitcolor\": \"white\"}, \"hoverlabel\": {\"align\": \"left\"}, \"hovermode\": \"closest\", \"mapbox\": {\"style\": \"light\"}, \"paper_bgcolor\": \"white\", \"plot_bgcolor\": \"#E5ECF6\", \"polar\": {\"angularaxis\": {\"gridcolor\": \"white\", \"linecolor\": \"white\", \"ticks\": \"\"}, \"bgcolor\": \"#E5ECF6\", \"radialaxis\": {\"gridcolor\": \"white\", \"linecolor\": \"white\", \"ticks\": \"\"}}, \"scene\": {\"xaxis\": {\"backgroundcolor\": \"#E5ECF6\", \"gridcolor\": \"white\", \"gridwidth\": 2, \"linecolor\": \"white\", \"showbackground\": true, \"ticks\": \"\", \"zerolinecolor\": \"white\"}, \"yaxis\": {\"backgroundcolor\": \"#E5ECF6\", \"gridcolor\": \"white\", \"gridwidth\": 2, \"linecolor\": \"white\", \"showbackground\": true, \"ticks\": \"\", \"zerolinecolor\": \"white\"}, \"zaxis\": {\"backgroundcolor\": \"#E5ECF6\", \"gridcolor\": \"white\", \"gridwidth\": 2, \"linecolor\": \"white\", \"showbackground\": true, \"ticks\": \"\", \"zerolinecolor\": \"white\"}}, \"shapedefaults\": {\"line\": {\"color\": \"#2a3f5f\"}}, \"ternary\": {\"aaxis\": {\"gridcolor\": \"white\", \"linecolor\": \"white\", \"ticks\": \"\"}, \"baxis\": {\"gridcolor\": \"white\", \"linecolor\": \"white\", \"ticks\": \"\"}, \"bgcolor\": \"#E5ECF6\", \"caxis\": {\"gridcolor\": \"white\", \"linecolor\": \"white\", \"ticks\": \"\"}}, \"title\": {\"x\": 0.05}, \"xaxis\": {\"automargin\": true, \"gridcolor\": \"white\", \"linecolor\": \"white\", \"ticks\": \"\", \"title\": {\"standoff\": 15}, \"zerolinecolor\": \"white\", \"zerolinewidth\": 2}, \"yaxis\": {\"automargin\": true, \"gridcolor\": \"white\", \"linecolor\": \"white\", \"ticks\": \"\", \"title\": {\"standoff\": 15}, \"zerolinecolor\": \"white\", \"zerolinewidth\": 2}}}, \"xaxis\": {\"anchor\": \"y\", \"domain\": [0.0, 1.0], \"title\": {\"text\": \"x\"}}, \"yaxis\": {\"anchor\": \"x\", \"domain\": [0.0, 1.0], \"title\": {\"text\": \"value\"}}},                        {\"responsive\": true}                    ).then(function(){\n",
       "                            \n",
       "var gd = document.getElementById('f5b3022e-e486-45cc-ae8b-26efd093007b');\n",
       "var x = new MutationObserver(function (mutations, observer) {{\n",
       "        var display = window.getComputedStyle(gd).display;\n",
       "        if (!display || display === 'none') {{\n",
       "            console.log([gd, 'removed!']);\n",
       "            Plotly.purge(gd);\n",
       "            observer.disconnect();\n",
       "        }}\n",
       "}});\n",
       "\n",
       "// Listen for the removal of the full notebook cells\n",
       "var notebookContainer = gd.closest('#notebook-container');\n",
       "if (notebookContainer) {{\n",
       "    x.observe(notebookContainer, {childList: true});\n",
       "}}\n",
       "\n",
       "// Listen for the clearing of the current output cell\n",
       "var outputEl = gd.closest('.output');\n",
       "if (outputEl) {{\n",
       "    x.observe(outputEl, {childList: true});\n",
       "}}\n",
       "\n",
       "                        })                };                });            </script>        </div>"
      ]
     },
     "metadata": {},
     "output_type": "display_data"
    }
   ],
   "source": [
    "fig = px.line(dataframe, x='x', y=['f', 'df'])\n",
    "fig.add_vline(x=float(zeros[0]), line_width=2, line_dash=\"dash\", line_color=\"green\")\n",
    "fig.add_vline(x=float(zeros[1]), line_width=2, line_dash=\"dash\", line_color=\"green\")\n",
    "fig.show()"
   ]
  },
  {
   "cell_type": "code",
   "execution_count": null,
   "metadata": {},
   "outputs": [],
   "source": []
  }
 ],
 "metadata": {
  "kernelspec": {
   "display_name": "Python 3",
   "language": "python",
   "name": "python3"
  },
  "language_info": {
   "codemirror_mode": {
    "name": "ipython",
    "version": 3
   },
   "file_extension": ".py",
   "mimetype": "text/x-python",
   "name": "python",
   "nbconvert_exporter": "python",
   "pygments_lexer": "ipython3",
   "version": "3.9.2"
  }
 },
 "nbformat": 4,
 "nbformat_minor": 4
}
