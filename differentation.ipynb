{
 "cells": [
  {
   "cell_type": "code",
   "execution_count": 1,
   "id": "6fa62de3-5ad4-4cc0-a3ec-ef44fcdb850e",
   "metadata": {},
   "outputs": [],
   "source": [
    "from sympy import *"
   ]
  },
  {
   "cell_type": "code",
   "execution_count": 2,
   "id": "498f11c0-1f62-4d74-9ee7-4d03ec4f8273",
   "metadata": {},
   "outputs": [],
   "source": [
    "x = symbols('x')"
   ]
  },
  {
   "cell_type": "code",
   "execution_count": 25,
   "id": "33130006-69ca-4cfe-940f-f5bf540fae2f",
   "metadata": {},
   "outputs": [],
   "source": [
    "f = (x**2 - 5*x + 6) * ln(x**2 + 1)"
   ]
  },
  {
   "cell_type": "code",
   "execution_count": 26,
   "id": "53735302-6077-4338-8801-ae39c4a0460c",
   "metadata": {},
   "outputs": [
    {
     "data": {
      "text/latex": [
       "$\\displaystyle \\left(x^{2} - 5 x + 6\\right) \\log{\\left(x^{2} + 1 \\right)}$"
      ],
      "text/plain": [
       "(x**2 - 5*x + 6)*log(x**2 + 1)"
      ]
     },
     "execution_count": 26,
     "metadata": {},
     "output_type": "execute_result"
    }
   ],
   "source": [
    "f"
   ]
  },
  {
   "cell_type": "code",
   "execution_count": 27,
   "id": "806a71b1-9643-4218-b225-e76d4f5ec794",
   "metadata": {},
   "outputs": [],
   "source": [
    "df = diff(f, x)"
   ]
  },
  {
   "cell_type": "code",
   "execution_count": 28,
   "id": "c6dcaba1-3b37-44f4-850d-ee5f74d0b349",
   "metadata": {},
   "outputs": [
    {
     "data": {
      "text/latex": [
       "$\\displaystyle \\frac{2 x \\left(x^{2} - 5 x + 6\\right)}{x^{2} + 1} + \\left(2 x - 5\\right) \\log{\\left(x^{2} + 1 \\right)}$"
      ],
      "text/plain": [
       "2*x*(x**2 - 5*x + 6)/(x**2 + 1) + (2*x - 5)*log(x**2 + 1)"
      ]
     },
     "execution_count": 28,
     "metadata": {},
     "output_type": "execute_result"
    }
   ],
   "source": [
    "df"
   ]
  },
  {
   "cell_type": "code",
   "execution_count": 29,
   "id": "48f529ff-c9df-4b7a-aa42-914f4a3933a1",
   "metadata": {},
   "outputs": [
    {
     "data": {
      "text/latex": [
       "$\\displaystyle 0$"
      ],
      "text/plain": [
       "0"
      ]
     },
     "execution_count": 29,
     "metadata": {},
     "output_type": "execute_result"
    }
   ],
   "source": [
    "df.subs(x, 0)"
   ]
  },
  {
   "cell_type": "markdown",
   "id": "b739ae16-02a1-4cbb-876e-378e48a4223e",
   "metadata": {},
   "source": [
    "## Produktreglen"
   ]
  },
  {
   "cell_type": "markdown",
   "id": "e123bdd3-0ec0-4239-ab74-fed80868d315",
   "metadata": {},
   "source": [
    "h(x)=f(x)⋅g(x)⇒\n",
    " \n",
    "h′(x)=f′(x)⋅g(x)+f(x)⋅g′(x)"
   ]
  },
  {
   "cell_type": "markdown",
   "id": "42eb73b8-8444-4c00-8753-fd712205f60c",
   "metadata": {},
   "source": [
    "## Kvotientreglen"
   ]
  },
  {
   "cell_type": "markdown",
   "id": "c3616f6b-bb7d-4e8b-957c-9e73723bd409",
   "metadata": {},
   "source": [
    "h(x)=f(x)/g(x)⇒\n",
    " \n",
    "h′(x)= (f′(x)⋅g(x)−f(x)⋅g′(x)) / (g(x))2"
   ]
  },
  {
   "cell_type": "markdown",
   "id": "67fa94b9-5a90-4df3-ba6e-2baa19184c5a",
   "metadata": {},
   "source": [
    "## Sammensat funktion"
   ]
  },
  {
   "cell_type": "markdown",
   "id": "fd46f403-5ce0-4dc4-bd6f-e25f3e94bf32",
   "metadata": {},
   "source": [
    "(f(g(x)))′=f′(g(x))⋅g′(x)"
   ]
  },
  {
   "cell_type": "code",
   "execution_count": 8,
   "id": "29ccd8b2-7be9-4a54-9b5d-400466ecb47a",
   "metadata": {},
   "outputs": [],
   "source": [
    "f = Function('f')(x)"
   ]
  },
  {
   "cell_type": "code",
   "execution_count": 9,
   "id": "f4a47439-cc48-4ca1-bb66-cec0dbf55be3",
   "metadata": {},
   "outputs": [],
   "source": [
    "g = Function('g')(x)"
   ]
  },
  {
   "cell_type": "code",
   "execution_count": 10,
   "id": "5fbcda9f-2569-42f9-8ec2-a3acd19a9432",
   "metadata": {},
   "outputs": [
    {
     "data": {
      "text/latex": [
       "$\\displaystyle f{\\left(x \\right)} \\frac{d}{d x} g{\\left(x \\right)} + g{\\left(x \\right)} \\frac{d}{d x} f{\\left(x \\right)}$"
      ],
      "text/plain": [
       "f(x)*Derivative(g(x), x) + g(x)*Derivative(f(x), x)"
      ]
     },
     "execution_count": 10,
     "metadata": {},
     "output_type": "execute_result"
    }
   ],
   "source": [
    "diff(f*g, x)"
   ]
  },
  {
   "cell_type": "code",
   "execution_count": 11,
   "id": "6fb1b6c3-bfd0-4f36-8e0a-a5a83c10776b",
   "metadata": {},
   "outputs": [
    {
     "data": {
      "text/latex": [
       "$\\displaystyle - \\frac{f{\\left(x \\right)} \\frac{d}{d x} g{\\left(x \\right)}}{g^{2}{\\left(x \\right)}} + \\frac{\\frac{d}{d x} f{\\left(x \\right)}}{g{\\left(x \\right)}}$"
      ],
      "text/plain": [
       "-f(x)*Derivative(g(x), x)/g(x)**2 + Derivative(f(x), x)/g(x)"
      ]
     },
     "execution_count": 11,
     "metadata": {},
     "output_type": "execute_result"
    }
   ],
   "source": [
    "diff(f/g,x )"
   ]
  },
  {
   "cell_type": "code",
   "execution_count": 12,
   "id": "ca7910bc-69f9-411a-9ed0-77ac1a73e1cc",
   "metadata": {},
   "outputs": [],
   "source": [
    "h = Function('f')(g)"
   ]
  },
  {
   "cell_type": "code",
   "execution_count": 13,
   "id": "d1efad22-5b59-4c15-b98c-0deecbb8b0f3",
   "metadata": {},
   "outputs": [
    {
     "data": {
      "text/latex": [
       "$\\displaystyle \\frac{d}{d g{\\left(x \\right)}} f{\\left(g{\\left(x \\right)} \\right)} \\frac{d}{d x} g{\\left(x \\right)}$"
      ],
      "text/plain": [
       "Derivative(f(g(x)), g(x))*Derivative(g(x), x)"
      ]
     },
     "execution_count": 13,
     "metadata": {},
     "output_type": "execute_result"
    }
   ],
   "source": [
    "diff(h, x)"
   ]
  },
  {
   "cell_type": "code",
   "execution_count": null,
   "id": "7cc159f5-f80d-48e8-ae98-cc08a46800c8",
   "metadata": {},
   "outputs": [],
   "source": []
  },
  {
   "cell_type": "code",
   "execution_count": null,
   "id": "b8105f68-99f4-429e-a46a-895cfd0bbb39",
   "metadata": {},
   "outputs": [],
   "source": []
  },
  {
   "cell_type": "code",
   "execution_count": null,
   "id": "33d83191-4824-4f51-a56d-052998ee2041",
   "metadata": {},
   "outputs": [],
   "source": []
  },
  {
   "cell_type": "code",
   "execution_count": null,
   "id": "2016d49a-8371-4eb8-b2c0-b0345552590b",
   "metadata": {},
   "outputs": [],
   "source": []
  }
 ],
 "metadata": {
  "kernelspec": {
   "display_name": "Python 3 (ipykernel)",
   "language": "python",
   "name": "python3"
  },
  "language_info": {
   "codemirror_mode": {
    "name": "ipython",
    "version": 3
   },
   "file_extension": ".py",
   "mimetype": "text/x-python",
   "name": "python",
   "nbconvert_exporter": "python",
   "pygments_lexer": "ipython3",
   "version": "3.9.6"
  }
 },
 "nbformat": 4,
 "nbformat_minor": 5
}
