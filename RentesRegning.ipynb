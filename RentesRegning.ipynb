{
 "cells": [
  {
   "cell_type": "code",
   "execution_count": 21,
   "metadata": {},
   "outputs": [],
   "source": [
    "import handcalcs.render"
   ]
  },
  {
   "cell_type": "markdown",
   "metadata": {},
   "source": [
    "# Rentesregning, annuitetsopsparing og -gæld"
   ]
  },
  {
   "cell_type": "markdown",
   "metadata": {},
   "source": [
    "## Renteomregning - år til måned"
   ]
  },
  {
   "cell_type": "markdown",
   "metadata": {},
   "source": [
    "$$r_m = (1+r_å)^{1/12} - 1 $$"
   ]
  },
  {
   "cell_type": "markdown",
   "metadata": {},
   "source": [
    "## Renteomregning - år til kvartal"
   ]
  },
  {
   "cell_type": "markdown",
   "metadata": {},
   "source": [
    "$$r_k = (1+r_å)^{1/4} - 1 $$"
   ]
  },
  {
   "cell_type": "markdown",
   "metadata": {},
   "source": [
    "### Eksempel"
   ]
  },
  {
   "cell_type": "markdown",
   "metadata": {},
   "source": [
    "Bestem den kvartalsvise rente, hvis den årlige rente er $3\\%$"
   ]
  },
  {
   "cell_type": "markdown",
   "metadata": {},
   "source": [
    "$$r_k = (1+0,03)^{1/4} - 1 = 0,0074$$"
   ]
  },
  {
   "cell_type": "markdown",
   "metadata": {},
   "source": [
    "dvs, den kvartalsvise rente er $$0,74\\%$$"
   ]
  },
  {
   "cell_type": "markdown",
   "metadata": {},
   "source": [
    "## Annuitetsopsparing"
   ]
  },
  {
   "cell_type": "markdown",
   "metadata": {},
   "source": [
    "Hvis man indbetaler det samme beløb $b$ hver termin, og rentefoden er $r$, så er kapitalen $A$ umiddelbart efter den $n$’te indbetaling:"
   ]
  },
  {
   "cell_type": "markdown",
   "metadata": {},
   "source": [
    "$$A = b\\frac{(1 + r )^n - 1 }{r}$$"
   ]
  },
  {
   "cell_type": "markdown",
   "metadata": {},
   "source": [
    "### Eksempel"
   ]
  },
  {
   "cell_type": "markdown",
   "metadata": {},
   "source": [
    "En familie vil spare op til deres drømmehus. De vil hver måned indbetale 6500 kr. Den månedlige rente er $0,25\\%$. Bestem saldoen på familiens opsparing efter 10 år"
   ]
  },
  {
   "cell_type": "markdown",
   "metadata": {},
   "source": [
    "$$ A = 6500 \\frac{(1+0,0025)^{120} - 1}{0,0025} = 908319,22$$"
   ]
  },
  {
   "cell_type": "markdown",
   "metadata": {},
   "source": [
    "## Gældsannuitet"
   ]
  },
  {
   "cell_type": "markdown",
   "metadata": {},
   "source": [
    "Hvis man indbetaler ydelsen y hver termin i n terminer (første gang man betaler er én termin efter lånet er optaget), og rentefoden er r , så er lånets størrelse:"
   ]
  },
  {
   "cell_type": "markdown",
   "metadata": {},
   "source": [
    "$$G =  y \\frac{1-(1+r)^{-n}}{r}$$"
   ]
  },
  {
   "cell_type": "markdown",
   "metadata": {},
   "source": [
    "### Eksempel"
   ]
  },
  {
   "cell_type": "markdown",
   "metadata": {},
   "source": [
    "En familie har råd til at betale et lån til en bolig tilbage med en ydelse på 20000 kr pr kvartal gennem 30 år. Bestem hvor stort et beløb familien kan låne, når den kvartalsvise rente er 0,74%"
   ]
  },
  {
   "cell_type": "markdown",
   "metadata": {},
   "source": [
    "$$G = 20000 \\frac{1-(1,0074)^{-120}}{0,0074} = 1586958,36$$"
   ]
  },
  {
   "cell_type": "code",
   "execution_count": 17,
   "metadata": {},
   "outputs": [
    {
     "data": {
      "text/plain": [
       "813041.6399999999"
      ]
     },
     "execution_count": 17,
     "metadata": {},
     "output_type": "execute_result"
    }
   ],
   "source": [
    "20000*4*30 - 1586958.36"
   ]
  },
  {
   "cell_type": "markdown",
   "metadata": {},
   "source": [
    "### Henvisninger\n",
    "\n",
    "https://www.webmatematik.dk/lektioner/matematik-c/funktioner/opsparingsannuitet\n",
    "\n",
    "https://www.webmatematik.dk/lektioner/matematik-c/funktioner/galdsannuitet"
   ]
  },
  {
   "cell_type": "code",
   "execution_count": 28,
   "metadata": {},
   "outputs": [
    {
     "data": {
      "text/latex": [
       "\\[\n",
       "\\begin{aligned}\n",
       "r_{å} &= 0.03 \\; \n",
       "\\\\[10pt]\n",
       "r_{k} &= \\left( 1 + 0.03 \\right) ^{ \\left( \\frac{ 1 }{ 4 } \\right) } - 1  = \\left( 1 + 0.03 \\right) ^{ \\left( \\frac{ 1 }{ 4 } \\right) } - 1 &= 7.417 \\times 10 ^ {-3 }  \n",
       "\\end{aligned}\n",
       "\\]"
      ],
      "text/plain": [
       "<IPython.core.display.Latex object>"
      ]
     },
     "metadata": {},
     "output_type": "display_data"
    }
   ],
   "source": [
    "%%render\n",
    "r_å = 0.03\n",
    "r_k = (1+0.03)**(1/4)-1"
   ]
  },
  {
   "cell_type": "code",
   "execution_count": null,
   "metadata": {},
   "outputs": [],
   "source": []
  }
 ],
 "metadata": {
  "kernelspec": {
   "display_name": "Python 3",
   "language": "python",
   "name": "python3"
  },
  "language_info": {
   "codemirror_mode": {
    "name": "ipython",
    "version": 3
   },
   "file_extension": ".py",
   "mimetype": "text/x-python",
   "name": "python",
   "nbconvert_exporter": "python",
   "pygments_lexer": "ipython3",
   "version": "3.8.3"
  }
 },
 "nbformat": 4,
 "nbformat_minor": 4
}
