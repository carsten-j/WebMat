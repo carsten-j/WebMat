{
 "cells": [
  {
   "cell_type": "code",
   "execution_count": 3,
   "metadata": {},
   "outputs": [],
   "source": [
    "import handcalcs.render\n",
    "from handcalcs.decorator import handcalc"
   ]
  },
  {
   "cell_type": "markdown",
   "metadata": {},
   "source": [
    "# Rentesregning, annuitetsopsparing og -gæld"
   ]
  },
  {
   "cell_type": "markdown",
   "metadata": {},
   "source": [
    "## Renteomregning - år til måned"
   ]
  },
  {
   "cell_type": "markdown",
   "metadata": {},
   "source": [
    "$$r_m = (1+r_å)^{1/12} - 1 $$"
   ]
  },
  {
   "cell_type": "markdown",
   "metadata": {},
   "source": [
    "## Renteomregning - år til kvartal"
   ]
  },
  {
   "cell_type": "markdown",
   "metadata": {},
   "source": [
    "$$r_k = (1+r_å)^{1/4} - 1 $$"
   ]
  },
  {
   "cell_type": "code",
   "execution_count": 4,
   "metadata": {},
   "outputs": [],
   "source": [
    "@handcalc(override = \"long\", jupyter_display=True, precision=8)\n",
    "def å2m(r):\n",
    "  r_m = (1 + r)**(1/12) - 1"
   ]
  },
  {
   "cell_type": "code",
   "execution_count": 5,
   "metadata": {},
   "outputs": [],
   "source": [
    "@handcalc(override = \"long\", jupyter_display=True, precision=8)\n",
    "def å2k(r):\n",
    "  r_k = ((1 + r)**(1/4) - 1)\n",
    "  return locals()"
   ]
  },
  {
   "cell_type": "markdown",
   "metadata": {},
   "source": [
    "### Eksempel"
   ]
  },
  {
   "cell_type": "markdown",
   "metadata": {},
   "source": [
    "Bestem den kvartalsvise rente, hvis den årlige rente er $3\\%$"
   ]
  },
  {
   "cell_type": "code",
   "execution_count": 6,
   "metadata": {},
   "outputs": [
    {
     "data": {
      "text/latex": [
       "\\[\n",
       "\\begin{aligned}\n",
       "r_{k} &= \\left( \\left( 1 + r \\right) ^{ \\left( \\frac{ 1 }{ 4 } \\right) } - 1 \\right) \\\\&= \\left( \\left( 1 + 0.03 \\right) ^{ \\left( \\frac{ 1 }{ 4 } \\right) } - 1 \\right) \\\\&= 7.41707178 \\times 10 ^ {-3 }  \\\\\n",
       "\\end{aligned}\n",
       "\\]"
      ],
      "text/plain": [
       "<IPython.core.display.Latex object>"
      ]
     },
     "metadata": {},
     "output_type": "display_data"
    }
   ],
   "source": [
    "resultat = å2k(0.03)"
   ]
  },
  {
   "cell_type": "markdown",
   "metadata": {},
   "source": [
    "dvs, den kvartalsvise rente er "
   ]
  },
  {
   "cell_type": "code",
   "execution_count": 7,
   "metadata": {},
   "outputs": [
    {
     "data": {
      "text/plain": [
       "'0.7417%'"
      ]
     },
     "execution_count": 7,
     "metadata": {},
     "output_type": "execute_result"
    }
   ],
   "source": [
    "f\"{resultat['r_k']:.4%}\""
   ]
  },
  {
   "cell_type": "markdown",
   "metadata": {},
   "source": [
    "## Annuitetsopsparing"
   ]
  },
  {
   "cell_type": "markdown",
   "metadata": {},
   "source": [
    "Hvis man indbetaler det samme beløb $b$ hver termin, og rentefoden er $r$, så er kapitalen $A$ umiddelbart efter den $n$’te indbetaling:"
   ]
  },
  {
   "cell_type": "markdown",
   "metadata": {},
   "source": [
    "$$A = b\\frac{(1 + r )^n - 1 }{r}$$"
   ]
  },
  {
   "cell_type": "code",
   "execution_count": 8,
   "metadata": {},
   "outputs": [],
   "source": [
    "@handcalc(override = \"long\", jupyter_display=True, precision=8)\n",
    "def opsparing(b, r, n):\n",
    "  b = b\n",
    "  r = r\n",
    "  n = n\n",
    "  A = b * ((1+r)**n - 1)/r\n",
    "  return locals()"
   ]
  },
  {
   "cell_type": "markdown",
   "metadata": {},
   "source": [
    "### Eksempel"
   ]
  },
  {
   "cell_type": "markdown",
   "metadata": {},
   "source": [
    "En familie vil spare op til deres drømmehus. De vil hver måned indbetale 6500 kr. Den månedlige rente er $0,25\\%$. Bestem saldoen på familiens opsparing efter 10 år"
   ]
  },
  {
   "cell_type": "code",
   "execution_count": 9,
   "metadata": {},
   "outputs": [
    {
     "data": {
      "text/latex": [
       "\\[\n",
       "\\begin{aligned}\n",
       "b &= 6500 \\; \n",
       "\\\\[10pt]\n",
       "r &= 0.0025 \\; \n",
       "\\\\[10pt]\n",
       "n &= 120 \\; \n",
       "\\\\[10pt]\n",
       "A &= b \\cdot \\frac{ \\left( 1 + r \\right) ^{ n } - 1 }{ r } \\\\&= 6500 \\cdot \\frac{ \\left( 1 + 0.0025 \\right) ^{ 120 } - 1 }{ 0.0025 } \\\\&= 908319.22269614  \\\\\n",
       "\\end{aligned}\n",
       "\\]"
      ],
      "text/plain": [
       "<IPython.core.display.Latex object>"
      ]
     },
     "metadata": {},
     "output_type": "display_data"
    }
   ],
   "source": [
    "res = opsparing(6500, 0.25/100, 4*30)"
   ]
  },
  {
   "cell_type": "markdown",
   "metadata": {},
   "source": [
    "## Gældsannuitet"
   ]
  },
  {
   "cell_type": "markdown",
   "metadata": {},
   "source": [
    "Hvis man indbetaler ydelsen $y$ hver termin i $n$ terminer (første gang man betaler er én termin efter lånet er optaget), og rentefoden er $r$ , så er lånets størrelse:"
   ]
  },
  {
   "cell_type": "markdown",
   "metadata": {},
   "source": [
    "$$G =  y \\frac{1-(1+r)^{-n}}{r} = y \\frac{1-   \\frac{1}{(1+r)^n} }{r}  $$"
   ]
  },
  {
   "cell_type": "code",
   "execution_count": 10,
   "metadata": {},
   "outputs": [],
   "source": [
    "@handcalc(override = \"long\", jupyter_display=True, precision=8)\n",
    "def gæld(y, r, n):\n",
    "  y = y\n",
    "  r = r\n",
    "  n = n\n",
    "  A =  y * (1 - 1/(1+r)**n)/r\n",
    "  return locals()"
   ]
  },
  {
   "cell_type": "markdown",
   "metadata": {},
   "source": [
    "### Eksempel"
   ]
  },
  {
   "cell_type": "markdown",
   "metadata": {},
   "source": [
    "En familie har råd til at betale et lån til en bolig tilbage med en ydelse på 20000 kr pr kvartal gennem 30 år. Bestem hvor stort et beløb familien kan låne, når den kvartalsvise rente er 0,74%"
   ]
  },
  {
   "cell_type": "code",
   "execution_count": 11,
   "metadata": {},
   "outputs": [
    {
     "data": {
      "text/latex": [
       "\\[\n",
       "\\begin{aligned}\n",
       "y &= 20000 \\; \n",
       "\\\\[10pt]\n",
       "r &= 7.41707178 \\times 10 ^ {-3 } \\; \n",
       "\\\\[10pt]\n",
       "n &= 120 \\; \n",
       "\\\\[10pt]\n",
       "A &= y \\cdot \\frac{ 1 - \\frac{ 1 }{ \\left( 1 + r \\right) ^{ n } } }{ r } \\\\&= 20000 \\cdot \\frac{ 1 - \\frac{ 1 }{ \\left( 1 + 7.41707178 \\times 10 ^ {-3 } \\right) ^{ 120 } } }{ 7.41707178 \\times 10 ^ {-3 } } \\\\&= 1585567.07562387  \\\\\n",
       "\\end{aligned}\n",
       "\\]"
      ],
      "text/plain": [
       "<IPython.core.display.Latex object>"
      ]
     },
     "metadata": {},
     "output_type": "display_data"
    }
   ],
   "source": [
    "resultat = gæld(20000, 0.741707178/100, 4*30)"
   ]
  },
  {
   "cell_type": "code",
   "execution_count": 12,
   "metadata": {},
   "outputs": [
    {
     "data": {
      "text/plain": [
       "814432.9243761345"
      ]
     },
     "execution_count": 12,
     "metadata": {},
     "output_type": "execute_result"
    }
   ],
   "source": [
    "20000 * 4 * 30 - resultat['A']"
   ]
  },
  {
   "cell_type": "markdown",
   "metadata": {},
   "source": [
    "### Henvisninger\n",
    "\n",
    "https://www.webmatematik.dk/lektioner/matematik-c/funktioner/opsparingsannuitet\n",
    "\n",
    "https://www.webmatematik.dk/lektioner/matematik-c/funktioner/galdsannuitet"
   ]
  },
  {
   "cell_type": "code",
   "execution_count": 13,
   "metadata": {},
   "outputs": [
    {
     "ename": "NameError",
     "evalue": "name 'G' is not defined",
     "output_type": "error",
     "traceback": [
      "\u001b[0;31m---------------------------------------------------------------------------\u001b[0m",
      "\u001b[0;31mNameError\u001b[0m                                 Traceback (most recent call last)",
      "\u001b[0;32m<ipython-input-13-aaaab253b717>\u001b[0m in \u001b[0;36m<module>\u001b[0;34m\u001b[0m\n\u001b[0;32m----> 1\u001b[0;31m \u001b[0mG\u001b[0m\u001b[0;34m*\u001b[0m \u001b[0mr\u001b[0m\u001b[0;34m/\u001b[0m\u001b[0;34m(\u001b[0m\u001b[0;36m1\u001b[0m\u001b[0;34m-\u001b[0m\u001b[0;34m(\u001b[0m\u001b[0;36m1\u001b[0m\u001b[0;34m+\u001b[0m\u001b[0mr\u001b[0m\u001b[0;34m)\u001b[0m\u001b[0;34m^\u001b[0m\u001b[0;34m-\u001b[0m\u001b[0mn\u001b[0m\u001b[0;34m)\u001b[0m\u001b[0;34m\u001b[0m\u001b[0;34m\u001b[0m\u001b[0m\n\u001b[0m",
      "\u001b[0;31mNameError\u001b[0m: name 'G' is not defined"
     ]
    }
   ],
   "source": [
    "G* r/(1-(1+r)^-n)"
   ]
  },
  {
   "cell_type": "code",
   "execution_count": 14,
   "metadata": {},
   "outputs": [],
   "source": [
    "r = 0.741707178/100"
   ]
  },
  {
   "cell_type": "code",
   "execution_count": 39,
   "metadata": {},
   "outputs": [
    {
     "data": {
      "text/plain": [
       "20000.00000000006"
      ]
     },
     "execution_count": 39,
     "metadata": {},
     "output_type": "execute_result"
    }
   ],
   "source": [
    "1585567.07562387 * r /(1-(1+r)**-120)"
   ]
  },
  {
   "cell_type": "code",
   "execution_count": 41,
   "metadata": {},
   "outputs": [],
   "source": [
    "import pandas as pd\n",
    "import numpy as np\n",
    "from collections import OrderedDict"
   ]
  },
  {
   "cell_type": "code",
   "execution_count": 66,
   "metadata": {},
   "outputs": [],
   "source": [
    "def amortize(principal, interest_rate, years, annual_payments):\n",
    "\n",
    "    pmt = -round(np.pmt(interest_rate, years*annual_payments, principal), 2)\n",
    "    # initialize the variables to keep track of the periods and running balances\n",
    "    p = 1\n",
    "    beg_balance = principal\n",
    "    end_balance = principal\n",
    "\n",
    "    while end_balance > 0:\n",
    "\n",
    "        # Recalculate the interest based on the current balance\n",
    "        interest = round((interest_rate * beg_balance), 2)\n",
    "\n",
    "        # Determine payment based on whether or not this period will pay off the loan\n",
    "        pmt = min(pmt, beg_balance + interest)\n",
    "\n",
    "        principal = pmt - interest\n",
    "\n",
    "        # Ensure additional payment gets adjusted if the loan is being paid off\n",
    "        #end_balance = beg_balance - (principal + beg_balance - principal)\n",
    "        end_balance = beg_balance - principal\n",
    "                                     \n",
    "        yield OrderedDict([('Periode', p),\n",
    "                           ('Start hovedstol', beg_balance),\n",
    "                           ('Ydelse', pmt),\n",
    "                           ('Afdrag', principal),\n",
    "                           ('Rente', interest),\n",
    "                           ('Slut hovedstol', end_balance)])\n",
    "\n",
    "        # Increment the counter, balance and date\n",
    "        p += 1\n",
    "        beg_balance = end_balance"
   ]
  },
  {
   "cell_type": "code",
   "execution_count": 69,
   "metadata": {},
   "outputs": [
    {
     "name": "stderr",
     "output_type": "stream",
     "text": [
      "<ipython-input-66-f3e3e1596a13>:3: DeprecationWarning: numpy.pmt is deprecated and will be removed from NumPy 1.20. Use numpy_financial.pmt instead (https://pypi.org/project/numpy-financial/).\n",
      "  pmt = -round(np.pmt(interest_rate, years*annual_payments, principal), 2)\n"
     ]
    },
    {
     "data": {
      "text/html": [
       "<div>\n",
       "<style scoped>\n",
       "    .dataframe tbody tr th:only-of-type {\n",
       "        vertical-align: middle;\n",
       "    }\n",
       "\n",
       "    .dataframe tbody tr th {\n",
       "        vertical-align: top;\n",
       "    }\n",
       "\n",
       "    .dataframe thead th {\n",
       "        text-align: right;\n",
       "    }\n",
       "</style>\n",
       "<table border=\"1\" class=\"dataframe\">\n",
       "  <thead>\n",
       "    <tr style=\"text-align: right;\">\n",
       "      <th></th>\n",
       "      <th>Periode</th>\n",
       "      <th>Start hovedstol</th>\n",
       "      <th>Ydelse</th>\n",
       "      <th>Afdrag</th>\n",
       "      <th>Rente</th>\n",
       "      <th>Slut hovedstol</th>\n",
       "    </tr>\n",
       "  </thead>\n",
       "  <tbody>\n",
       "    <tr>\n",
       "      <th>115</th>\n",
       "      <td>116</td>\n",
       "      <td>97812.685624</td>\n",
       "      <td>20000.000000</td>\n",
       "      <td>19274.520000</td>\n",
       "      <td>725.48</td>\n",
       "      <td>78538.165624</td>\n",
       "    </tr>\n",
       "    <tr>\n",
       "      <th>116</th>\n",
       "      <td>117</td>\n",
       "      <td>78538.165624</td>\n",
       "      <td>20000.000000</td>\n",
       "      <td>19417.480000</td>\n",
       "      <td>582.52</td>\n",
       "      <td>59120.685624</td>\n",
       "    </tr>\n",
       "    <tr>\n",
       "      <th>117</th>\n",
       "      <td>118</td>\n",
       "      <td>59120.685624</td>\n",
       "      <td>20000.000000</td>\n",
       "      <td>19561.500000</td>\n",
       "      <td>438.50</td>\n",
       "      <td>39559.185624</td>\n",
       "    </tr>\n",
       "    <tr>\n",
       "      <th>118</th>\n",
       "      <td>119</td>\n",
       "      <td>39559.185624</td>\n",
       "      <td>20000.000000</td>\n",
       "      <td>19706.590000</td>\n",
       "      <td>293.41</td>\n",
       "      <td>19852.595624</td>\n",
       "    </tr>\n",
       "    <tr>\n",
       "      <th>119</th>\n",
       "      <td>120</td>\n",
       "      <td>19852.595624</td>\n",
       "      <td>19999.845624</td>\n",
       "      <td>19852.595624</td>\n",
       "      <td>147.25</td>\n",
       "      <td>0.000000</td>\n",
       "    </tr>\n",
       "  </tbody>\n",
       "</table>\n",
       "</div>"
      ],
      "text/plain": [
       "     Periode  Start hovedstol        Ydelse        Afdrag   Rente  \\\n",
       "115      116     97812.685624  20000.000000  19274.520000  725.48   \n",
       "116      117     78538.165624  20000.000000  19417.480000  582.52   \n",
       "117      118     59120.685624  20000.000000  19561.500000  438.50   \n",
       "118      119     39559.185624  20000.000000  19706.590000  293.41   \n",
       "119      120     19852.595624  19999.845624  19852.595624  147.25   \n",
       "\n",
       "     Slut hovedstol  \n",
       "115    78538.165624  \n",
       "116    59120.685624  \n",
       "117    39559.185624  \n",
       "118    19852.595624  \n",
       "119        0.000000  "
      ]
     },
     "execution_count": 69,
     "metadata": {},
     "output_type": "execute_result"
    }
   ],
   "source": [
    "schedule = pd.DataFrame(amortize(1585567.07562387, 0.00741707178, 30, 4))\n",
    "schedule.tail()"
   ]
  },
  {
   "cell_type": "code",
   "execution_count": 50,
   "metadata": {},
   "outputs": [
    {
     "name": "stderr",
     "output_type": "stream",
     "text": [
      "<ipython-input-50-555fd4e5787b>:2: DeprecationWarning: numpy.pmt is deprecated and will be removed from NumPy 1.20. Use numpy_financial.pmt instead (https://pypi.org/project/numpy-financial/).\n",
      "  np.pmt(0.00741707178, 30*4, 1585567.07562387)\n"
     ]
    },
    {
     "data": {
      "text/plain": [
       "-20000.00000000006"
      ]
     },
     "execution_count": 50,
     "metadata": {},
     "output_type": "execute_result"
    }
   ],
   "source": [
    "#np.pmt(interest_rate/annual_payments, years*annual_payments, principal)\n",
    "np.pmt(0.00741707178, 30*4, 1585567.07562387)"
   ]
  },
  {
   "cell_type": "code",
   "execution_count": 68,
   "metadata": {},
   "outputs": [
    {
     "data": {
      "text/plain": [
       "814432.77"
      ]
     },
     "execution_count": 68,
     "metadata": {},
     "output_type": "execute_result"
    }
   ],
   "source": [
    "schedule['Rente'].sum()"
   ]
  },
  {
   "cell_type": "code",
   "execution_count": null,
   "metadata": {},
   "outputs": [],
   "source": []
  }
 ],
 "metadata": {
  "kernelspec": {
   "display_name": "Python 3",
   "language": "python",
   "name": "python3"
  },
  "language_info": {
   "codemirror_mode": {
    "name": "ipython",
    "version": 3
   },
   "file_extension": ".py",
   "mimetype": "text/x-python",
   "name": "python",
   "nbconvert_exporter": "python",
   "pygments_lexer": "ipython3",
   "version": "3.9.2"
  }
 },
 "nbformat": 4,
 "nbformat_minor": 4
}
