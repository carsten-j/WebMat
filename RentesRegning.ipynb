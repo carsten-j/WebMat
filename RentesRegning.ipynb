{
 "cells": [
  {
   "cell_type": "code",
   "execution_count": 253,
   "metadata": {},
   "outputs": [],
   "source": [
    "import handcalcs.render\n",
    "from handcalcs.decorator import handcalc"
   ]
  },
  {
   "cell_type": "markdown",
   "metadata": {},
   "source": [
    "# Rentesregning, annuitetsopsparing og -gæld"
   ]
  },
  {
   "cell_type": "markdown",
   "metadata": {},
   "source": [
    "## Renteomregning - år til måned"
   ]
  },
  {
   "cell_type": "markdown",
   "metadata": {},
   "source": [
    "$$r_m = (1+r_å)^{1/12} - 1 $$"
   ]
  },
  {
   "cell_type": "markdown",
   "metadata": {},
   "source": [
    "## Renteomregning - år til kvartal"
   ]
  },
  {
   "cell_type": "markdown",
   "metadata": {},
   "source": [
    "$$r_k = (1+r_å)^{1/4} - 1 $$"
   ]
  },
  {
   "cell_type": "code",
   "execution_count": 245,
   "metadata": {},
   "outputs": [],
   "source": [
    "@handcalc(override = \"long\", jupyter_display=True, precision=4)\n",
    "def å2m(r):\n",
    "  r_m = (1 + r)**(1/12) - 1"
   ]
  },
  {
   "cell_type": "code",
   "execution_count": 246,
   "metadata": {},
   "outputs": [],
   "source": [
    "@handcalc(override = \"long\", jupyter_display=True, precision=4)\n",
    "def å2k(r):\n",
    "  r_k = ((1 + r)**(1/4) - 1)\n",
    "  return locals()"
   ]
  },
  {
   "cell_type": "markdown",
   "metadata": {},
   "source": [
    "### Eksempel"
   ]
  },
  {
   "cell_type": "markdown",
   "metadata": {},
   "source": [
    "Bestem den kvartalsvise rente, hvis den årlige rente er $3\\%$"
   ]
  },
  {
   "cell_type": "code",
   "execution_count": 248,
   "metadata": {},
   "outputs": [
    {
     "data": {
      "text/latex": [
       "\\[\n",
       "\\begin{aligned}\n",
       "r_{k} &= \\left( \\left( 1 + r \\right) ^{ \\left( \\frac{ 1 }{ 4 } \\right) } - 1 \\right) \\\\&= \\left( \\left( 1 + 0.03 \\right) ^{ \\left( \\frac{ 1 }{ 4 } \\right) } - 1 \\right) \\\\&= 7.4171 \\times 10 ^ {-3 }  \\\\\n",
       "\\end{aligned}\n",
       "\\]"
      ],
      "text/plain": [
       "<IPython.core.display.Latex object>"
      ]
     },
     "metadata": {},
     "output_type": "display_data"
    }
   ],
   "source": [
    "resultat = å2k(0.03)"
   ]
  },
  {
   "cell_type": "markdown",
   "metadata": {},
   "source": [
    "dvs, den kvartalsvise rente er "
   ]
  },
  {
   "cell_type": "code",
   "execution_count": 234,
   "metadata": {},
   "outputs": [
    {
     "data": {
      "text/plain": [
       "'0.7417%'"
      ]
     },
     "execution_count": 234,
     "metadata": {},
     "output_type": "execute_result"
    }
   ],
   "source": [
    "f\"{resultat['r_k']:.4%}\""
   ]
  },
  {
   "cell_type": "markdown",
   "metadata": {},
   "source": [
    "## Annuitetsopsparing"
   ]
  },
  {
   "cell_type": "markdown",
   "metadata": {},
   "source": [
    "Hvis man indbetaler det samme beløb $b$ hver termin, og rentefoden er $r$, så er kapitalen $A$ umiddelbart efter den $n$’te indbetaling:"
   ]
  },
  {
   "cell_type": "markdown",
   "metadata": {},
   "source": [
    "$$A = b\\frac{(1 + r )^n - 1 }{r}$$"
   ]
  },
  {
   "cell_type": "code",
   "execution_count": 225,
   "metadata": {},
   "outputs": [],
   "source": [
    "@handcalc(override = \"long\", jupyter_display=True, precision=8)\n",
    "def opsparing(b, r, n):\n",
    "  b = b\n",
    "  r = r\n",
    "  n = n\n",
    "  A = b * ((1+r)**n - 1)/r\n",
    "  return locals()"
   ]
  },
  {
   "cell_type": "markdown",
   "metadata": {},
   "source": [
    "### Eksempel"
   ]
  },
  {
   "cell_type": "markdown",
   "metadata": {},
   "source": [
    "En familie vil spare op til deres drømmehus. De vil hver måned indbetale 6500 kr. Den månedlige rente er $0,25\\%$. Bestem saldoen på familiens opsparing efter 10 år"
   ]
  },
  {
   "cell_type": "code",
   "execution_count": 227,
   "metadata": {},
   "outputs": [
    {
     "data": {
      "text/latex": [
       "\\[\n",
       "\\begin{aligned}\n",
       "b &= 6500 \\; \n",
       "\\\\[10pt]\n",
       "r &= 0.0025 \\; \n",
       "\\\\[10pt]\n",
       "n &= 120 \\; \n",
       "\\\\[10pt]\n",
       "A &= b \\cdot \\frac{ \\left( 1 + r \\right) ^{ n } - 1 }{ r } \\\\&= 6500 \\cdot \\frac{ \\left( 1 + 0.0025 \\right) ^{ 120 } - 1 }{ 0.0025 } \\\\&= 908319.22269614  \\\\\n",
       "\\end{aligned}\n",
       "\\]"
      ],
      "text/plain": [
       "<IPython.core.display.Latex object>"
      ]
     },
     "metadata": {},
     "output_type": "display_data"
    }
   ],
   "source": [
    "res = opsparing(6500, 0.25/100, 4*30)"
   ]
  },
  {
   "cell_type": "markdown",
   "metadata": {},
   "source": [
    "## Gældsannuitet"
   ]
  },
  {
   "cell_type": "markdown",
   "metadata": {},
   "source": [
    "Hvis man indbetaler ydelsen y hver termin i n terminer (første gang man betaler er én termin efter lånet er optaget), og rentefoden er r , så er lånets størrelse:"
   ]
  },
  {
   "cell_type": "markdown",
   "metadata": {},
   "source": [
    "$$G =  y \\frac{1-(1+r)^{-n}}{r}$$"
   ]
  },
  {
   "cell_type": "code",
   "execution_count": 235,
   "metadata": {},
   "outputs": [],
   "source": [
    "@handcalc(override = \"long\", jupyter_display=True, precision=2)\n",
    "def gæld(y, r, n):\n",
    "  y = y\n",
    "  r = r\n",
    "  n = n\n",
    "  A = y * (1 - (1 + r)**-n)/r\n",
    "  return locals()"
   ]
  },
  {
   "cell_type": "markdown",
   "metadata": {},
   "source": [
    "### Eksempel"
   ]
  },
  {
   "cell_type": "markdown",
   "metadata": {},
   "source": [
    "En familie har råd til at betale et lån til en bolig tilbage med en ydelse på 20000 kr pr kvartal gennem 30 år. Bestem hvor stort et beløb familien kan låne, når den kvartalsvise rente er 0,74%"
   ]
  },
  {
   "cell_type": "code",
   "execution_count": 251,
   "metadata": {},
   "outputs": [
    {
     "data": {
      "text/latex": [
       "\\[\n",
       "\\begin{aligned}\n",
       "y &= 20000 \\; \n",
       "\\\\[10pt]\n",
       "r &= 7.40 \\times 10 ^ {-3 } \\; \n",
       "\\\\[10pt]\n",
       "n &= 120 \\; \n",
       "\\\\[10pt]\n",
       "A &= 1586958.36 \\; \n",
       "\\end{aligned}\n",
       "\\]"
      ],
      "text/plain": [
       "<IPython.core.display.Latex object>"
      ]
     },
     "metadata": {},
     "output_type": "display_data"
    }
   ],
   "source": [
    "resultat = gæld(20000, 0.74/100, 4*30)"
   ]
  },
  {
   "cell_type": "code",
   "execution_count": 252,
   "metadata": {},
   "outputs": [
    {
     "data": {
      "text/plain": [
       "813041.640"
      ]
     },
     "execution_count": 252,
     "metadata": {},
     "output_type": "execute_result"
    }
   ],
   "source": [
    "20000 * 4 * 30 - resultat['A']"
   ]
  },
  {
   "cell_type": "markdown",
   "metadata": {},
   "source": [
    "### Henvisninger\n",
    "\n",
    "https://www.webmatematik.dk/lektioner/matematik-c/funktioner/opsparingsannuitet\n",
    "\n",
    "https://www.webmatematik.dk/lektioner/matematik-c/funktioner/galdsannuitet"
   ]
  }
 ],
 "metadata": {
  "kernelspec": {
   "display_name": "Python 3",
   "language": "python",
   "name": "python3"
  },
  "language_info": {
   "codemirror_mode": {
    "name": "ipython",
    "version": 3
   },
   "file_extension": ".py",
   "mimetype": "text/x-python",
   "name": "python",
   "nbconvert_exporter": "python",
   "pygments_lexer": "ipython3",
   "version": "3.8.3"
  }
 },
 "nbformat": 4,
 "nbformat_minor": 4
}
