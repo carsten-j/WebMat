{
 "cells": [
  {
   "cell_type": "code",
   "execution_count": 1,
   "id": "appointed-isolation",
   "metadata": {},
   "outputs": [],
   "source": [
    "import sympy"
   ]
  },
  {
   "cell_type": "code",
   "execution_count": 2,
   "id": "nervous-television",
   "metadata": {},
   "outputs": [],
   "source": [
    "x = sympy.symbols(\"x\") "
   ]
  },
  {
   "cell_type": "code",
   "execution_count": 3,
   "id": "metropolitan-analyst",
   "metadata": {},
   "outputs": [],
   "source": [
    "f = sympy.Function(\"f\")"
   ]
  },
  {
   "cell_type": "code",
   "execution_count": 4,
   "id": "liable-wrong",
   "metadata": {},
   "outputs": [],
   "source": [
    "ode = f(x).diff(x) - x**2 - f(x) + 2"
   ]
  },
  {
   "cell_type": "code",
   "execution_count": 6,
   "id": "durable-preparation",
   "metadata": {},
   "outputs": [
    {
     "data": {
      "text/latex": [
       "$\\displaystyle - x^{2} - f{\\left(x \\right)} + \\frac{d}{d x} f{\\left(x \\right)} + 2 = 0$"
      ],
      "text/plain": [
       "Eq(-x**2 - f(x) + Derivative(f(x), x) + 2, 0)"
      ]
     },
     "execution_count": 6,
     "metadata": {},
     "output_type": "execute_result"
    }
   ],
   "source": [
    "sympy.Eq(ode, 0)"
   ]
  },
  {
   "cell_type": "code",
   "execution_count": 7,
   "id": "vocal-ribbon",
   "metadata": {},
   "outputs": [],
   "source": [
    "ode_sol = sympy.dsolve(ode)"
   ]
  },
  {
   "cell_type": "code",
   "execution_count": 12,
   "id": "dried-double",
   "metadata": {},
   "outputs": [
    {
     "data": {
      "text/latex": [
       "$\\displaystyle f{\\left(x \\right)} = \\left(C_{1} + x \\left(- x - 2\\right) e^{- x}\\right) e^{x}$"
      ],
      "text/plain": [
       "Eq(f(x), (C1 + x*(-x - 2)*exp(-x))*exp(x))"
      ]
     },
     "execution_count": 12,
     "metadata": {},
     "output_type": "execute_result"
    }
   ],
   "source": [
    "ode_sol"
   ]
  },
  {
   "cell_type": "code",
   "execution_count": null,
   "id": "eleven-ebony",
   "metadata": {},
   "outputs": [],
   "source": []
  },
  {
   "cell_type": "code",
   "execution_count": 20,
   "id": "impossible-quantity",
   "metadata": {},
   "outputs": [],
   "source": [
    "f = 2 * sympy.exp(x) - x**2 - 2*x"
   ]
  },
  {
   "cell_type": "code",
   "execution_count": 24,
   "id": "progressive-collar",
   "metadata": {},
   "outputs": [
    {
     "data": {
      "text/latex": [
       "$\\displaystyle - 2 x + 2 e^{x} - 2$"
      ],
      "text/plain": [
       "-2*x + 2*exp(x) - 2"
      ]
     },
     "execution_count": 24,
     "metadata": {},
     "output_type": "execute_result"
    }
   ],
   "source": [
    "f.diff(x)"
   ]
  },
  {
   "cell_type": "code",
   "execution_count": 25,
   "id": "specific-concord",
   "metadata": {},
   "outputs": [
    {
     "data": {
      "text/latex": [
       "$\\displaystyle - 2 x + 2 e^{x} - 2$"
      ],
      "text/plain": [
       "-2*x + 2*exp(x) - 2"
      ]
     },
     "execution_count": 25,
     "metadata": {},
     "output_type": "execute_result"
    }
   ],
   "source": [
    "x**2 + f - 2"
   ]
  },
  {
   "cell_type": "code",
   "execution_count": 4,
   "id": "fabulous-dryer",
   "metadata": {},
   "outputs": [],
   "source": [
    "f = 5 * sympy.exp(-0.5 * x**2)"
   ]
  },
  {
   "cell_type": "code",
   "execution_count": 5,
   "id": "tender-broadcasting",
   "metadata": {},
   "outputs": [
    {
     "data": {
      "text/latex": [
       "$\\displaystyle - 5.0 x e^{- 0.5 x^{2}}$"
      ],
      "text/plain": [
       "-5.0*x*exp(-0.5*x**2)"
      ]
     },
     "execution_count": 5,
     "metadata": {},
     "output_type": "execute_result"
    }
   ],
   "source": [
    "f.diff(x)"
   ]
  },
  {
   "cell_type": "code",
   "execution_count": 6,
   "id": "retired-america",
   "metadata": {},
   "outputs": [
    {
     "data": {
      "text/latex": [
       "$\\displaystyle 5 x e^{- 0.5 x^{2}}$"
      ],
      "text/plain": [
       "5*x*exp(-0.5*x**2)"
      ]
     },
     "execution_count": 6,
     "metadata": {},
     "output_type": "execute_result"
    }
   ],
   "source": [
    "f * x"
   ]
  },
  {
   "cell_type": "code",
   "execution_count": null,
   "id": "violent-hotel",
   "metadata": {},
   "outputs": [],
   "source": []
  }
 ],
 "metadata": {
  "kernelspec": {
   "display_name": "Python 3",
   "language": "python",
   "name": "python3"
  },
  "language_info": {
   "codemirror_mode": {
    "name": "ipython",
    "version": 3
   },
   "file_extension": ".py",
   "mimetype": "text/x-python",
   "name": "python",
   "nbconvert_exporter": "python",
   "pygments_lexer": "ipython3",
   "version": "3.9.2"
  }
 },
 "nbformat": 4,
 "nbformat_minor": 5
}
