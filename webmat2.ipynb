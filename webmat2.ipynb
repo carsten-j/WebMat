{
 "cells": [
  {
   "cell_type": "code",
   "execution_count": 3,
   "metadata": {},
   "outputs": [],
   "source": [
    "import numpy as np\n",
    "import matplotlib.pyplot as plt\n",
    "from sympy import *\n",
    "#import handcalcs.render\n",
    "init_printing() # sympy expression printing\n",
    "import plotly.graph_objects as go\n",
    "import plotly.express as px\n",
    "from scipy import optimize\n",
    "from IPython.display import display, Math"
   ]
  },
  {
   "cell_type": "markdown",
   "metadata": {},
   "source": [
    "## Afledede funktioner\n",
    "\n",
    "|$f(x)$   | $f'(x)$             | \n",
    "|---------|---------------------|\n",
    "|$x$      | 1234567890                   |\n",
    "|$kx$     | $k$                 |\n",
    "|$x^n$    | $nx^{n-1}$          |\n",
    "|$1/x$    | $\\frac{-1}{x^{2k}}$ |\n",
    "|$a^x$    | $a^x \\ln(a)$        |\n",
    "|$e^x$    | $e^x$               |\n",
    "|$e^{kx}$ | $ke^{kx}$           |\n",
    "|$kx$     | $k$                 |\n",
    "|$ln(x)$  | $\\frac{1}{x}$       |\n"
   ]
  },
  {
   "cell_type": "code",
   "execution_count": 67,
   "metadata": {},
   "outputs": [],
   "source": [
    "p = np.poly1d([1, -9, 24, -16])"
   ]
  },
  {
   "cell_type": "code",
   "execution_count": 68,
   "metadata": {},
   "outputs": [
    {
     "data": {
      "image/png": "[encoded data removed]",
      "text/latex": [
       "$\\displaystyle x^{3} - 9 x^{2} + 24 x - 16$"
      ],
      "text/plain": [
       " 3      2            \n",
       "x  - 9⋅x  + 24⋅x - 16"
      ]
     },
     "execution_count": 68,
     "metadata": {},
     "output_type": "execute_result"
    }
   ],
   "source": [
    "x = symbols('x')\n",
    "Poly(p.coef,x).as_expr()"
   ]
  },
  {
   "cell_type": "code",
   "execution_count": 69,
   "metadata": {},
   "outputs": [
    {
     "data": {
      "text/latex": [
       "$\\displaystyle \\frac{1}{2} x^{3} - 9 x^{2} + 24 x - 16$"
      ],
      "text/plain": [
       "<IPython.core.display.Math object>"
      ]
     },
     "metadata": {},
     "output_type": "display_data"
    }
   ],
   "source": [
    "expr = latex(Poly(p.coef,x).as_expr())\n",
    "\n",
    "display(Math('\\\\frac{1}{2} %s' %latex(expr)))"
   ]
  },
  {
   "cell_type": "code",
   "execution_count": 70,
   "metadata": {},
   "outputs": [
    {
     "name": "stdout",
     "output_type": "stream",
     "text": [
      "   3     2\n",
      "1 x - 9 x + 24 x - 16\n"
     ]
    }
   ],
   "source": [
    "print(p)"
   ]
  },
  {
   "cell_type": "code",
   "execution_count": 71,
   "metadata": {},
   "outputs": [
    {
     "data": {
      "text/plain": [
       "array([4.+2.58095683e-08j, 4.-2.58095683e-08j, 1.+0.00000000e+00j])"
      ]
     },
     "execution_count": 71,
     "metadata": {},
     "output_type": "execute_result"
    }
   ],
   "source": [
    "np.roots(p)"
   ]
  },
  {
   "cell_type": "code",
   "execution_count": 63,
   "metadata": {},
   "outputs": [],
   "source": [
    "dp = np.polyder(p)"
   ]
  },
  {
   "cell_type": "code",
   "execution_count": 64,
   "metadata": {},
   "outputs": [
    {
     "name": "stdout",
     "output_type": "stream",
     "text": [
      "   2\n",
      "3 x - 18 x + 24\n"
     ]
    }
   ],
   "source": [
    "print(dp)"
   ]
  },
  {
   "cell_type": "code",
   "execution_count": 26,
   "metadata": {},
   "outputs": [],
   "source": [
    "x = np.linspace(-1, 6 ,100)"
   ]
  },
  {
   "cell_type": "code",
   "execution_count": 27,
   "metadata": {},
   "outputs": [],
   "source": [
    "#%timeit p(x)"
   ]
  },
  {
   "cell_type": "code",
   "execution_count": 28,
   "metadata": {},
   "outputs": [],
   "source": [
    "#%timeit np.polyval(p,x)"
   ]
  },
  {
   "cell_type": "code",
   "execution_count": 73,
   "metadata": {},
   "outputs": [
    {
     "data": {
      "text/plain": [
       "0"
      ]
     },
     "execution_count": 73,
     "metadata": {},
     "output_type": "execute_result"
    }
   ],
   "source": [
    "p(4)"
   ]
  },
  {
   "cell_type": "code",
   "execution_count": 44,
   "metadata": {},
   "outputs": [],
   "source": [
    "z = np.full(100,1)\n",
    "t = np.full(100,5)"
   ]
  },
  {
   "cell_type": "code",
   "execution_count": 45,
   "metadata": {},
   "outputs": [
    {
     "data": {
      "application/vnd.plotly.v1+json": {
       "config": {
        "plotlyServerURL": "https://plot.ly"
       },
       "data": [
        {
         "hovertemplate": "variable=wide_variable_0<br>x=%{x}<br>value=%{y}<extra></extra>",
         "legendgroup": "wide_variable_0",
         "line": {
          "color": "#636efa",
          "dash": "solid"
         },
         "mode": "lines",
         "name": "wide_variable_0",
         "orientation": "v",
         "showlegend": true,
         "type": "scatter",
         "x": [
          -1,
          -0.9292929292929293,
          -0.8585858585858586,
          -0.7878787878787878,
          -0.7171717171717171,
          -0.6464646464646464,
          -0.5757575757575758,
          -0.5050505050505051,
          -0.43434343434343436,
          -0.36363636363636365,
          -0.29292929292929293,
          -0.2222222222222222,
          -0.1515151515151516,
          -0.08080808080808088,
          -0.010101010101010166,
          0.06060606060606055,
          0.13131313131313127,
          0.202020202020202,
          0.2727272727272727,
          0.3434343434343434,
          0.41414141414141414,
          0.48484848484848486,
          0.5555555555555556,
          0.6262626262626263,
          0.6969696969696968,
          0.7676767676767675,
          0.8383838383838382,
          0.909090909090909,
          0.9797979797979797,
          1.0505050505050506,
          1.121212121212121,
          1.191919191919192,
          1.2626262626262625,
          1.333333333333333,
          1.404040404040404,
          1.4747474747474745,
          1.5454545454545454,
          1.616161616161616,
          1.6868686868686869,
          1.7575757575757573,
          1.8282828282828283,
          1.8989898989898988,
          1.9696969696969697,
          2.04040404040404,
          2.111111111111111,
          2.1818181818181817,
          2.2525252525252526,
          2.323232323232323,
          2.3939393939393936,
          2.4646464646464645,
          2.535353535353535,
          2.606060606060606,
          2.6767676767676765,
          2.7474747474747474,
          2.818181818181818,
          2.888888888888889,
          2.9595959595959593,
          3.0303030303030303,
          3.101010101010101,
          3.1717171717171713,
          3.242424242424242,
          3.313131313131313,
          3.383838383838384,
          3.454545454545454,
          3.525252525252525,
          3.595959595959596,
          3.666666666666666,
          3.737373737373737,
          3.808080808080808,
          3.878787878787879,
          3.949494949494949,
          4.02020202020202,
          4.090909090909091,
          4.161616161616162,
          4.232323232323232,
          4.303030303030303,
          4.373737373737374,
          4.444444444444445,
          4.515151515151515,
          4.585858585858586,
          4.656565656565657,
          4.727272727272727,
          4.797979797979798,
          4.8686868686868685,
          4.9393939393939394,
          5.0101010101010095,
          5.08080808080808,
          5.151515151515151,
          5.222222222222222,
          5.292929292929292,
          5.363636363636363,
          5.434343434343434,
          5.505050505050505,
          5.575757575757575,
          5.646464646464646,
          5.717171717171717,
          5.787878787878787,
          5.858585858585858,
          5.929292929292929,
          6
         ],
         "xaxis": "x",
         "y": [
          -49,
          -45.87782219707533,
          -42.87351115480898,
          -39.984945877507855,
          -37.21000536947889,
          -34.54656863502899,
          -31.992514678465096,
          -29.5457225040941,
          -27.20407111622294,
          -24.96543951915853,
          -22.82770671720779,
          -20.78875171467764,
          -18.846453515875005,
          -16.9986911251068,
          -15.243343546679942,
          -13.578289784901356,
          -12.001408844077961,
          -10.510579728516674,
          -9.103681442524419,
          -7.778592990408112,
          -6.533193376474674,
          -5.365361605031026,
          -4.272976680384087,
          -3.2539176068407762,
          -2.3060633887080186,
          -1.4272930302927271,
          -0.6154855359018221,
          0.13148009015777262,
          0.815724843579142,
          1.439369720055364,
          2.0045357152795162,
          2.5133438249446804,
          2.9679150447439397,
          3.3703703703703702,
          3.722830797517055,
          4.027417321877067,
          4.2862509391435,
          4.501452645009426,
          4.6751434351679215,
          4.8094443053120735,
          4.906476251134961,
          4.968360268329661,
          4.997217352589253,
          4.9951684996068195,
          4.964334705075444,
          4.906836964688207,
          4.824796274138176,
          4.72033362911845,
          4.59557002532209,
          4.452626458442193,
          4.2936239241718255,
          4.120683418204077,
          3.935925936232028,
          3.7414724739487504,
          3.5394440270473417,
          3.3319615912208533,
          3.121146162162386,
          2.9091187355650163,
          2.69800030712182,
          2.489911872525891,
          2.2869744274702946,
          2.0913089676481214,
          1.9050364887524367,
          1.730277986476331,
          1.5691544565128908,
          1.4237868945551782,
          1.2962962962963012,
          1.188803657429304,
          1.1034299736473017,
          1.0422962406433527,
          1.0075234541105402,
          1.001232609741944,
          1.0255447032306506,
          1.0825807302697399,
          1.1744616865522914,
          1.3033085677713778,
          1.4712423696200894,
          1.6803840877914915,
          1.9328547179786888,
          2.230775255874729,
          2.576266697172727,
          2.971450037565731,
          3.4184462727468485,
          3.9193763984091525,
          4.476361410245705,
          5.091522303949603,
          5.7669800752139295,
          6.504855719731751,
          7.3072702331961565,
          8.176344611300227,
          9.114199849737034,
          10.122956944199668,
          11.204736890381213,
          12.361660683974723,
          13.595849320673306,
          14.909423796170042,
          16.304505106157983,
          17.78321424633024,
          19.347672212379884,
          21
         ],
         "yaxis": "y"
        },
        {
         "hovertemplate": "variable=wide_variable_1<br>x=%{x}<br>value=%{y}<extra></extra>",
         "legendgroup": "wide_variable_1",
         "line": {
          "color": "#EF553B",
          "dash": "solid"
         },
         "mode": "lines",
         "name": "wide_variable_1",
         "orientation": "v",
         "showlegend": true,
         "type": "scatter",
         "x": [
          -1,
          -0.9292929292929293,
          -0.8585858585858586,
          -0.7878787878787878,
          -0.7171717171717171,
          -0.6464646464646464,
          -0.5757575757575758,
          -0.5050505050505051,
          -0.43434343434343436,
          -0.36363636363636365,
          -0.29292929292929293,
          -0.2222222222222222,
          -0.1515151515151516,
          -0.08080808080808088,
          -0.010101010101010166,
          0.06060606060606055,
          0.13131313131313127,
          0.202020202020202,
          0.2727272727272727,
          0.3434343434343434,
          0.41414141414141414,
          0.48484848484848486,
          0.5555555555555556,
          0.6262626262626263,
          0.6969696969696968,
          0.7676767676767675,
          0.8383838383838382,
          0.909090909090909,
          0.9797979797979797,
          1.0505050505050506,
          1.121212121212121,
          1.191919191919192,
          1.2626262626262625,
          1.333333333333333,
          1.404040404040404,
          1.4747474747474745,
          1.5454545454545454,
          1.616161616161616,
          1.6868686868686869,
          1.7575757575757573,
          1.8282828282828283,
          1.8989898989898988,
          1.9696969696969697,
          2.04040404040404,
          2.111111111111111,
          2.1818181818181817,
          2.2525252525252526,
          2.323232323232323,
          2.3939393939393936,
          2.4646464646464645,
          2.535353535353535,
          2.606060606060606,
          2.6767676767676765,
          2.7474747474747474,
          2.818181818181818,
          2.888888888888889,
          2.9595959595959593,
          3.0303030303030303,
          3.101010101010101,
          3.1717171717171713,
          3.242424242424242,
          3.313131313131313,
          3.383838383838384,
          3.454545454545454,
          3.525252525252525,
          3.595959595959596,
          3.666666666666666,
          3.737373737373737,
          3.808080808080808,
          3.878787878787879,
          3.949494949494949,
          4.02020202020202,
          4.090909090909091,
          4.161616161616162,
          4.232323232323232,
          4.303030303030303,
          4.373737373737374,
          4.444444444444445,
          4.515151515151515,
          4.585858585858586,
          4.656565656565657,
          4.727272727272727,
          4.797979797979798,
          4.8686868686868685,
          4.9393939393939394,
          5.0101010101010095,
          5.08080808080808,
          5.151515151515151,
          5.222222222222222,
          5.292929292929292,
          5.363636363636363,
          5.434343434343434,
          5.505050505050505,
          5.575757575757575,
          5.646464646464646,
          5.717171717171717,
          5.787878787878787,
          5.858585858585858,
          5.929292929292929,
          6
         ],
         "xaxis": "x",
         "y": [
          1,
          1,
          1,
          1,
          1,
          1,
          1,
          1,
          1,
          1,
          1,
          1,
          1,
          1,
          1,
          1,
          1,
          1,
          1,
          1,
          1,
          1,
          1,
          1,
          1,
          1,
          1,
          1,
          1,
          1,
          1,
          1,
          1,
          1,
          1,
          1,
          1,
          1,
          1,
          1,
          1,
          1,
          1,
          1,
          1,
          1,
          1,
          1,
          1,
          1,
          1,
          1,
          1,
          1,
          1,
          1,
          1,
          1,
          1,
          1,
          1,
          1,
          1,
          1,
          1,
          1,
          1,
          1,
          1,
          1,
          1,
          1,
          1,
          1,
          1,
          1,
          1,
          1,
          1,
          1,
          1,
          1,
          1,
          1,
          1,
          1,
          1,
          1,
          1,
          1,
          1,
          1,
          1,
          1,
          1,
          1,
          1,
          1,
          1,
          1
         ],
         "yaxis": "y"
        },
        {
         "hovertemplate": "variable=wide_variable_2<br>x=%{x}<br>value=%{y}<extra></extra>",
         "legendgroup": "wide_variable_2",
         "line": {
          "color": "#00cc96",
          "dash": "solid"
         },
         "mode": "lines",
         "name": "wide_variable_2",
         "orientation": "v",
         "showlegend": true,
         "type": "scatter",
         "x": [
          -1,
          -0.9292929292929293,
          -0.8585858585858586,
          -0.7878787878787878,
          -0.7171717171717171,
          -0.6464646464646464,
          -0.5757575757575758,
          -0.5050505050505051,
          -0.43434343434343436,
          -0.36363636363636365,
          -0.29292929292929293,
          -0.2222222222222222,
          -0.1515151515151516,
          -0.08080808080808088,
          -0.010101010101010166,
          0.06060606060606055,
          0.13131313131313127,
          0.202020202020202,
          0.2727272727272727,
          0.3434343434343434,
          0.41414141414141414,
          0.48484848484848486,
          0.5555555555555556,
          0.6262626262626263,
          0.6969696969696968,
          0.7676767676767675,
          0.8383838383838382,
          0.909090909090909,
          0.9797979797979797,
          1.0505050505050506,
          1.121212121212121,
          1.191919191919192,
          1.2626262626262625,
          1.333333333333333,
          1.404040404040404,
          1.4747474747474745,
          1.5454545454545454,
          1.616161616161616,
          1.6868686868686869,
          1.7575757575757573,
          1.8282828282828283,
          1.8989898989898988,
          1.9696969696969697,
          2.04040404040404,
          2.111111111111111,
          2.1818181818181817,
          2.2525252525252526,
          2.323232323232323,
          2.3939393939393936,
          2.4646464646464645,
          2.535353535353535,
          2.606060606060606,
          2.6767676767676765,
          2.7474747474747474,
          2.818181818181818,
          2.888888888888889,
          2.9595959595959593,
          3.0303030303030303,
          3.101010101010101,
          3.1717171717171713,
          3.242424242424242,
          3.313131313131313,
          3.383838383838384,
          3.454545454545454,
          3.525252525252525,
          3.595959595959596,
          3.666666666666666,
          3.737373737373737,
          3.808080808080808,
          3.878787878787879,
          3.949494949494949,
          4.02020202020202,
          4.090909090909091,
          4.161616161616162,
          4.232323232323232,
          4.303030303030303,
          4.373737373737374,
          4.444444444444445,
          4.515151515151515,
          4.585858585858586,
          4.656565656565657,
          4.727272727272727,
          4.797979797979798,
          4.8686868686868685,
          4.9393939393939394,
          5.0101010101010095,
          5.08080808080808,
          5.151515151515151,
          5.222222222222222,
          5.292929292929292,
          5.363636363636363,
          5.434343434343434,
          5.505050505050505,
          5.575757575757575,
          5.646464646464646,
          5.717171717171717,
          5.787878787878787,
          5.858585858585858,
          5.929292929292929,
          6
         ],
         "xaxis": "x",
         "y": [
          5,
          5,
          5,
          5,
          5,
          5,
          5,
          5,
          5,
          5,
          5,
          5,
          5,
          5,
          5,
          5,
          5,
          5,
          5,
          5,
          5,
          5,
          5,
          5,
          5,
          5,
          5,
          5,
          5,
          5,
          5,
          5,
          5,
          5,
          5,
          5,
          5,
          5,
          5,
          5,
          5,
          5,
          5,
          5,
          5,
          5,
          5,
          5,
          5,
          5,
          5,
          5,
          5,
          5,
          5,
          5,
          5,
          5,
          5,
          5,
          5,
          5,
          5,
          5,
          5,
          5,
          5,
          5,
          5,
          5,
          5,
          5,
          5,
          5,
          5,
          5,
          5,
          5,
          5,
          5,
          5,
          5,
          5,
          5,
          5,
          5,
          5,
          5,
          5,
          5,
          5,
          5,
          5,
          5,
          5,
          5,
          5,
          5,
          5,
          5
         ],
         "yaxis": "y"
        }
       ],
       "layout": {
        "autosize": true,
        "legend": {
         "title": {
          "text": "variable"
         },
         "tracegroupgap": 0
        },
        "margin": {
         "t": 60
        },
        "template": {
         "data": {
          "bar": [
           {
            "error_x": {
             "color": "#2a3f5f"
            },
            "error_y": {
             "color": "#2a3f5f"
            },
            "marker": {
             "line": {
              "color": "#E5ECF6",
              "width": 0.5
             }
            },
            "type": "bar"
           }
          ],
          "barpolar": [
           {
            "marker": {
             "line": {
              "color": "#E5ECF6",
              "width": 0.5
             }
            },
            "type": "barpolar"
           }
          ],
          "carpet": [
           {
            "aaxis": {
             "endlinecolor": "#2a3f5f",
             "gridcolor": "white",
             "linecolor": "white",
             "minorgridcolor": "white",
             "startlinecolor": "#2a3f5f"
            },
            "baxis": {
             "endlinecolor": "#2a3f5f",
             "gridcolor": "white",
             "linecolor": "white",
             "minorgridcolor": "white",
             "startlinecolor": "#2a3f5f"
            },
            "type": "carpet"
           }
          ],
          "choropleth": [
           {
            "colorbar": {
             "outlinewidth": 0,
             "ticks": ""
            },
            "type": "choropleth"
           }
          ],
          "contour": [
           {
            "colorbar": {
             "outlinewidth": 0,
             "ticks": ""
            },
            "colorscale": [
             [
              0,
              "#0d0887"
             ],
             [
              0.1111111111111111,
              "#46039f"
             ],
             [
              0.2222222222222222,
              "#7201a8"
             ],
             [
              0.3333333333333333,
              "#9c179e"
             ],
             [
              0.4444444444444444,
              "#bd3786"
             ],
             [
              0.5555555555555556,
              "#d8576b"
             ],
             [
              0.6666666666666666,
              "#ed7953"
             ],
             [
              0.7777777777777778,
              "#fb9f3a"
             ],
             [
              0.8888888888888888,
              "#fdca26"
             ],
             [
              1,
              "#f0f921"
             ]
            ],
            "type": "contour"
           }
          ],
          "contourcarpet": [
           {
            "colorbar": {
             "outlinewidth": 0,
             "ticks": ""
            },
            "type": "contourcarpet"
           }
          ],
          "heatmap": [
           {
            "colorbar": {
             "outlinewidth": 0,
             "ticks": ""
            },
            "colorscale": [
             [
              0,
              "#0d0887"
             ],
             [
              0.1111111111111111,
              "#46039f"
             ],
             [
              0.2222222222222222,
              "#7201a8"
             ],
             [
              0.3333333333333333,
              "#9c179e"
             ],
             [
              0.4444444444444444,
              "#bd3786"
             ],
             [
              0.5555555555555556,
              "#d8576b"
             ],
             [
              0.6666666666666666,
              "#ed7953"
             ],
             [
              0.7777777777777778,
              "#fb9f3a"
             ],
             [
              0.8888888888888888,
              "#fdca26"
             ],
             [
              1,
              "#f0f921"
             ]
            ],
            "type": "heatmap"
           }
          ],
          "heatmapgl": [
           {
            "colorbar": {
             "outlinewidth": 0,
             "ticks": ""
            },
            "colorscale": [
             [
              0,
              "#0d0887"
             ],
             [
              0.1111111111111111,
              "#46039f"
             ],
             [
              0.2222222222222222,
              "#7201a8"
             ],
             [
              0.3333333333333333,
              "#9c179e"
             ],
             [
              0.4444444444444444,
              "#bd3786"
             ],
             [
              0.5555555555555556,
              "#d8576b"
             ],
             [
              0.6666666666666666,
              "#ed7953"
             ],
             [
              0.7777777777777778,
              "#fb9f3a"
             ],
             [
              0.8888888888888888,
              "#fdca26"
             ],
             [
              1,
              "#f0f921"
             ]
            ],
            "type": "heatmapgl"
           }
          ],
          "histogram": [
           {
            "marker": {
             "colorbar": {
              "outlinewidth": 0,
              "ticks": ""
             }
            },
            "type": "histogram"
           }
          ],
          "histogram2d": [
           {
            "colorbar": {
             "outlinewidth": 0,
             "ticks": ""
            },
            "colorscale": [
             [
              0,
              "#0d0887"
             ],
             [
              0.1111111111111111,
              "#46039f"
             ],
             [
              0.2222222222222222,
              "#7201a8"
             ],
             [
              0.3333333333333333,
              "#9c179e"
             ],
             [
              0.4444444444444444,
              "#bd3786"
             ],
             [
              0.5555555555555556,
              "#d8576b"
             ],
             [
              0.6666666666666666,
              "#ed7953"
             ],
             [
              0.7777777777777778,
              "#fb9f3a"
             ],
             [
              0.8888888888888888,
              "#fdca26"
             ],
             [
              1,
              "#f0f921"
             ]
            ],
            "type": "histogram2d"
           }
          ],
          "histogram2dcontour": [
           {
            "colorbar": {
             "outlinewidth": 0,
             "ticks": ""
            },
            "colorscale": [
             [
              0,
              "#0d0887"
             ],
             [
              0.1111111111111111,
              "#46039f"
             ],
             [
              0.2222222222222222,
              "#7201a8"
             ],
             [
              0.3333333333333333,
              "#9c179e"
             ],
             [
              0.4444444444444444,
              "#bd3786"
             ],
             [
              0.5555555555555556,
              "#d8576b"
             ],
             [
              0.6666666666666666,
              "#ed7953"
             ],
             [
              0.7777777777777778,
              "#fb9f3a"
             ],
             [
              0.8888888888888888,
              "#fdca26"
             ],
             [
              1,
              "#f0f921"
             ]
            ],
            "type": "histogram2dcontour"
           }
          ],
          "mesh3d": [
           {
            "colorbar": {
             "outlinewidth": 0,
             "ticks": ""
            },
            "type": "mesh3d"
           }
          ],
          "parcoords": [
           {
            "line": {
             "colorbar": {
              "outlinewidth": 0,
              "ticks": ""
             }
            },
            "type": "parcoords"
           }
          ],
          "pie": [
           {
            "automargin": true,
            "type": "pie"
           }
          ],
          "scatter": [
           {
            "marker": {
             "colorbar": {
              "outlinewidth": 0,
              "ticks": ""
             }
            },
            "type": "scatter"
           }
          ],
          "scatter3d": [
           {
            "line": {
             "colorbar": {
              "outlinewidth": 0,
              "ticks": ""
             }
            },
            "marker": {
             "colorbar": {
              "outlinewidth": 0,
              "ticks": ""
             }
            },
            "type": "scatter3d"
           }
          ],
          "scattercarpet": [
           {
            "marker": {
             "colorbar": {
              "outlinewidth": 0,
              "ticks": ""
             }
            },
            "type": "scattercarpet"
           }
          ],
          "scattergeo": [
           {
            "marker": {
             "colorbar": {
              "outlinewidth": 0,
              "ticks": ""
             }
            },
            "type": "scattergeo"
           }
          ],
          "scattergl": [
           {
            "marker": {
             "colorbar": {
              "outlinewidth": 0,
              "ticks": ""
             }
            },
            "type": "scattergl"
           }
          ],
          "scattermapbox": [
           {
            "marker": {
             "colorbar": {
              "outlinewidth": 0,
              "ticks": ""
             }
            },
            "type": "scattermapbox"
           }
          ],
          "scatterpolar": [
           {
            "marker": {
             "colorbar": {
              "outlinewidth": 0,
              "ticks": ""
             }
            },
            "type": "scatterpolar"
           }
          ],
          "scatterpolargl": [
           {
            "marker": {
             "colorbar": {
              "outlinewidth": 0,
              "ticks": ""
             }
            },
            "type": "scatterpolargl"
           }
          ],
          "scatterternary": [
           {
            "marker": {
             "colorbar": {
              "outlinewidth": 0,
              "ticks": ""
             }
            },
            "type": "scatterternary"
           }
          ],
          "surface": [
           {
            "colorbar": {
             "outlinewidth": 0,
             "ticks": ""
            },
            "colorscale": [
             [
              0,
              "#0d0887"
             ],
             [
              0.1111111111111111,
              "#46039f"
             ],
             [
              0.2222222222222222,
              "#7201a8"
             ],
             [
              0.3333333333333333,
              "#9c179e"
             ],
             [
              0.4444444444444444,
              "#bd3786"
             ],
             [
              0.5555555555555556,
              "#d8576b"
             ],
             [
              0.6666666666666666,
              "#ed7953"
             ],
             [
              0.7777777777777778,
              "#fb9f3a"
             ],
             [
              0.8888888888888888,
              "#fdca26"
             ],
             [
              1,
              "#f0f921"
             ]
            ],
            "type": "surface"
           }
          ],
          "table": [
           {
            "cells": {
             "fill": {
              "color": "#EBF0F8"
             },
             "line": {
              "color": "white"
             }
            },
            "header": {
             "fill": {
              "color": "#C8D4E3"
             },
             "line": {
              "color": "white"
             }
            },
            "type": "table"
           }
          ]
         },
         "layout": {
          "annotationdefaults": {
           "arrowcolor": "#2a3f5f",
           "arrowhead": 0,
           "arrowwidth": 1
          },
          "coloraxis": {
           "colorbar": {
            "outlinewidth": 0,
            "ticks": ""
           }
          },
          "colorscale": {
           "diverging": [
            [
             0,
             "#8e0152"
            ],
            [
             0.1,
             "#c51b7d"
            ],
            [
             0.2,
             "#de77ae"
            ],
            [
             0.3,
             "#f1b6da"
            ],
            [
             0.4,
             "#fde0ef"
            ],
            [
             0.5,
             "#f7f7f7"
            ],
            [
             0.6,
             "#e6f5d0"
            ],
            [
             0.7,
             "#b8e186"
            ],
            [
             0.8,
             "#7fbc41"
            ],
            [
             0.9,
             "#4d9221"
            ],
            [
             1,
             "#276419"
            ]
           ],
           "sequential": [
            [
             0,
             "#0d0887"
            ],
            [
             0.1111111111111111,
             "#46039f"
            ],
            [
             0.2222222222222222,
             "#7201a8"
            ],
            [
             0.3333333333333333,
             "#9c179e"
            ],
            [
             0.4444444444444444,
             "#bd3786"
            ],
            [
             0.5555555555555556,
             "#d8576b"
            ],
            [
             0.6666666666666666,
             "#ed7953"
            ],
            [
             0.7777777777777778,
             "#fb9f3a"
            ],
            [
             0.8888888888888888,
             "#fdca26"
            ],
            [
             1,
             "#f0f921"
            ]
           ],
           "sequentialminus": [
            [
             0,
             "#0d0887"
            ],
            [
             0.1111111111111111,
             "#46039f"
            ],
            [
             0.2222222222222222,
             "#7201a8"
            ],
            [
             0.3333333333333333,
             "#9c179e"
            ],
            [
             0.4444444444444444,
             "#bd3786"
            ],
            [
             0.5555555555555556,
             "#d8576b"
            ],
            [
             0.6666666666666666,
             "#ed7953"
            ],
            [
             0.7777777777777778,
             "#fb9f3a"
            ],
            [
             0.8888888888888888,
             "#fdca26"
            ],
            [
             1,
             "#f0f921"
            ]
           ]
          },
          "colorway": [
           "#636efa",
           "#EF553B",
           "#00cc96",
           "#ab63fa",
           "#FFA15A",
           "#19d3f3",
           "#FF6692",
           "#B6E880",
           "#FF97FF",
           "#FECB52"
          ],
          "font": {
           "color": "#2a3f5f"
          },
          "geo": {
           "bgcolor": "white",
           "lakecolor": "white",
           "landcolor": "#E5ECF6",
           "showlakes": true,
           "showland": true,
           "subunitcolor": "white"
          },
          "hoverlabel": {
           "align": "left"
          },
          "hovermode": "closest",
          "mapbox": {
           "style": "light"
          },
          "paper_bgcolor": "white",
          "plot_bgcolor": "#E5ECF6",
          "polar": {
           "angularaxis": {
            "gridcolor": "white",
            "linecolor": "white",
            "ticks": ""
           },
           "bgcolor": "#E5ECF6",
           "radialaxis": {
            "gridcolor": "white",
            "linecolor": "white",
            "ticks": ""
           }
          },
          "scene": {
           "xaxis": {
            "backgroundcolor": "#E5ECF6",
            "gridcolor": "white",
            "gridwidth": 2,
            "linecolor": "white",
            "showbackground": true,
            "ticks": "",
            "zerolinecolor": "white"
           },
           "yaxis": {
            "backgroundcolor": "#E5ECF6",
            "gridcolor": "white",
            "gridwidth": 2,
            "linecolor": "white",
            "showbackground": true,
            "ticks": "",
            "zerolinecolor": "white"
           },
           "zaxis": {
            "backgroundcolor": "#E5ECF6",
            "gridcolor": "white",
            "gridwidth": 2,
            "linecolor": "white",
            "showbackground": true,
            "ticks": "",
            "zerolinecolor": "white"
           }
          },
          "shapedefaults": {
           "line": {
            "color": "#2a3f5f"
           }
          },
          "ternary": {
           "aaxis": {
            "gridcolor": "white",
            "linecolor": "white",
            "ticks": ""
           },
           "baxis": {
            "gridcolor": "white",
            "linecolor": "white",
            "ticks": ""
           },
           "bgcolor": "#E5ECF6",
           "caxis": {
            "gridcolor": "white",
            "linecolor": "white",
            "ticks": ""
           }
          },
          "title": {
           "x": 0.05
          },
          "xaxis": {
           "automargin": true,
           "gridcolor": "white",
           "linecolor": "white",
           "ticks": "",
           "title": {
            "standoff": 15
           },
           "zerolinecolor": "white",
           "zerolinewidth": 2
          },
          "yaxis": {
           "automargin": true,
           "gridcolor": "white",
           "linecolor": "white",
           "ticks": "",
           "title": {
            "standoff": 15
           },
           "zerolinecolor": "white",
           "zerolinewidth": 2
          }
         }
        },
        "xaxis": {
         "anchor": "y",
         "autorange": true,
         "domain": [
          0,
          1
         ],
         "range": [
          -1,
          6
         ],
         "title": {
          "text": "x"
         },
         "type": "linear"
        },
        "yaxis": {
         "anchor": "x",
         "autorange": true,
         "domain": [
          0,
          1
         ],
         "range": [
          -52.888888888888886,
          24.88888888888889
         ],
         "title": {
          "text": "value"
         },
         "type": "linear"
        }
       }
      },
      "image/png": "[encoded data removed]",
      "text/html": [
       "<div>                            <div id=\"1e7e0fd1-839c-4671-8e2b-6a69264a6277\" class=\"plotly-graph-div\" style=\"height:525px; width:100%;\"></div>            <script type=\"text/javascript\">                require([\"plotly\"], function(Plotly) {                    window.PLOTLYENV=window.PLOTLYENV || {};                                    if (document.getElementById(\"1e7e0fd1-839c-4671-8e2b-6a69264a6277\")) {                    Plotly.newPlot(                        \"1e7e0fd1-839c-4671-8e2b-6a69264a6277\",                        [{\"hovertemplate\": \"variable=wide_variable_0<br>x=%{x}<br>value=%{y}<extra></extra>\", \"legendgroup\": \"wide_variable_0\", \"line\": {\"color\": \"#636efa\", \"dash\": \"solid\"}, \"mode\": \"lines\", \"name\": \"wide_variable_0\", \"orientation\": \"v\", \"showlegend\": true, \"type\": \"scatter\", \"x\": [-1.0, -0.9292929292929293, -0.8585858585858586, -0.7878787878787878, -0.7171717171717171, -0.6464646464646464, -0.5757575757575758, -0.5050505050505051, -0.43434343434343436, -0.36363636363636365, -0.29292929292929293, -0.2222222222222222, -0.1515151515151516, -0.08080808080808088, -0.010101010101010166, 0.06060606060606055, 0.13131313131313127, 0.202020202020202, 0.2727272727272727, 0.3434343434343434, 0.41414141414141414, 0.48484848484848486, 0.5555555555555556, 0.6262626262626263, 0.6969696969696968, 0.7676767676767675, 0.8383838383838382, 0.909090909090909, 0.9797979797979797, 1.0505050505050506, 1.121212121212121, 1.191919191919192, 1.2626262626262625, 1.333333333333333, 1.404040404040404, 1.4747474747474745, 1.5454545454545454, 1.616161616161616, 1.6868686868686869, 1.7575757575757573, 1.8282828282828283, 1.8989898989898988, 1.9696969696969697, 2.04040404040404, 2.111111111111111, 2.1818181818181817, 2.2525252525252526, 2.323232323232323, 2.3939393939393936, 2.4646464646464645, 2.535353535353535, 2.606060606060606, 2.6767676767676765, 2.7474747474747474, 2.818181818181818, 2.888888888888889, 2.9595959595959593, 3.0303030303030303, 3.101010101010101, 3.1717171717171713, 3.242424242424242, 3.313131313131313, 3.383838383838384, 3.454545454545454, 3.525252525252525, 3.595959595959596, 3.666666666666666, 3.737373737373737, 3.808080808080808, 3.878787878787879, 3.949494949494949, 4.02020202020202, 4.090909090909091, 4.161616161616162, 4.232323232323232, 4.303030303030303, 4.373737373737374, 4.444444444444445, 4.515151515151515, 4.585858585858586, 4.656565656565657, 4.727272727272727, 4.797979797979798, 4.8686868686868685, 4.9393939393939394, 5.0101010101010095, 5.08080808080808, 5.151515151515151, 5.222222222222222, 5.292929292929292, 5.363636363636363, 5.434343434343434, 5.505050505050505, 5.575757575757575, 5.646464646464646, 5.717171717171717, 5.787878787878787, 5.858585858585858, 5.929292929292929, 6.0], \"xaxis\": \"x\", \"y\": [-49.0, -45.87782219707533, -42.87351115480898, -39.984945877507855, -37.21000536947889, -34.54656863502899, -31.992514678465096, -29.5457225040941, -27.20407111622294, -24.96543951915853, -22.82770671720779, -20.78875171467764, -18.846453515875005, -16.9986911251068, -15.243343546679942, -13.578289784901356, -12.001408844077961, -10.510579728516674, -9.103681442524419, -7.778592990408112, -6.533193376474674, -5.365361605031026, -4.272976680384087, -3.2539176068407762, -2.3060633887080186, -1.4272930302927271, -0.6154855359018221, 0.13148009015777262, 0.815724843579142, 1.439369720055364, 2.0045357152795162, 2.5133438249446804, 2.9679150447439397, 3.3703703703703702, 3.722830797517055, 4.027417321877067, 4.2862509391435, 4.501452645009426, 4.6751434351679215, 4.8094443053120735, 4.906476251134961, 4.968360268329661, 4.997217352589253, 4.9951684996068195, 4.964334705075444, 4.906836964688207, 4.824796274138176, 4.72033362911845, 4.59557002532209, 4.452626458442193, 4.2936239241718255, 4.120683418204077, 3.935925936232028, 3.7414724739487504, 3.5394440270473417, 3.3319615912208533, 3.121146162162386, 2.9091187355650163, 2.69800030712182, 2.489911872525891, 2.2869744274702946, 2.0913089676481214, 1.9050364887524367, 1.730277986476331, 1.5691544565128908, 1.4237868945551782, 1.2962962962963012, 1.188803657429304, 1.1034299736473017, 1.0422962406433527, 1.0075234541105402, 1.001232609741944, 1.0255447032306506, 1.0825807302697399, 1.1744616865522914, 1.3033085677713778, 1.4712423696200894, 1.6803840877914915, 1.9328547179786888, 2.230775255874729, 2.576266697172727, 2.971450037565731, 3.4184462727468485, 3.9193763984091525, 4.476361410245705, 5.091522303949603, 5.7669800752139295, 6.504855719731751, 7.3072702331961565, 8.176344611300227, 9.114199849737034, 10.122956944199668, 11.204736890381213, 12.361660683974723, 13.595849320673306, 14.909423796170042, 16.304505106157983, 17.78321424633024, 19.347672212379884, 21.0], \"yaxis\": \"y\"}, {\"hovertemplate\": \"variable=wide_variable_1<br>x=%{x}<br>value=%{y}<extra></extra>\", \"legendgroup\": \"wide_variable_1\", \"line\": {\"color\": \"#EF553B\", \"dash\": \"solid\"}, \"mode\": \"lines\", \"name\": \"wide_variable_1\", \"orientation\": \"v\", \"showlegend\": true, \"type\": \"scatter\", \"x\": [-1.0, -0.9292929292929293, -0.8585858585858586, -0.7878787878787878, -0.7171717171717171, -0.6464646464646464, -0.5757575757575758, -0.5050505050505051, -0.43434343434343436, -0.36363636363636365, -0.29292929292929293, -0.2222222222222222, -0.1515151515151516, -0.08080808080808088, -0.010101010101010166, 0.06060606060606055, 0.13131313131313127, 0.202020202020202, 0.2727272727272727, 0.3434343434343434, 0.41414141414141414, 0.48484848484848486, 0.5555555555555556, 0.6262626262626263, 0.6969696969696968, 0.7676767676767675, 0.8383838383838382, 0.909090909090909, 0.9797979797979797, 1.0505050505050506, 1.121212121212121, 1.191919191919192, 1.2626262626262625, 1.333333333333333, 1.404040404040404, 1.4747474747474745, 1.5454545454545454, 1.616161616161616, 1.6868686868686869, 1.7575757575757573, 1.8282828282828283, 1.8989898989898988, 1.9696969696969697, 2.04040404040404, 2.111111111111111, 2.1818181818181817, 2.2525252525252526, 2.323232323232323, 2.3939393939393936, 2.4646464646464645, 2.535353535353535, 2.606060606060606, 2.6767676767676765, 2.7474747474747474, 2.818181818181818, 2.888888888888889, 2.9595959595959593, 3.0303030303030303, 3.101010101010101, 3.1717171717171713, 3.242424242424242, 3.313131313131313, 3.383838383838384, 3.454545454545454, 3.525252525252525, 3.595959595959596, 3.666666666666666, 3.737373737373737, 3.808080808080808, 3.878787878787879, 3.949494949494949, 4.02020202020202, 4.090909090909091, 4.161616161616162, 4.232323232323232, 4.303030303030303, 4.373737373737374, 4.444444444444445, 4.515151515151515, 4.585858585858586, 4.656565656565657, 4.727272727272727, 4.797979797979798, 4.8686868686868685, 4.9393939393939394, 5.0101010101010095, 5.08080808080808, 5.151515151515151, 5.222222222222222, 5.292929292929292, 5.363636363636363, 5.434343434343434, 5.505050505050505, 5.575757575757575, 5.646464646464646, 5.717171717171717, 5.787878787878787, 5.858585858585858, 5.929292929292929, 6.0], \"xaxis\": \"x\", \"y\": [1.0, 1.0, 1.0, 1.0, 1.0, 1.0, 1.0, 1.0, 1.0, 1.0, 1.0, 1.0, 1.0, 1.0, 1.0, 1.0, 1.0, 1.0, 1.0, 1.0, 1.0, 1.0, 1.0, 1.0, 1.0, 1.0, 1.0, 1.0, 1.0, 1.0, 1.0, 1.0, 1.0, 1.0, 1.0, 1.0, 1.0, 1.0, 1.0, 1.0, 1.0, 1.0, 1.0, 1.0, 1.0, 1.0, 1.0, 1.0, 1.0, 1.0, 1.0, 1.0, 1.0, 1.0, 1.0, 1.0, 1.0, 1.0, 1.0, 1.0, 1.0, 1.0, 1.0, 1.0, 1.0, 1.0, 1.0, 1.0, 1.0, 1.0, 1.0, 1.0, 1.0, 1.0, 1.0, 1.0, 1.0, 1.0, 1.0, 1.0, 1.0, 1.0, 1.0, 1.0, 1.0, 1.0, 1.0, 1.0, 1.0, 1.0, 1.0, 1.0, 1.0, 1.0, 1.0, 1.0, 1.0, 1.0, 1.0, 1.0], \"yaxis\": \"y\"}, {\"hovertemplate\": \"variable=wide_variable_2<br>x=%{x}<br>value=%{y}<extra></extra>\", \"legendgroup\": \"wide_variable_2\", \"line\": {\"color\": \"#00cc96\", \"dash\": \"solid\"}, \"mode\": \"lines\", \"name\": \"wide_variable_2\", \"orientation\": \"v\", \"showlegend\": true, \"type\": \"scatter\", \"x\": [-1.0, -0.9292929292929293, -0.8585858585858586, -0.7878787878787878, -0.7171717171717171, -0.6464646464646464, -0.5757575757575758, -0.5050505050505051, -0.43434343434343436, -0.36363636363636365, -0.29292929292929293, -0.2222222222222222, -0.1515151515151516, -0.08080808080808088, -0.010101010101010166, 0.06060606060606055, 0.13131313131313127, 0.202020202020202, 0.2727272727272727, 0.3434343434343434, 0.41414141414141414, 0.48484848484848486, 0.5555555555555556, 0.6262626262626263, 0.6969696969696968, 0.7676767676767675, 0.8383838383838382, 0.909090909090909, 0.9797979797979797, 1.0505050505050506, 1.121212121212121, 1.191919191919192, 1.2626262626262625, 1.333333333333333, 1.404040404040404, 1.4747474747474745, 1.5454545454545454, 1.616161616161616, 1.6868686868686869, 1.7575757575757573, 1.8282828282828283, 1.8989898989898988, 1.9696969696969697, 2.04040404040404, 2.111111111111111, 2.1818181818181817, 2.2525252525252526, 2.323232323232323, 2.3939393939393936, 2.4646464646464645, 2.535353535353535, 2.606060606060606, 2.6767676767676765, 2.7474747474747474, 2.818181818181818, 2.888888888888889, 2.9595959595959593, 3.0303030303030303, 3.101010101010101, 3.1717171717171713, 3.242424242424242, 3.313131313131313, 3.383838383838384, 3.454545454545454, 3.525252525252525, 3.595959595959596, 3.666666666666666, 3.737373737373737, 3.808080808080808, 3.878787878787879, 3.949494949494949, 4.02020202020202, 4.090909090909091, 4.161616161616162, 4.232323232323232, 4.303030303030303, 4.373737373737374, 4.444444444444445, 4.515151515151515, 4.585858585858586, 4.656565656565657, 4.727272727272727, 4.797979797979798, 4.8686868686868685, 4.9393939393939394, 5.0101010101010095, 5.08080808080808, 5.151515151515151, 5.222222222222222, 5.292929292929292, 5.363636363636363, 5.434343434343434, 5.505050505050505, 5.575757575757575, 5.646464646464646, 5.717171717171717, 5.787878787878787, 5.858585858585858, 5.929292929292929, 6.0], \"xaxis\": \"x\", \"y\": [5.0, 5.0, 5.0, 5.0, 5.0, 5.0, 5.0, 5.0, 5.0, 5.0, 5.0, 5.0, 5.0, 5.0, 5.0, 5.0, 5.0, 5.0, 5.0, 5.0, 5.0, 5.0, 5.0, 5.0, 5.0, 5.0, 5.0, 5.0, 5.0, 5.0, 5.0, 5.0, 5.0, 5.0, 5.0, 5.0, 5.0, 5.0, 5.0, 5.0, 5.0, 5.0, 5.0, 5.0, 5.0, 5.0, 5.0, 5.0, 5.0, 5.0, 5.0, 5.0, 5.0, 5.0, 5.0, 5.0, 5.0, 5.0, 5.0, 5.0, 5.0, 5.0, 5.0, 5.0, 5.0, 5.0, 5.0, 5.0, 5.0, 5.0, 5.0, 5.0, 5.0, 5.0, 5.0, 5.0, 5.0, 5.0, 5.0, 5.0, 5.0, 5.0, 5.0, 5.0, 5.0, 5.0, 5.0, 5.0, 5.0, 5.0, 5.0, 5.0, 5.0, 5.0, 5.0, 5.0, 5.0, 5.0, 5.0, 5.0], \"yaxis\": \"y\"}],                        {\"legend\": {\"title\": {\"text\": \"variable\"}, \"tracegroupgap\": 0}, \"margin\": {\"t\": 60}, \"template\": {\"data\": {\"bar\": [{\"error_x\": {\"color\": \"#2a3f5f\"}, \"error_y\": {\"color\": \"#2a3f5f\"}, \"marker\": {\"line\": {\"color\": \"#E5ECF6\", \"width\": 0.5}}, \"type\": \"bar\"}], \"barpolar\": [{\"marker\": {\"line\": {\"color\": \"#E5ECF6\", \"width\": 0.5}}, \"type\": \"barpolar\"}], \"carpet\": [{\"aaxis\": {\"endlinecolor\": \"#2a3f5f\", \"gridcolor\": \"white\", \"linecolor\": \"white\", \"minorgridcolor\": \"white\", \"startlinecolor\": \"#2a3f5f\"}, \"baxis\": {\"endlinecolor\": \"#2a3f5f\", \"gridcolor\": \"white\", \"linecolor\": \"white\", \"minorgridcolor\": \"white\", \"startlinecolor\": \"#2a3f5f\"}, \"type\": \"carpet\"}], \"choropleth\": [{\"colorbar\": {\"outlinewidth\": 0, \"ticks\": \"\"}, \"type\": \"choropleth\"}], \"contour\": [{\"colorbar\": {\"outlinewidth\": 0, \"ticks\": \"\"}, \"colorscale\": [[0.0, \"#0d0887\"], [0.1111111111111111, \"#46039f\"], [0.2222222222222222, \"#7201a8\"], [0.3333333333333333, \"#9c179e\"], [0.4444444444444444, \"#bd3786\"], [0.5555555555555556, \"#d8576b\"], [0.6666666666666666, \"#ed7953\"], [0.7777777777777778, \"#fb9f3a\"], [0.8888888888888888, \"#fdca26\"], [1.0, \"#f0f921\"]], \"type\": \"contour\"}], \"contourcarpet\": [{\"colorbar\": {\"outlinewidth\": 0, \"ticks\": \"\"}, \"type\": \"contourcarpet\"}], \"heatmap\": [{\"colorbar\": {\"outlinewidth\": 0, \"ticks\": \"\"}, \"colorscale\": [[0.0, \"#0d0887\"], [0.1111111111111111, \"#46039f\"], [0.2222222222222222, \"#7201a8\"], [0.3333333333333333, \"#9c179e\"], [0.4444444444444444, \"#bd3786\"], [0.5555555555555556, \"#d8576b\"], [0.6666666666666666, \"#ed7953\"], [0.7777777777777778, \"#fb9f3a\"], [0.8888888888888888, \"#fdca26\"], [1.0, \"#f0f921\"]], \"type\": \"heatmap\"}], \"heatmapgl\": [{\"colorbar\": {\"outlinewidth\": 0, \"ticks\": \"\"}, \"colorscale\": [[0.0, \"#0d0887\"], [0.1111111111111111, \"#46039f\"], [0.2222222222222222, \"#7201a8\"], [0.3333333333333333, \"#9c179e\"], [0.4444444444444444, \"#bd3786\"], [0.5555555555555556, \"#d8576b\"], [0.6666666666666666, \"#ed7953\"], [0.7777777777777778, \"#fb9f3a\"], [0.8888888888888888, \"#fdca26\"], [1.0, \"#f0f921\"]], \"type\": \"heatmapgl\"}], \"histogram\": [{\"marker\": {\"colorbar\": {\"outlinewidth\": 0, \"ticks\": \"\"}}, \"type\": \"histogram\"}], \"histogram2d\": [{\"colorbar\": {\"outlinewidth\": 0, \"ticks\": \"\"}, \"colorscale\": [[0.0, \"#0d0887\"], [0.1111111111111111, \"#46039f\"], [0.2222222222222222, \"#7201a8\"], [0.3333333333333333, \"#9c179e\"], [0.4444444444444444, \"#bd3786\"], [0.5555555555555556, \"#d8576b\"], [0.6666666666666666, \"#ed7953\"], [0.7777777777777778, \"#fb9f3a\"], [0.8888888888888888, \"#fdca26\"], [1.0, \"#f0f921\"]], \"type\": \"histogram2d\"}], \"histogram2dcontour\": [{\"colorbar\": {\"outlinewidth\": 0, \"ticks\": \"\"}, \"colorscale\": [[0.0, \"#0d0887\"], [0.1111111111111111, \"#46039f\"], [0.2222222222222222, \"#7201a8\"], [0.3333333333333333, \"#9c179e\"], [0.4444444444444444, \"#bd3786\"], [0.5555555555555556, \"#d8576b\"], [0.6666666666666666, \"#ed7953\"], [0.7777777777777778, \"#fb9f3a\"], [0.8888888888888888, \"#fdca26\"], [1.0, \"#f0f921\"]], \"type\": \"histogram2dcontour\"}], \"mesh3d\": [{\"colorbar\": {\"outlinewidth\": 0, \"ticks\": \"\"}, \"type\": \"mesh3d\"}], \"parcoords\": [{\"line\": {\"colorbar\": {\"outlinewidth\": 0, \"ticks\": \"\"}}, \"type\": \"parcoords\"}], \"pie\": [{\"automargin\": true, \"type\": \"pie\"}], \"scatter\": [{\"marker\": {\"colorbar\": {\"outlinewidth\": 0, \"ticks\": \"\"}}, \"type\": \"scatter\"}], \"scatter3d\": [{\"line\": {\"colorbar\": {\"outlinewidth\": 0, \"ticks\": \"\"}}, \"marker\": {\"colorbar\": {\"outlinewidth\": 0, \"ticks\": \"\"}}, \"type\": \"scatter3d\"}], \"scattercarpet\": [{\"marker\": {\"colorbar\": {\"outlinewidth\": 0, \"ticks\": \"\"}}, \"type\": \"scattercarpet\"}], \"scattergeo\": [{\"marker\": {\"colorbar\": {\"outlinewidth\": 0, \"ticks\": \"\"}}, \"type\": \"scattergeo\"}], \"scattergl\": [{\"marker\": {\"colorbar\": {\"outlinewidth\": 0, \"ticks\": \"\"}}, \"type\": \"scattergl\"}], \"scattermapbox\": [{\"marker\": {\"colorbar\": {\"outlinewidth\": 0, \"ticks\": \"\"}}, \"type\": \"scattermapbox\"}], \"scatterpolar\": [{\"marker\": {\"colorbar\": {\"outlinewidth\": 0, \"ticks\": \"\"}}, \"type\": \"scatterpolar\"}], \"scatterpolargl\": [{\"marker\": {\"colorbar\": {\"outlinewidth\": 0, \"ticks\": \"\"}}, \"type\": \"scatterpolargl\"}], \"scatterternary\": [{\"marker\": {\"colorbar\": {\"outlinewidth\": 0, \"ticks\": \"\"}}, \"type\": \"scatterternary\"}], \"surface\": [{\"colorbar\": {\"outlinewidth\": 0, \"ticks\": \"\"}, \"colorscale\": [[0.0, \"#0d0887\"], [0.1111111111111111, \"#46039f\"], [0.2222222222222222, \"#7201a8\"], [0.3333333333333333, \"#9c179e\"], [0.4444444444444444, \"#bd3786\"], [0.5555555555555556, \"#d8576b\"], [0.6666666666666666, \"#ed7953\"], [0.7777777777777778, \"#fb9f3a\"], [0.8888888888888888, \"#fdca26\"], [1.0, \"#f0f921\"]], \"type\": \"surface\"}], \"table\": [{\"cells\": {\"fill\": {\"color\": \"#EBF0F8\"}, \"line\": {\"color\": \"white\"}}, \"header\": {\"fill\": {\"color\": \"#C8D4E3\"}, \"line\": {\"color\": \"white\"}}, \"type\": \"table\"}]}, \"layout\": {\"annotationdefaults\": {\"arrowcolor\": \"#2a3f5f\", \"arrowhead\": 0, \"arrowwidth\": 1}, \"coloraxis\": {\"colorbar\": {\"outlinewidth\": 0, \"ticks\": \"\"}}, \"colorscale\": {\"diverging\": [[0, \"#8e0152\"], [0.1, \"#c51b7d\"], [0.2, \"#de77ae\"], [0.3, \"#f1b6da\"], [0.4, \"#fde0ef\"], [0.5, \"#f7f7f7\"], [0.6, \"#e6f5d0\"], [0.7, \"#b8e186\"], [0.8, \"#7fbc41\"], [0.9, \"#4d9221\"], [1, \"#276419\"]], \"sequential\": [[0.0, \"#0d0887\"], [0.1111111111111111, \"#46039f\"], [0.2222222222222222, \"#7201a8\"], [0.3333333333333333, \"#9c179e\"], [0.4444444444444444, \"#bd3786\"], [0.5555555555555556, \"#d8576b\"], [0.6666666666666666, \"#ed7953\"], [0.7777777777777778, \"#fb9f3a\"], [0.8888888888888888, \"#fdca26\"], [1.0, \"#f0f921\"]], \"sequentialminus\": [[0.0, \"#0d0887\"], [0.1111111111111111, \"#46039f\"], [0.2222222222222222, \"#7201a8\"], [0.3333333333333333, \"#9c179e\"], [0.4444444444444444, \"#bd3786\"], [0.5555555555555556, \"#d8576b\"], [0.6666666666666666, \"#ed7953\"], [0.7777777777777778, \"#fb9f3a\"], [0.8888888888888888, \"#fdca26\"], [1.0, \"#f0f921\"]]}, \"colorway\": [\"#636efa\", \"#EF553B\", \"#00cc96\", \"#ab63fa\", \"#FFA15A\", \"#19d3f3\", \"#FF6692\", \"#B6E880\", \"#FF97FF\", \"#FECB52\"], \"font\": {\"color\": \"#2a3f5f\"}, \"geo\": {\"bgcolor\": \"white\", \"lakecolor\": \"white\", \"landcolor\": \"#E5ECF6\", \"showlakes\": true, \"showland\": true, \"subunitcolor\": \"white\"}, \"hoverlabel\": {\"align\": \"left\"}, \"hovermode\": \"closest\", \"mapbox\": {\"style\": \"light\"}, \"paper_bgcolor\": \"white\", \"plot_bgcolor\": \"#E5ECF6\", \"polar\": {\"angularaxis\": {\"gridcolor\": \"white\", \"linecolor\": \"white\", \"ticks\": \"\"}, \"bgcolor\": \"#E5ECF6\", \"radialaxis\": {\"gridcolor\": \"white\", \"linecolor\": \"white\", \"ticks\": \"\"}}, \"scene\": {\"xaxis\": {\"backgroundcolor\": \"#E5ECF6\", \"gridcolor\": \"white\", \"gridwidth\": 2, \"linecolor\": \"white\", \"showbackground\": true, \"ticks\": \"\", \"zerolinecolor\": \"white\"}, \"yaxis\": {\"backgroundcolor\": \"#E5ECF6\", \"gridcolor\": \"white\", \"gridwidth\": 2, \"linecolor\": \"white\", \"showbackground\": true, \"ticks\": \"\", \"zerolinecolor\": \"white\"}, \"zaxis\": {\"backgroundcolor\": \"#E5ECF6\", \"gridcolor\": \"white\", \"gridwidth\": 2, \"linecolor\": \"white\", \"showbackground\": true, \"ticks\": \"\", \"zerolinecolor\": \"white\"}}, \"shapedefaults\": {\"line\": {\"color\": \"#2a3f5f\"}}, \"ternary\": {\"aaxis\": {\"gridcolor\": \"white\", \"linecolor\": \"white\", \"ticks\": \"\"}, \"baxis\": {\"gridcolor\": \"white\", \"linecolor\": \"white\", \"ticks\": \"\"}, \"bgcolor\": \"#E5ECF6\", \"caxis\": {\"gridcolor\": \"white\", \"linecolor\": \"white\", \"ticks\": \"\"}}, \"title\": {\"x\": 0.05}, \"xaxis\": {\"automargin\": true, \"gridcolor\": \"white\", \"linecolor\": \"white\", \"ticks\": \"\", \"title\": {\"standoff\": 15}, \"zerolinecolor\": \"white\", \"zerolinewidth\": 2}, \"yaxis\": {\"automargin\": true, \"gridcolor\": \"white\", \"linecolor\": \"white\", \"ticks\": \"\", \"title\": {\"standoff\": 15}, \"zerolinecolor\": \"white\", \"zerolinewidth\": 2}}}, \"xaxis\": {\"anchor\": \"y\", \"domain\": [0.0, 1.0], \"title\": {\"text\": \"x\"}}, \"yaxis\": {\"anchor\": \"x\", \"domain\": [0.0, 1.0], \"title\": {\"text\": \"value\"}}},                        {\"responsive\": true}                    ).then(function(){\n",
       "                            \n",
       "var gd = document.getElementById('1e7e0fd1-839c-4671-8e2b-6a69264a6277');\n",
       "var x = new MutationObserver(function (mutations, observer) {{\n",
       "        var display = window.getComputedStyle(gd).display;\n",
       "        if (!display || display === 'none') {{\n",
       "            console.log([gd, 'removed!']);\n",
       "            Plotly.purge(gd);\n",
       "            observer.disconnect();\n",
       "        }}\n",
       "}});\n",
       "\n",
       "// Listen for the removal of the full notebook cells\n",
       "var notebookContainer = gd.closest('#notebook-container');\n",
       "if (notebookContainer) {{\n",
       "    x.observe(notebookContainer, {childList: true});\n",
       "}}\n",
       "\n",
       "// Listen for the clearing of the current output cell\n",
       "var outputEl = gd.closest('.output');\n",
       "if (outputEl) {{\n",
       "    x.observe(outputEl, {childList: true});\n",
       "}}\n",
       "\n",
       "                        })                };                });            </script>        </div>"
      ]
     },
     "metadata": {},
     "output_type": "display_data"
    }
   ],
   "source": [
    "fig = px.line(x=x, y=[p(x),z,t])\n",
    "fig.show()"
   ]
  },
  {
   "cell_type": "code",
   "execution_count": 15,
   "metadata": {},
   "outputs": [],
   "source": [
    "x = symbols('x')\n",
    "k = symbols('k')"
   ]
  },
  {
   "cell_type": "code",
   "execution_count": 16,
   "metadata": {},
   "outputs": [],
   "source": [
    "expr = x**3 - 9*x**2 + 24*x - 15"
   ]
  },
  {
   "cell_type": "code",
   "execution_count": 17,
   "metadata": {},
   "outputs": [
    {
     "data": {
      "text/plain": [
       "sympy.core.add.Add"
      ]
     },
     "execution_count": 17,
     "metadata": {},
     "output_type": "execute_result"
    }
   ],
   "source": [
    "type(expr)"
   ]
  },
  {
   "cell_type": "code",
   "execution_count": 18,
   "metadata": {},
   "outputs": [
    {
     "name": "stdout",
     "output_type": "stream",
     "text": [
      " 3      2            \n",
      "x  - 9⋅x  + 24⋅x - 15\n"
     ]
    }
   ],
   "source": [
    "pprint(expr)"
   ]
  },
  {
   "cell_type": "code",
   "execution_count": 19,
   "metadata": {},
   "outputs": [
    {
     "name": "stdout",
     "output_type": "stream",
     "text": [
      "   2            \n",
      "3⋅x  - 18⋅x + 24\n"
     ]
    }
   ],
   "source": [
    "pprint(expr.diff())"
   ]
  },
  {
   "cell_type": "code",
   "execution_count": 23,
   "metadata": {},
   "outputs": [
    {
     "data": {
      "image/png": "[encoded data removed]",
      "text/latex": [
       "$\\displaystyle \\left\\{2, 4\\right\\}$"
      ],
      "text/plain": [
       "{2, 4}"
      ]
     },
     "execution_count": 23,
     "metadata": {},
     "output_type": "execute_result"
    }
   ],
   "source": [
    "sol = solveset(expr.diff(), x)\n",
    "sol"
   ]
  },
  {
   "cell_type": "code",
   "execution_count": 21,
   "metadata": {},
   "outputs": [],
   "source": [
    "G=list(sol)[0]"
   ]
  },
  {
   "cell_type": "code",
   "execution_count": 22,
   "metadata": {},
   "outputs": [
    {
     "data": {
      "image/png": "[encoded data removed]",
      "text/latex": [
       "$\\displaystyle \\left[ \\right]$"
      ],
      "text/plain": [
       "[]"
      ]
     },
     "execution_count": 22,
     "metadata": {},
     "output_type": "execute_result"
    }
   ],
   "source": [
    "solve(G, k)"
   ]
  },
  {
   "cell_type": "code",
   "execution_count": 97,
   "metadata": {},
   "outputs": [
    {
     "data": {
      "image/png": "[encoded data removed]",
      "text/latex": [
       "$\\displaystyle 1.63905385788143 + 1.5989131324879 i$"
      ],
      "text/plain": [
       "1.63905385788143 + 1.5989131324879⋅ⅈ"
      ]
     },
     "execution_count": 97,
     "metadata": {},
     "output_type": "execute_result"
    }
   ],
   "source": [
    "list(sol)[0].subs(k, 15).evalf()"
   ]
  },
  {
   "cell_type": "code",
   "execution_count": 65,
   "metadata": {},
   "outputs": [
    {
     "data": {
      "image/png": "[encoded data removed]",
      "text/latex": [
       "$\\displaystyle - \\frac{0.873580464736299}{\\left(- 0.333333333333333 k + \\left(\\left(1 - 0.333333333333333 k\\right)^{2} - 0.444444444444444\\right)^{0.5} + 1\\right)^{0.333333333333333}} - 1.14471424255333 \\left(- 0.333333333333333 k + \\left(\\left(1 - 0.333333333333333 k\\right)^{2} - 0.444444444444444\\right)^{0.5} + 1\\right)^{0.333333333333333} + 3.0$"
      ],
      "text/plain": [
       "                                                                              \n",
       "                    ⎛                                                         \n",
       "                    ⎜                       ⎛                         2       \n",
       "- 0.873580464736299⋅⎝-0.333333333333333⋅k + ⎝(1 - 0.333333333333333⋅k)  - 0.44\n",
       "\n",
       "                      -0.333333333333333                                      \n",
       "              0.5    ⎞                                      ⎛                 \n",
       "             ⎞       ⎟                                      ⎜                 \n",
       "4444444444444⎠    + 1⎠                   - 1.14471424255333⋅⎝-0.33333333333333\n",
       "\n",
       "                                                              0.33333333333333\n",
       "                                                      0.5    ⎞                \n",
       "      ⎛                         2                    ⎞       ⎟                \n",
       "3⋅k + ⎝(1 - 0.333333333333333⋅k)  - 0.444444444444444⎠    + 1⎠                \n",
       "\n",
       "3      \n",
       "       \n",
       "       \n",
       "  + 3.0"
      ]
     },
     "execution_count": 65,
     "metadata": {},
     "output_type": "execute_result"
    }
   ],
   "source": [
    "N(_)"
   ]
  },
  {
   "cell_type": "code",
   "execution_count": 36,
   "metadata": {},
   "outputs": [
    {
     "data": {
      "image/png": "[encoded data removed]",
      "text/latex": [
       "$\\displaystyle \\left\\{2, 4\\right\\}$"
      ],
      "text/plain": [
       "{2, 4}"
      ]
     },
     "execution_count": 36,
     "metadata": {},
     "output_type": "execute_result"
    }
   ],
   "source": [
    "solveset(expr.diff())"
   ]
  },
  {
   "cell_type": "code",
   "execution_count": 37,
   "metadata": {},
   "outputs": [
    {
     "data": {
      "image/png": "[encoded data removed]",
      "text/latex": [
       "$\\displaystyle \\left\\{2.0, 4.0\\right\\}$"
      ],
      "text/plain": [
       "{2.0, 4.0}"
      ]
     },
     "execution_count": 37,
     "metadata": {},
     "output_type": "execute_result"
    }
   ],
   "source": [
    "N(_)"
   ]
  },
  {
   "cell_type": "code",
   "execution_count": 20,
   "metadata": {},
   "outputs": [
    {
     "name": "stdout",
     "output_type": "stream",
     "text": [
      "Global minima found [2.21523047]\n",
      "Local minimum found 2.2152510498307847\n"
     ]
    }
   ],
   "source": [
    "\n",
    "# Global optimization\n",
    "grid = (1, 3, 0.01)\n",
    "xmin_global = optimize.brute(p, (grid, ))\n",
    "print(\"Global minima found %s\" % xmin_global)\n",
    "\n",
    "xmin_local = optimize.fminbound(p, -1, 4)\n",
    "print(\"Local minimum found %s\" % xmin_local)"
   ]
  },
  {
   "cell_type": "code",
   "execution_count": 21,
   "metadata": {},
   "outputs": [],
   "source": [
    "def f(x):\n",
    "    return 3*x**4 -140*x**3"
   ]
  },
  {
   "cell_type": "code",
   "execution_count": 22,
   "metadata": {},
   "outputs": [],
   "source": [
    "def df(x):\n",
    "    return 12*x**3 - 420*x**2"
   ]
  },
  {
   "cell_type": "code",
   "execution_count": 23,
   "metadata": {},
   "outputs": [],
   "source": [
    "x = np.linspace(-10, 40 ,200)"
   ]
  },
  {
   "cell_type": "code",
   "execution_count": 24,
   "metadata": {},
   "outputs": [
    {
     "data": {
      "application/vnd.plotly.v1+json": {
       "config": {
        "plotlyServerURL": "https://plot.ly"
       },
       "data": [
        {
         "hovertemplate": "variable=wide_variable_0<br>x=%{x}<br>value=%{y}<extra></extra>",
         "legendgroup": "wide_variable_0",
         "line": {
          "color": "#636efa",
          "dash": "solid"
         },
         "mode": "lines",
         "name": "wide_variable_0",
         "orientation": "v",
         "showlegend": true,
         "type": "scatter",
         "x": [
          -10,
          -9.748743718592966,
          -9.49748743718593,
          -9.246231155778894,
          -8.99497487437186,
          -8.743718592964825,
          -8.492462311557789,
          -8.241206030150753,
          -7.989949748743719,
          -7.738693467336684,
          -7.4874371859296485,
          -7.236180904522613,
          -6.984924623115578,
          -6.733668341708543,
          -6.482412060301508,
          -6.231155778894473,
          -5.9798994974874375,
          -5.728643216080402,
          -5.477386934673367,
          -5.226130653266332,
          -4.974874371859297,
          -4.723618090452262,
          -4.472361809045227,
          -4.2211055276381915,
          -3.9698492462311563,
          -3.718592964824121,
          -3.467336683417086,
          -3.216080402010051,
          -2.9648241206030157,
          -2.7135678391959805,
          -2.4623115577889454,
          -2.2110552763819102,
          -1.959798994974875,
          -1.7085427135678408,
          -1.4572864321608048,
          -1.2060301507537687,
          -0.9547738693467345,
          -0.7035175879397002,
          -0.45226130653266416,
          -0.20100502512562812,
          0.05025125628140614,
          0.3015075376884404,
          0.5527638190954764,
          0.8040201005025125,
          1.0552763819095468,
          1.306532663316581,
          1.557788944723617,
          1.809045226130653,
          2.0603015075376874,
          2.3115577889447216,
          2.5628140703517577,
          2.8140703517587937,
          3.065326633165828,
          3.3165829145728623,
          3.5678391959798983,
          3.8190954773869343,
          4.070351758793969,
          4.321608040201003,
          4.572864321608039,
          4.824120603015075,
          5.075376884422109,
          5.3266331658291435,
          5.5778894472361795,
          5.829145728643216,
          6.08040201005025,
          6.331658291457284,
          6.582914572864318,
          6.834170854271356,
          7.08542713567839,
          7.336683417085425,
          7.5879396984924625,
          7.839195979899497,
          8.090452261306531,
          8.341708542713565,
          8.5929648241206,
          8.844221105527637,
          9.095477386934672,
          9.346733668341706,
          9.597989949748744,
          9.849246231155778,
          10.100502512562812,
          10.351758793969847,
          10.60301507537688,
          10.854271356783919,
          11.105527638190953,
          11.356783919597987,
          11.608040201005025,
          11.85929648241206,
          12.110552763819094,
          12.361809045226128,
          12.613065326633162,
          12.8643216080402,
          13.115577889447234,
          13.366834170854268,
          13.618090452261306,
          13.86934673366834,
          14.120603015075375,
          14.371859296482409,
          14.623115577889443,
          14.874371859296481,
          15.125628140703515,
          15.37688442211055,
          15.628140703517587,
          15.879396984924622,
          16.130653266331656,
          16.38190954773869,
          16.633165829145725,
          16.884422110552762,
          17.135678391959797,
          17.38693467336683,
          17.63819095477387,
          17.889447236180903,
          18.140703517587937,
          18.39195979899497,
          18.643216080402006,
          18.894472361809044,
          19.145728643216078,
          19.396984924623112,
          19.64824120603015,
          19.899497487437184,
          20.15075376884422,
          20.402010050251253,
          20.653266331658287,
          20.904522613065325,
          21.15577889447236,
          21.407035175879393,
          21.65829145728643,
          21.909547738693465,
          22.1608040201005,
          22.412060301507537,
          22.663316582914568,
          22.914572864321606,
          23.165829145728637,
          23.417085427135675,
          23.668341708542712,
          23.919597989949743,
          24.17085427135678,
          24.42211055276382,
          24.67336683417085,
          24.924623115577887,
          25.175879396984925,
          25.427135678391956,
          25.678391959798994,
          25.929648241206024,
          26.180904522613062,
          26.4321608040201,
          26.68341708542713,
          26.93467336683417,
          27.1859296482412,
          27.437185929648237,
          27.688442211055275,
          27.939698492462306,
          28.190954773869343,
          28.44221105527638,
          28.693467336683412,
          28.94472361809045,
          29.195979899497488,
          29.447236180904518,
          29.698492462311556,
          29.949748743718587,
          30.201005025125625,
          30.452261306532662,
          30.703517587939693,
          30.95477386934673,
          31.20603015075376,
          31.4572864321608,
          31.708542713567837,
          31.959798994974868,
          32.211055276381906,
          32.462311557788944,
          32.713567839195974,
          32.96482412060301,
          33.21608040201005,
          33.46733668341708,
          33.71859296482412,
          33.96984924623115,
          34.22110552763819,
          34.472361809045225,
          34.723618090452256,
          34.97487437185929,
          35.226130653266324,
          35.47738693467336,
          35.7286432160804,
          35.97989949748743,
          36.23115577889447,
          36.482412060301506,
          36.73366834170854,
          36.984924623115575,
          37.23618090452261,
          37.48743718592964,
          37.73869346733668,
          37.98994974874371,
          38.24120603015075,
          38.49246231155779,
          38.74371859296482,
          38.994974874371856,
          39.24623115577889,
          39.497487437185924,
          39.74874371859296,
          40
         ],
         "xaxis": "x",
         "y": [
          170000,
          156806.82702179186,
          144346.63374417202,
          132595.1062742245,
          121528.21766505505,
          111122.22791579105,
          101353.68397158184,
          92199.41972359864,
          83636.5560090345,
          75642.50061110417,
          68194.94825904432,
          61271.880628113446,
          54851.566339591845,
          48912.56096078165,
          43433.70700500683,
          38394.133931613156,
          33773.25814596826,
          29550.782999461575,
          25706.69878950438,
          22221.28275952975,
          19075.09909899262,
          16248.998943369741,
          13724.120374159686,
          11481.888418882858,
          9504.015051081487,
          7772.499190319631,
          6269.626702183174,
          4977.970398279824,
          3880.3900362391237,
          2960.0323197124335,
          2200.330898372947,
          1585.0063679156826,
          1098.0662700574858,
          723.8050925370302,
          446.8042691148116,
          251.93217957315932,
          124.3441497162272,
          49.48245136999389,
          13.076302382266565,
          1.1418666226798393,
          -0.017746017305429233,
          -3.8124796244013117,
          -23.365332263493023,
          -71.51235597763889,
          -160.80265678806944,
          -303.49839469418924,
          -511.5747836735771,
          -796.720091681983,
          -1170.3356406533273,
          -1643.5358064997083,
          -2227.1480191114006,
          -2931.712762356843,
          -3767.483574082646,
          -4744.427046113602,
          -5872.2228242526835,
          -7160.263608281017,
          -8617.655151957897,
          -10253.21626302082,
          -12075.478803185448,
          -14092.687688145601,
          -16312.800887573263,
          -18743.489425118616,
          -21392.13737841003,
          -24265.841879054005,
          -27371.41311263521,
          -30715.374318716546,
          -34303.96179083903,
          -38143.124876521935,
          -42238.52597726254,
          -46595.54054853647,
          -51219.2570997975,
          -56114.47719447741,
          -61285.71544998635,
          -66737.19953771256,
          -72472.87018302246,
          -78496.38116526074,
          -84811.09931775,
          -91420.10452779129,
          -98326.18973666377,
          -105531.86093962459,
          -113039.33718590927,
          -120850.55057873143,
          -128967.14627528295,
          -137390.48248673382,
          -146121.63047823208,
          -155161.37456890408,
          -164510.2121318545,
          -174168.3535941657,
          -184135.72243689874,
          -194411.9551950926,
          -204996.40145776447,
          -215888.12386790983,
          -227085.89812250194,
          -238588.21297249268,
          -250393.27022281213,
          -262498.9847323679,
          -274902.9844140465,
          -287602.61023471237,
          -300594.916215208,
          -313876.66943035426,
          -327444.3500089498,
          -341294.1511337719,
          -355421.9790415761,
          -369823.45302309527,
          -384493.9054230413,
          -399428.38164010405,
          -414621.6401269513,
          -430068.15239022963,
          -445762.10299056274,
          -461697.38954255334,
          -477867.6227147824,
          -494266.1262298085,
          -510885.9368641684,
          -527719.8044483773,
          -544760.1918669292,
          -561999.2750582949,
          -579428.9430149245,
          -597040.7977832456,
          -614826.1544636646,
          -632776.041210565,
          -650881.19923231,
          -669132.0827912398,
          -687518.859203673,
          -706031.4088399068,
          -724659.3251242158,
          -743391.914534854,
          -762218.1966040522,
          -781126.9039180202,
          -800106.4821169457,
          -819145.0898949947,
          -838230.5990003111,
          -857350.5942350179,
          -876492.3734552145,
          -895642.9475709805,
          -914789.0405463725,
          -933917.0893994248,
          -953013.2442021512,
          -972063.3680805431,
          -991053.0372145693,
          -1009967.5408381782,
          -1028791.8812392959,
          -1047510.7737598252,
          -1066108.646795649,
          -1084569.6417966275,
          -1102877.6132665998,
          -1121016.1287633826,
          -1138968.4688987697,
          -1156717.6273385347,
          -1174246.310802429,
          -1191536.939064183,
          -1208571.6449515028,
          -1225332.2743460739,
          -1241800.386183561,
          -1257957.2524536073,
          -1273783.8581998302,
          -1289260.9015198317,
          -1304368.7935651853,
          -1319087.658541447,
          -1333397.3337081498,
          -1347277.3693788052,
          -1360707.0289209024,
          -1373665.2887559081,
          -1386130.8383592688,
          -1398082.080260408,
          -1409497.1300427266,
          -1420353.8163436074,
          -1430629.6808544071,
          -1440301.9783204617,
          -1449347.6765410854,
          -1457743.456369575,
          -1465465.7117131967,
          -1472490.5495332023,
          -1478793.789844818,
          -1484350.9657172505,
          -1489137.3232736825,
          -1493127.8216912784,
          -1496297.133201175,
          -1498619.6430884916,
          -1500069.4496923247,
          -1500620.3644057484,
          -1500245.9116758173,
          -1498919.3290035613,
          -1496613.5669439882,
          -1493301.2891060868,
          -1488954.872152824,
          -1483546.4058011388,
          -1477047.692821958,
          -1469430.249040178,
          -1460665.3033346795,
          -1450723.7976383166,
          -1439576.3869379256,
          -1427193.4392743194,
          -1413545.0357422866,
          -1398600.9704905972,
          -1382330.7507220013,
          -1364703.5966932187,
          -1345688.4417149583,
          -1325253.9321518987,
          -1303368.4274227004,
          -1280000
         ],
         "yaxis": "y"
        },
        {
         "hovertemplate": "variable=wide_variable_1<br>x=%{x}<br>value=%{y}<extra></extra>",
         "legendgroup": "wide_variable_1",
         "line": {
          "color": "#EF553B",
          "dash": "solid"
         },
         "mode": "lines",
         "name": "wide_variable_1",
         "orientation": "v",
         "showlegend": true,
         "type": "scatter",
         "x": [
          -10,
          -9.748743718592966,
          -9.49748743718593,
          -9.246231155778894,
          -8.99497487437186,
          -8.743718592964825,
          -8.492462311557789,
          -8.241206030150753,
          -7.989949748743719,
          -7.738693467336684,
          -7.4874371859296485,
          -7.236180904522613,
          -6.984924623115578,
          -6.733668341708543,
          -6.482412060301508,
          -6.231155778894473,
          -5.9798994974874375,
          -5.728643216080402,
          -5.477386934673367,
          -5.226130653266332,
          -4.974874371859297,
          -4.723618090452262,
          -4.472361809045227,
          -4.2211055276381915,
          -3.9698492462311563,
          -3.718592964824121,
          -3.467336683417086,
          -3.216080402010051,
          -2.9648241206030157,
          -2.7135678391959805,
          -2.4623115577889454,
          -2.2110552763819102,
          -1.959798994974875,
          -1.7085427135678408,
          -1.4572864321608048,
          -1.2060301507537687,
          -0.9547738693467345,
          -0.7035175879397002,
          -0.45226130653266416,
          -0.20100502512562812,
          0.05025125628140614,
          0.3015075376884404,
          0.5527638190954764,
          0.8040201005025125,
          1.0552763819095468,
          1.306532663316581,
          1.557788944723617,
          1.809045226130653,
          2.0603015075376874,
          2.3115577889447216,
          2.5628140703517577,
          2.8140703517587937,
          3.065326633165828,
          3.3165829145728623,
          3.5678391959798983,
          3.8190954773869343,
          4.070351758793969,
          4.321608040201003,
          4.572864321608039,
          4.824120603015075,
          5.075376884422109,
          5.3266331658291435,
          5.5778894472361795,
          5.829145728643216,
          6.08040201005025,
          6.331658291457284,
          6.582914572864318,
          6.834170854271356,
          7.08542713567839,
          7.336683417085425,
          7.5879396984924625,
          7.839195979899497,
          8.090452261306531,
          8.341708542713565,
          8.5929648241206,
          8.844221105527637,
          9.095477386934672,
          9.346733668341706,
          9.597989949748744,
          9.849246231155778,
          10.100502512562812,
          10.351758793969847,
          10.60301507537688,
          10.854271356783919,
          11.105527638190953,
          11.356783919597987,
          11.608040201005025,
          11.85929648241206,
          12.110552763819094,
          12.361809045226128,
          12.613065326633162,
          12.8643216080402,
          13.115577889447234,
          13.366834170854268,
          13.618090452261306,
          13.86934673366834,
          14.120603015075375,
          14.371859296482409,
          14.623115577889443,
          14.874371859296481,
          15.125628140703515,
          15.37688442211055,
          15.628140703517587,
          15.879396984924622,
          16.130653266331656,
          16.38190954773869,
          16.633165829145725,
          16.884422110552762,
          17.135678391959797,
          17.38693467336683,
          17.63819095477387,
          17.889447236180903,
          18.140703517587937,
          18.39195979899497,
          18.643216080402006,
          18.894472361809044,
          19.145728643216078,
          19.396984924623112,
          19.64824120603015,
          19.899497487437184,
          20.15075376884422,
          20.402010050251253,
          20.653266331658287,
          20.904522613065325,
          21.15577889447236,
          21.407035175879393,
          21.65829145728643,
          21.909547738693465,
          22.1608040201005,
          22.412060301507537,
          22.663316582914568,
          22.914572864321606,
          23.165829145728637,
          23.417085427135675,
          23.668341708542712,
          23.919597989949743,
          24.17085427135678,
          24.42211055276382,
          24.67336683417085,
          24.924623115577887,
          25.175879396984925,
          25.427135678391956,
          25.678391959798994,
          25.929648241206024,
          26.180904522613062,
          26.4321608040201,
          26.68341708542713,
          26.93467336683417,
          27.1859296482412,
          27.437185929648237,
          27.688442211055275,
          27.939698492462306,
          28.190954773869343,
          28.44221105527638,
          28.693467336683412,
          28.94472361809045,
          29.195979899497488,
          29.447236180904518,
          29.698492462311556,
          29.949748743718587,
          30.201005025125625,
          30.452261306532662,
          30.703517587939693,
          30.95477386934673,
          31.20603015075376,
          31.4572864321608,
          31.708542713567837,
          31.959798994974868,
          32.211055276381906,
          32.462311557788944,
          32.713567839195974,
          32.96482412060301,
          33.21608040201005,
          33.46733668341708,
          33.71859296482412,
          33.96984924623115,
          34.22110552763819,
          34.472361809045225,
          34.723618090452256,
          34.97487437185929,
          35.226130653266324,
          35.47738693467336,
          35.7286432160804,
          35.97989949748743,
          36.23115577889447,
          36.482412060301506,
          36.73366834170854,
          36.984924623115575,
          37.23618090452261,
          37.48743718592964,
          37.73869346733668,
          37.98994974874371,
          38.24120603015075,
          38.49246231155779,
          38.74371859296482,
          38.994974874371856,
          39.24623115577889,
          39.497487437185924,
          39.74874371859296,
          40
         ],
         "xaxis": "x",
         "y": [
          -54000,
          -51033.97546303271,
          -48165.291242455045,
          -45392.80529310017,
          -42715.37556980123,
          -40131.86002739133,
          -37641.11662070358,
          -35242.00330457113,
          -32933.378033827124,
          -30714.09876330467,
          -28583.0234478369,
          -26539.010042256938,
          -24580.91650139793,
          -22707.600780092984,
          -20917.920833175245,
          -19210.734615477835,
          -17584.900081833883,
          -16039.275187076517,
          -14572.717886038867,
          -13184.086133554063,
          -11872.237884455231,
          -10636.031093575504,
          -9474.323715748005,
          -8385.973705805867,
          -7369.839018582218,
          -6424.777608910187,
          -5549.647431622902,
          -4743.306441553494,
          -4004.612593535087,
          -3332.4238424008136,
          -2725.5981429838025,
          -2182.993450117182,
          -1703.4677186340798,
          -1285.8789033676271,
          -929.0849591509487,
          -631.9438408171765,
          -393.3135031994402,
          -212.05190113086687,
          -87.01698944458442,
          -17.066722973723188,
          -1.0590565514118537,
          -37.85194501077855,
          -126.30334318495292,
          -265.27120590706363,
          -453.613488010238,
          -690.1881443276056,
          -973.8531296922974,
          -1303.466398937441,
          -1677.8859068961617,
          -2095.9696084015914,
          -2556.5754582868617,
          -3058.5614113850984,
          -3600.7854225294273,
          -4182.10544655298,
          -4801.379438288888,
          -5457.46535257028,
          -6149.221144230277,
          -6875.504768102011,
          -7635.1741790186215,
          -8427.087331813229,
          -9250.102181318953,
          -10103.076682368934,
          -10984.868789796303,
          -11894.336458434183,
          -12830.337643115703,
          -13791.730298673987,
          -14777.372379942171,
          -15786.121841753396,
          -16816.836638940764,
          -17868.374726337417,
          -18939.5940587765,
          -20029.35259109111,
          -21136.508278114386,
          -22259.919074679463,
          -23398.442935619474,
          -24550.937815767553,
          -25716.261669956803,
          -26893.272453020378,
          -28080.828119791404,
          -29277.786625102985,
          -30483.005923788274,
          -31695.34397068039,
          -32913.65872061247,
          -34136.808128417644,
          -35363.650148929024,
          -36593.04273697974,
          -37823.84384740297,
          -39054.91143503177,
          -40285.10345469931,
          -41513.277861238705,
          -42738.2926094831,
          -43959.00565426561,
          -45174.27495041938,
          -46382.95845277751,
          -47583.914116173146,
          -48775.99989543941,
          -49958.07374540945,
          -51128.99362091637,
          -52287.61747679331,
          -53432.803267873416,
          -54563.40894898978,
          -55678.292474975555,
          -56776.31180066388,
          -57856.32488088785,
          -58917.189670480635,
          -59957.764124275316,
          -60976.906197105054,
          -61973.47384380299,
          -62946.32501920221,
          -63894.31767813588,
          -64816.30977543711,
          -65711.15926593903,
          -66577.7241044748,
          -67414.86224587748,
          -68221.43164498027,
          -68996.29025661628,
          -69738.29603561861,
          -70446.3069368204,
          -71119.1809150548,
          -71755.77592515491,
          -72354.9499219539,
          -72915.56086028487,
          -73436.46669498092,
          -73916.52538087523,
          -74354.5948728009,
          -74749.53312559109,
          -75100.19809407889,
          -75405.44773309743,
          -75664.13999747988,
          -75875.13284205933,
          -76037.28422166896,
          -76149.45209114181,
          -76210.49440531107,
          -76219.26911900987,
          -76174.6341870713,
          -76075.44756432856,
          -75920.56720561473,
          -75708.8510657629,
          -75439.15709960627,
          -75110.34326197789,
          -74721.26750771102,
          -74270.7877916387,
          -73757.76206859405,
          -73181.04829341022,
          -72539.5044209203,
          -71831.98840595744,
          -71057.35820335487,
          -70214.47176794562,
          -69302.18705456276,
          -68319.36201803951,
          -67264.85461320903,
          -66137.52279490433,
          -64936.224517958646,
          -63659.81773720501,
          -62307.16040747665,
          -60877.11048360664,
          -59368.52592042816,
          -57780.26467277424,
          -56111.18469547806,
          -54360.14394337294,
          -52526.00037129159,
          -50607.61193406745,
          -48603.83658653364,
          -46513.53228352312,
          -44335.55697986926,
          -42068.7686304049,
          -39712.025189963344,
          -37264.18461337779,
          -34724.1048554813,
          -32090.64387110673,
          -29362.659615087672,
          -26539.01004225691,
          -23618.553107447864,
          -20600.14676549344,
          -17482.648971226823,
          -14264.917679481034,
          -10945.81084508932,
          -7524.18642288493,
          -3998.9023677007644,
          -368.8166343700723,
          3367.212822274014,
          7210.328047398361,
          11161.671086169896,
          15222.383983755368,
          19393.608785321936,
          23676.487536036177,
          28072.162281065015,
          32581.775065575493,
          37206.46793473442,
          41947.38293370837,
          46805.66210766474,
          51782.447501769755,
          56878.8811611908,
          62096.10513109469,
          67435.261456648,
          72897.49218301801,
          78483.93935537129,
          84195.74501887476,
          90034.05121869524,
          96000
         ],
         "yaxis": "y"
        }
       ],
       "layout": {
        "autosize": true,
        "legend": {
         "title": {
          "text": "variable"
         },
         "tracegroupgap": 0
        },
        "margin": {
         "t": 60
        },
        "template": {
         "data": {
          "bar": [
           {
            "error_x": {
             "color": "#2a3f5f"
            },
            "error_y": {
             "color": "#2a3f5f"
            },
            "marker": {
             "line": {
              "color": "#E5ECF6",
              "width": 0.5
             }
            },
            "type": "bar"
           }
          ],
          "barpolar": [
           {
            "marker": {
             "line": {
              "color": "#E5ECF6",
              "width": 0.5
             }
            },
            "type": "barpolar"
           }
          ],
          "carpet": [
           {
            "aaxis": {
             "endlinecolor": "#2a3f5f",
             "gridcolor": "white",
             "linecolor": "white",
             "minorgridcolor": "white",
             "startlinecolor": "#2a3f5f"
            },
            "baxis": {
             "endlinecolor": "#2a3f5f",
             "gridcolor": "white",
             "linecolor": "white",
             "minorgridcolor": "white",
             "startlinecolor": "#2a3f5f"
            },
            "type": "carpet"
           }
          ],
          "choropleth": [
           {
            "colorbar": {
             "outlinewidth": 0,
             "ticks": ""
            },
            "type": "choropleth"
           }
          ],
          "contour": [
           {
            "colorbar": {
             "outlinewidth": 0,
             "ticks": ""
            },
            "colorscale": [
             [
              0,
              "#0d0887"
             ],
             [
              0.1111111111111111,
              "#46039f"
             ],
             [
              0.2222222222222222,
              "#7201a8"
             ],
             [
              0.3333333333333333,
              "#9c179e"
             ],
             [
              0.4444444444444444,
              "#bd3786"
             ],
             [
              0.5555555555555556,
              "#d8576b"
             ],
             [
              0.6666666666666666,
              "#ed7953"
             ],
             [
              0.7777777777777778,
              "#fb9f3a"
             ],
             [
              0.8888888888888888,
              "#fdca26"
             ],
             [
              1,
              "#f0f921"
             ]
            ],
            "type": "contour"
           }
          ],
          "contourcarpet": [
           {
            "colorbar": {
             "outlinewidth": 0,
             "ticks": ""
            },
            "type": "contourcarpet"
           }
          ],
          "heatmap": [
           {
            "colorbar": {
             "outlinewidth": 0,
             "ticks": ""
            },
            "colorscale": [
             [
              0,
              "#0d0887"
             ],
             [
              0.1111111111111111,
              "#46039f"
             ],
             [
              0.2222222222222222,
              "#7201a8"
             ],
             [
              0.3333333333333333,
              "#9c179e"
             ],
             [
              0.4444444444444444,
              "#bd3786"
             ],
             [
              0.5555555555555556,
              "#d8576b"
             ],
             [
              0.6666666666666666,
              "#ed7953"
             ],
             [
              0.7777777777777778,
              "#fb9f3a"
             ],
             [
              0.8888888888888888,
              "#fdca26"
             ],
             [
              1,
              "#f0f921"
             ]
            ],
            "type": "heatmap"
           }
          ],
          "heatmapgl": [
           {
            "colorbar": {
             "outlinewidth": 0,
             "ticks": ""
            },
            "colorscale": [
             [
              0,
              "#0d0887"
             ],
             [
              0.1111111111111111,
              "#46039f"
             ],
             [
              0.2222222222222222,
              "#7201a8"
             ],
             [
              0.3333333333333333,
              "#9c179e"
             ],
             [
              0.4444444444444444,
              "#bd3786"
             ],
             [
              0.5555555555555556,
              "#d8576b"
             ],
             [
              0.6666666666666666,
              "#ed7953"
             ],
             [
              0.7777777777777778,
              "#fb9f3a"
             ],
             [
              0.8888888888888888,
              "#fdca26"
             ],
             [
              1,
              "#f0f921"
             ]
            ],
            "type": "heatmapgl"
           }
          ],
          "histogram": [
           {
            "marker": {
             "colorbar": {
              "outlinewidth": 0,
              "ticks": ""
             }
            },
            "type": "histogram"
           }
          ],
          "histogram2d": [
           {
            "colorbar": {
             "outlinewidth": 0,
             "ticks": ""
            },
            "colorscale": [
             [
              0,
              "#0d0887"
             ],
             [
              0.1111111111111111,
              "#46039f"
             ],
             [
              0.2222222222222222,
              "#7201a8"
             ],
             [
              0.3333333333333333,
              "#9c179e"
             ],
             [
              0.4444444444444444,
              "#bd3786"
             ],
             [
              0.5555555555555556,
              "#d8576b"
             ],
             [
              0.6666666666666666,
              "#ed7953"
             ],
             [
              0.7777777777777778,
              "#fb9f3a"
             ],
             [
              0.8888888888888888,
              "#fdca26"
             ],
             [
              1,
              "#f0f921"
             ]
            ],
            "type": "histogram2d"
           }
          ],
          "histogram2dcontour": [
           {
            "colorbar": {
             "outlinewidth": 0,
             "ticks": ""
            },
            "colorscale": [
             [
              0,
              "#0d0887"
             ],
             [
              0.1111111111111111,
              "#46039f"
             ],
             [
              0.2222222222222222,
              "#7201a8"
             ],
             [
              0.3333333333333333,
              "#9c179e"
             ],
             [
              0.4444444444444444,
              "#bd3786"
             ],
             [
              0.5555555555555556,
              "#d8576b"
             ],
             [
              0.6666666666666666,
              "#ed7953"
             ],
             [
              0.7777777777777778,
              "#fb9f3a"
             ],
             [
              0.8888888888888888,
              "#fdca26"
             ],
             [
              1,
              "#f0f921"
             ]
            ],
            "type": "histogram2dcontour"
           }
          ],
          "mesh3d": [
           {
            "colorbar": {
             "outlinewidth": 0,
             "ticks": ""
            },
            "type": "mesh3d"
           }
          ],
          "parcoords": [
           {
            "line": {
             "colorbar": {
              "outlinewidth": 0,
              "ticks": ""
             }
            },
            "type": "parcoords"
           }
          ],
          "pie": [
           {
            "automargin": true,
            "type": "pie"
           }
          ],
          "scatter": [
           {
            "marker": {
             "colorbar": {
              "outlinewidth": 0,
              "ticks": ""
             }
            },
            "type": "scatter"
           }
          ],
          "scatter3d": [
           {
            "line": {
             "colorbar": {
              "outlinewidth": 0,
              "ticks": ""
             }
            },
            "marker": {
             "colorbar": {
              "outlinewidth": 0,
              "ticks": ""
             }
            },
            "type": "scatter3d"
           }
          ],
          "scattercarpet": [
           {
            "marker": {
             "colorbar": {
              "outlinewidth": 0,
              "ticks": ""
             }
            },
            "type": "scattercarpet"
           }
          ],
          "scattergeo": [
           {
            "marker": {
             "colorbar": {
              "outlinewidth": 0,
              "ticks": ""
             }
            },
            "type": "scattergeo"
           }
          ],
          "scattergl": [
           {
            "marker": {
             "colorbar": {
              "outlinewidth": 0,
              "ticks": ""
             }
            },
            "type": "scattergl"
           }
          ],
          "scattermapbox": [
           {
            "marker": {
             "colorbar": {
              "outlinewidth": 0,
              "ticks": ""
             }
            },
            "type": "scattermapbox"
           }
          ],
          "scatterpolar": [
           {
            "marker": {
             "colorbar": {
              "outlinewidth": 0,
              "ticks": ""
             }
            },
            "type": "scatterpolar"
           }
          ],
          "scatterpolargl": [
           {
            "marker": {
             "colorbar": {
              "outlinewidth": 0,
              "ticks": ""
             }
            },
            "type": "scatterpolargl"
           }
          ],
          "scatterternary": [
           {
            "marker": {
             "colorbar": {
              "outlinewidth": 0,
              "ticks": ""
             }
            },
            "type": "scatterternary"
           }
          ],
          "surface": [
           {
            "colorbar": {
             "outlinewidth": 0,
             "ticks": ""
            },
            "colorscale": [
             [
              0,
              "#0d0887"
             ],
             [
              0.1111111111111111,
              "#46039f"
             ],
             [
              0.2222222222222222,
              "#7201a8"
             ],
             [
              0.3333333333333333,
              "#9c179e"
             ],
             [
              0.4444444444444444,
              "#bd3786"
             ],
             [
              0.5555555555555556,
              "#d8576b"
             ],
             [
              0.6666666666666666,
              "#ed7953"
             ],
             [
              0.7777777777777778,
              "#fb9f3a"
             ],
             [
              0.8888888888888888,
              "#fdca26"
             ],
             [
              1,
              "#f0f921"
             ]
            ],
            "type": "surface"
           }
          ],
          "table": [
           {
            "cells": {
             "fill": {
              "color": "#EBF0F8"
             },
             "line": {
              "color": "white"
             }
            },
            "header": {
             "fill": {
              "color": "#C8D4E3"
             },
             "line": {
              "color": "white"
             }
            },
            "type": "table"
           }
          ]
         },
         "layout": {
          "annotationdefaults": {
           "arrowcolor": "#2a3f5f",
           "arrowhead": 0,
           "arrowwidth": 1
          },
          "coloraxis": {
           "colorbar": {
            "outlinewidth": 0,
            "ticks": ""
           }
          },
          "colorscale": {
           "diverging": [
            [
             0,
             "#8e0152"
            ],
            [
             0.1,
             "#c51b7d"
            ],
            [
             0.2,
             "#de77ae"
            ],
            [
             0.3,
             "#f1b6da"
            ],
            [
             0.4,
             "#fde0ef"
            ],
            [
             0.5,
             "#f7f7f7"
            ],
            [
             0.6,
             "#e6f5d0"
            ],
            [
             0.7,
             "#b8e186"
            ],
            [
             0.8,
             "#7fbc41"
            ],
            [
             0.9,
             "#4d9221"
            ],
            [
             1,
             "#276419"
            ]
           ],
           "sequential": [
            [
             0,
             "#0d0887"
            ],
            [
             0.1111111111111111,
             "#46039f"
            ],
            [
             0.2222222222222222,
             "#7201a8"
            ],
            [
             0.3333333333333333,
             "#9c179e"
            ],
            [
             0.4444444444444444,
             "#bd3786"
            ],
            [
             0.5555555555555556,
             "#d8576b"
            ],
            [
             0.6666666666666666,
             "#ed7953"
            ],
            [
             0.7777777777777778,
             "#fb9f3a"
            ],
            [
             0.8888888888888888,
             "#fdca26"
            ],
            [
             1,
             "#f0f921"
            ]
           ],
           "sequentialminus": [
            [
             0,
             "#0d0887"
            ],
            [
             0.1111111111111111,
             "#46039f"
            ],
            [
             0.2222222222222222,
             "#7201a8"
            ],
            [
             0.3333333333333333,
             "#9c179e"
            ],
            [
             0.4444444444444444,
             "#bd3786"
            ],
            [
             0.5555555555555556,
             "#d8576b"
            ],
            [
             0.6666666666666666,
             "#ed7953"
            ],
            [
             0.7777777777777778,
             "#fb9f3a"
            ],
            [
             0.8888888888888888,
             "#fdca26"
            ],
            [
             1,
             "#f0f921"
            ]
           ]
          },
          "colorway": [
           "#636efa",
           "#EF553B",
           "#00cc96",
           "#ab63fa",
           "#FFA15A",
           "#19d3f3",
           "#FF6692",
           "#B6E880",
           "#FF97FF",
           "#FECB52"
          ],
          "font": {
           "color": "#2a3f5f"
          },
          "geo": {
           "bgcolor": "white",
           "lakecolor": "white",
           "landcolor": "#E5ECF6",
           "showlakes": true,
           "showland": true,
           "subunitcolor": "white"
          },
          "hoverlabel": {
           "align": "left"
          },
          "hovermode": "closest",
          "mapbox": {
           "style": "light"
          },
          "paper_bgcolor": "white",
          "plot_bgcolor": "#E5ECF6",
          "polar": {
           "angularaxis": {
            "gridcolor": "white",
            "linecolor": "white",
            "ticks": ""
           },
           "bgcolor": "#E5ECF6",
           "radialaxis": {
            "gridcolor": "white",
            "linecolor": "white",
            "ticks": ""
           }
          },
          "scene": {
           "xaxis": {
            "backgroundcolor": "#E5ECF6",
            "gridcolor": "white",
            "gridwidth": 2,
            "linecolor": "white",
            "showbackground": true,
            "ticks": "",
            "zerolinecolor": "white"
           },
           "yaxis": {
            "backgroundcolor": "#E5ECF6",
            "gridcolor": "white",
            "gridwidth": 2,
            "linecolor": "white",
            "showbackground": true,
            "ticks": "",
            "zerolinecolor": "white"
           },
           "zaxis": {
            "backgroundcolor": "#E5ECF6",
            "gridcolor": "white",
            "gridwidth": 2,
            "linecolor": "white",
            "showbackground": true,
            "ticks": "",
            "zerolinecolor": "white"
           }
          },
          "shapedefaults": {
           "line": {
            "color": "#2a3f5f"
           }
          },
          "ternary": {
           "aaxis": {
            "gridcolor": "white",
            "linecolor": "white",
            "ticks": ""
           },
           "baxis": {
            "gridcolor": "white",
            "linecolor": "white",
            "ticks": ""
           },
           "bgcolor": "#E5ECF6",
           "caxis": {
            "gridcolor": "white",
            "linecolor": "white",
            "ticks": ""
           }
          },
          "title": {
           "x": 0.05
          },
          "xaxis": {
           "automargin": true,
           "gridcolor": "white",
           "linecolor": "white",
           "ticks": "",
           "title": {
            "standoff": 15
           },
           "zerolinecolor": "white",
           "zerolinewidth": 2
          },
          "yaxis": {
           "automargin": true,
           "gridcolor": "white",
           "linecolor": "white",
           "ticks": "",
           "title": {
            "standoff": 15
           },
           "zerolinecolor": "white",
           "zerolinewidth": 2
          }
         }
        },
        "xaxis": {
         "anchor": "y",
         "autorange": true,
         "domain": [
          0,
          1
         ],
         "range": [
          -10,
          40
         ],
         "title": {
          "text": "x"
         },
         "type": "linear"
        },
        "yaxis": {
         "anchor": "x",
         "autorange": true,
         "domain": [
          0,
          1
         ],
         "range": [
          -1593432.6068727344,
          262812.242466986
         ],
         "title": {
          "text": "value"
         },
         "type": "linear"
        }
       }
      },
      "image/png": "[encoded data removed]",
      "text/html": [
       "<div>                            <div id=\"119b3773-69cf-463e-a875-0bdb75b52cae\" class=\"plotly-graph-div\" style=\"height:525px; width:100%;\"></div>            <script type=\"text/javascript\">                require([\"plotly\"], function(Plotly) {                    window.PLOTLYENV=window.PLOTLYENV || {};                                    if (document.getElementById(\"119b3773-69cf-463e-a875-0bdb75b52cae\")) {                    Plotly.newPlot(                        \"119b3773-69cf-463e-a875-0bdb75b52cae\",                        [{\"hovertemplate\": \"variable=wide_variable_0<br>x=%{x}<br>value=%{y}<extra></extra>\", \"legendgroup\": \"wide_variable_0\", \"line\": {\"color\": \"#636efa\", \"dash\": \"solid\"}, \"mode\": \"lines\", \"name\": \"wide_variable_0\", \"orientation\": \"v\", \"showlegend\": true, \"type\": \"scatter\", \"x\": [-10.0, -9.748743718592966, -9.49748743718593, -9.246231155778894, -8.99497487437186, -8.743718592964825, -8.492462311557789, -8.241206030150753, -7.989949748743719, -7.738693467336684, -7.4874371859296485, -7.236180904522613, -6.984924623115578, -6.733668341708543, -6.482412060301508, -6.231155778894473, -5.9798994974874375, -5.728643216080402, -5.477386934673367, -5.226130653266332, -4.974874371859297, -4.723618090452262, -4.472361809045227, -4.2211055276381915, -3.9698492462311563, -3.718592964824121, -3.467336683417086, -3.216080402010051, -2.9648241206030157, -2.7135678391959805, -2.4623115577889454, -2.2110552763819102, -1.959798994974875, -1.7085427135678408, -1.4572864321608048, -1.2060301507537687, -0.9547738693467345, -0.7035175879397002, -0.45226130653266416, -0.20100502512562812, 0.05025125628140614, 0.3015075376884404, 0.5527638190954764, 0.8040201005025125, 1.0552763819095468, 1.306532663316581, 1.557788944723617, 1.809045226130653, 2.0603015075376874, 2.3115577889447216, 2.5628140703517577, 2.8140703517587937, 3.065326633165828, 3.3165829145728623, 3.5678391959798983, 3.8190954773869343, 4.070351758793969, 4.321608040201003, 4.572864321608039, 4.824120603015075, 5.075376884422109, 5.3266331658291435, 5.5778894472361795, 5.829145728643216, 6.08040201005025, 6.331658291457284, 6.582914572864318, 6.834170854271356, 7.08542713567839, 7.336683417085425, 7.5879396984924625, 7.839195979899497, 8.090452261306531, 8.341708542713565, 8.5929648241206, 8.844221105527637, 9.095477386934672, 9.346733668341706, 9.597989949748744, 9.849246231155778, 10.100502512562812, 10.351758793969847, 10.60301507537688, 10.854271356783919, 11.105527638190953, 11.356783919597987, 11.608040201005025, 11.85929648241206, 12.110552763819094, 12.361809045226128, 12.613065326633162, 12.8643216080402, 13.115577889447234, 13.366834170854268, 13.618090452261306, 13.86934673366834, 14.120603015075375, 14.371859296482409, 14.623115577889443, 14.874371859296481, 15.125628140703515, 15.37688442211055, 15.628140703517587, 15.879396984924622, 16.130653266331656, 16.38190954773869, 16.633165829145725, 16.884422110552762, 17.135678391959797, 17.38693467336683, 17.63819095477387, 17.889447236180903, 18.140703517587937, 18.39195979899497, 18.643216080402006, 18.894472361809044, 19.145728643216078, 19.396984924623112, 19.64824120603015, 19.899497487437184, 20.15075376884422, 20.402010050251253, 20.653266331658287, 20.904522613065325, 21.15577889447236, 21.407035175879393, 21.65829145728643, 21.909547738693465, 22.1608040201005, 22.412060301507537, 22.663316582914568, 22.914572864321606, 23.165829145728637, 23.417085427135675, 23.668341708542712, 23.919597989949743, 24.17085427135678, 24.42211055276382, 24.67336683417085, 24.924623115577887, 25.175879396984925, 25.427135678391956, 25.678391959798994, 25.929648241206024, 26.180904522613062, 26.4321608040201, 26.68341708542713, 26.93467336683417, 27.1859296482412, 27.437185929648237, 27.688442211055275, 27.939698492462306, 28.190954773869343, 28.44221105527638, 28.693467336683412, 28.94472361809045, 29.195979899497488, 29.447236180904518, 29.698492462311556, 29.949748743718587, 30.201005025125625, 30.452261306532662, 30.703517587939693, 30.95477386934673, 31.20603015075376, 31.4572864321608, 31.708542713567837, 31.959798994974868, 32.211055276381906, 32.462311557788944, 32.713567839195974, 32.96482412060301, 33.21608040201005, 33.46733668341708, 33.71859296482412, 33.96984924623115, 34.22110552763819, 34.472361809045225, 34.723618090452256, 34.97487437185929, 35.226130653266324, 35.47738693467336, 35.7286432160804, 35.97989949748743, 36.23115577889447, 36.482412060301506, 36.73366834170854, 36.984924623115575, 37.23618090452261, 37.48743718592964, 37.73869346733668, 37.98994974874371, 38.24120603015075, 38.49246231155779, 38.74371859296482, 38.994974874371856, 39.24623115577889, 39.497487437185924, 39.74874371859296, 40.0], \"xaxis\": \"x\", \"y\": [170000.0, 156806.82702179186, 144346.63374417202, 132595.1062742245, 121528.21766505505, 111122.22791579105, 101353.68397158184, 92199.41972359864, 83636.5560090345, 75642.50061110417, 68194.94825904432, 61271.880628113446, 54851.566339591845, 48912.56096078165, 43433.70700500683, 38394.133931613156, 33773.25814596826, 29550.782999461575, 25706.69878950438, 22221.28275952975, 19075.09909899262, 16248.998943369741, 13724.120374159686, 11481.888418882858, 9504.015051081487, 7772.499190319631, 6269.626702183174, 4977.970398279824, 3880.3900362391237, 2960.0323197124335, 2200.330898372947, 1585.0063679156826, 1098.0662700574858, 723.8050925370302, 446.8042691148116, 251.93217957315932, 124.3441497162272, 49.48245136999389, 13.076302382266565, 1.1418666226798393, -0.017746017305429233, -3.8124796244013117, -23.365332263493023, -71.51235597763889, -160.80265678806944, -303.49839469418924, -511.5747836735771, -796.720091681983, -1170.3356406533273, -1643.5358064997083, -2227.1480191114006, -2931.712762356843, -3767.483574082646, -4744.427046113602, -5872.2228242526835, -7160.263608281017, -8617.655151957897, -10253.21626302082, -12075.478803185448, -14092.687688145601, -16312.800887573263, -18743.489425118616, -21392.13737841003, -24265.841879054005, -27371.41311263521, -30715.374318716546, -34303.96179083903, -38143.124876521935, -42238.52597726254, -46595.54054853647, -51219.2570997975, -56114.47719447741, -61285.71544998635, -66737.19953771256, -72472.87018302246, -78496.38116526074, -84811.09931775, -91420.10452779129, -98326.18973666377, -105531.86093962459, -113039.33718590927, -120850.55057873143, -128967.14627528295, -137390.48248673382, -146121.63047823208, -155161.37456890408, -164510.2121318545, -174168.3535941657, -184135.72243689874, -194411.9551950926, -204996.40145776447, -215888.12386790983, -227085.89812250194, -238588.21297249268, -250393.27022281213, -262498.9847323679, -274902.9844140465, -287602.61023471237, -300594.916215208, -313876.66943035426, -327444.3500089498, -341294.1511337719, -355421.9790415761, -369823.45302309527, -384493.9054230413, -399428.38164010405, -414621.6401269513, -430068.15239022963, -445762.10299056274, -461697.38954255334, -477867.6227147824, -494266.1262298085, -510885.9368641684, -527719.8044483773, -544760.1918669292, -561999.2750582949, -579428.9430149245, -597040.7977832456, -614826.1544636646, -632776.041210565, -650881.19923231, -669132.0827912398, -687518.859203673, -706031.4088399068, -724659.3251242158, -743391.914534854, -762218.1966040522, -781126.9039180202, -800106.4821169457, -819145.0898949947, -838230.5990003111, -857350.5942350179, -876492.3734552145, -895642.9475709805, -914789.0405463725, -933917.0893994248, -953013.2442021512, -972063.3680805431, -991053.0372145693, -1009967.5408381782, -1028791.8812392959, -1047510.7737598252, -1066108.646795649, -1084569.6417966275, -1102877.6132665998, -1121016.1287633826, -1138968.4688987697, -1156717.6273385347, -1174246.310802429, -1191536.939064183, -1208571.6449515028, -1225332.2743460739, -1241800.386183561, -1257957.2524536073, -1273783.8581998302, -1289260.9015198317, -1304368.7935651853, -1319087.658541447, -1333397.3337081498, -1347277.3693788052, -1360707.0289209024, -1373665.2887559081, -1386130.8383592688, -1398082.080260408, -1409497.1300427266, -1420353.8163436074, -1430629.6808544071, -1440301.9783204617, -1449347.6765410854, -1457743.456369575, -1465465.7117131967, -1472490.5495332023, -1478793.789844818, -1484350.9657172505, -1489137.3232736825, -1493127.8216912784, -1496297.133201175, -1498619.6430884916, -1500069.4496923247, -1500620.3644057484, -1500245.9116758173, -1498919.3290035613, -1496613.5669439882, -1493301.2891060868, -1488954.872152824, -1483546.4058011388, -1477047.692821958, -1469430.249040178, -1460665.3033346795, -1450723.7976383166, -1439576.3869379256, -1427193.4392743194, -1413545.0357422866, -1398600.9704905972, -1382330.7507220013, -1364703.5966932187, -1345688.4417149583, -1325253.9321518987, -1303368.4274227004, -1280000.0], \"yaxis\": \"y\"}, {\"hovertemplate\": \"variable=wide_variable_1<br>x=%{x}<br>value=%{y}<extra></extra>\", \"legendgroup\": \"wide_variable_1\", \"line\": {\"color\": \"#EF553B\", \"dash\": \"solid\"}, \"mode\": \"lines\", \"name\": \"wide_variable_1\", \"orientation\": \"v\", \"showlegend\": true, \"type\": \"scatter\", \"x\": [-10.0, -9.748743718592966, -9.49748743718593, -9.246231155778894, -8.99497487437186, -8.743718592964825, -8.492462311557789, -8.241206030150753, -7.989949748743719, -7.738693467336684, -7.4874371859296485, -7.236180904522613, -6.984924623115578, -6.733668341708543, -6.482412060301508, -6.231155778894473, -5.9798994974874375, -5.728643216080402, -5.477386934673367, -5.226130653266332, -4.974874371859297, -4.723618090452262, -4.472361809045227, -4.2211055276381915, -3.9698492462311563, -3.718592964824121, -3.467336683417086, -3.216080402010051, -2.9648241206030157, -2.7135678391959805, -2.4623115577889454, -2.2110552763819102, -1.959798994974875, -1.7085427135678408, -1.4572864321608048, -1.2060301507537687, -0.9547738693467345, -0.7035175879397002, -0.45226130653266416, -0.20100502512562812, 0.05025125628140614, 0.3015075376884404, 0.5527638190954764, 0.8040201005025125, 1.0552763819095468, 1.306532663316581, 1.557788944723617, 1.809045226130653, 2.0603015075376874, 2.3115577889447216, 2.5628140703517577, 2.8140703517587937, 3.065326633165828, 3.3165829145728623, 3.5678391959798983, 3.8190954773869343, 4.070351758793969, 4.321608040201003, 4.572864321608039, 4.824120603015075, 5.075376884422109, 5.3266331658291435, 5.5778894472361795, 5.829145728643216, 6.08040201005025, 6.331658291457284, 6.582914572864318, 6.834170854271356, 7.08542713567839, 7.336683417085425, 7.5879396984924625, 7.839195979899497, 8.090452261306531, 8.341708542713565, 8.5929648241206, 8.844221105527637, 9.095477386934672, 9.346733668341706, 9.597989949748744, 9.849246231155778, 10.100502512562812, 10.351758793969847, 10.60301507537688, 10.854271356783919, 11.105527638190953, 11.356783919597987, 11.608040201005025, 11.85929648241206, 12.110552763819094, 12.361809045226128, 12.613065326633162, 12.8643216080402, 13.115577889447234, 13.366834170854268, 13.618090452261306, 13.86934673366834, 14.120603015075375, 14.371859296482409, 14.623115577889443, 14.874371859296481, 15.125628140703515, 15.37688442211055, 15.628140703517587, 15.879396984924622, 16.130653266331656, 16.38190954773869, 16.633165829145725, 16.884422110552762, 17.135678391959797, 17.38693467336683, 17.63819095477387, 17.889447236180903, 18.140703517587937, 18.39195979899497, 18.643216080402006, 18.894472361809044, 19.145728643216078, 19.396984924623112, 19.64824120603015, 19.899497487437184, 20.15075376884422, 20.402010050251253, 20.653266331658287, 20.904522613065325, 21.15577889447236, 21.407035175879393, 21.65829145728643, 21.909547738693465, 22.1608040201005, 22.412060301507537, 22.663316582914568, 22.914572864321606, 23.165829145728637, 23.417085427135675, 23.668341708542712, 23.919597989949743, 24.17085427135678, 24.42211055276382, 24.67336683417085, 24.924623115577887, 25.175879396984925, 25.427135678391956, 25.678391959798994, 25.929648241206024, 26.180904522613062, 26.4321608040201, 26.68341708542713, 26.93467336683417, 27.1859296482412, 27.437185929648237, 27.688442211055275, 27.939698492462306, 28.190954773869343, 28.44221105527638, 28.693467336683412, 28.94472361809045, 29.195979899497488, 29.447236180904518, 29.698492462311556, 29.949748743718587, 30.201005025125625, 30.452261306532662, 30.703517587939693, 30.95477386934673, 31.20603015075376, 31.4572864321608, 31.708542713567837, 31.959798994974868, 32.211055276381906, 32.462311557788944, 32.713567839195974, 32.96482412060301, 33.21608040201005, 33.46733668341708, 33.71859296482412, 33.96984924623115, 34.22110552763819, 34.472361809045225, 34.723618090452256, 34.97487437185929, 35.226130653266324, 35.47738693467336, 35.7286432160804, 35.97989949748743, 36.23115577889447, 36.482412060301506, 36.73366834170854, 36.984924623115575, 37.23618090452261, 37.48743718592964, 37.73869346733668, 37.98994974874371, 38.24120603015075, 38.49246231155779, 38.74371859296482, 38.994974874371856, 39.24623115577889, 39.497487437185924, 39.74874371859296, 40.0], \"xaxis\": \"x\", \"y\": [-54000.0, -51033.97546303271, -48165.291242455045, -45392.80529310017, -42715.37556980123, -40131.86002739133, -37641.11662070358, -35242.00330457113, -32933.378033827124, -30714.09876330467, -28583.0234478369, -26539.010042256938, -24580.91650139793, -22707.600780092984, -20917.920833175245, -19210.734615477835, -17584.900081833883, -16039.275187076517, -14572.717886038867, -13184.086133554063, -11872.237884455231, -10636.031093575504, -9474.323715748005, -8385.973705805867, -7369.839018582218, -6424.777608910187, -5549.647431622902, -4743.306441553494, -4004.612593535087, -3332.4238424008136, -2725.5981429838025, -2182.993450117182, -1703.4677186340798, -1285.8789033676271, -929.0849591509487, -631.9438408171765, -393.3135031994402, -212.05190113086687, -87.01698944458442, -17.066722973723188, -1.0590565514118537, -37.85194501077855, -126.30334318495292, -265.27120590706363, -453.613488010238, -690.1881443276056, -973.8531296922974, -1303.466398937441, -1677.8859068961617, -2095.9696084015914, -2556.5754582868617, -3058.5614113850984, -3600.7854225294273, -4182.10544655298, -4801.379438288888, -5457.46535257028, -6149.221144230277, -6875.504768102011, -7635.1741790186215, -8427.087331813229, -9250.102181318953, -10103.076682368934, -10984.868789796303, -11894.336458434183, -12830.337643115703, -13791.730298673987, -14777.372379942171, -15786.121841753396, -16816.836638940764, -17868.374726337417, -18939.5940587765, -20029.35259109111, -21136.508278114386, -22259.919074679463, -23398.442935619474, -24550.937815767553, -25716.261669956803, -26893.272453020378, -28080.828119791404, -29277.786625102985, -30483.005923788274, -31695.34397068039, -32913.65872061247, -34136.808128417644, -35363.650148929024, -36593.04273697974, -37823.84384740297, -39054.91143503177, -40285.10345469931, -41513.277861238705, -42738.2926094831, -43959.00565426561, -45174.27495041938, -46382.95845277751, -47583.914116173146, -48775.99989543941, -49958.07374540945, -51128.99362091637, -52287.61747679331, -53432.803267873416, -54563.40894898978, -55678.292474975555, -56776.31180066388, -57856.32488088785, -58917.189670480635, -59957.764124275316, -60976.906197105054, -61973.47384380299, -62946.32501920221, -63894.31767813588, -64816.30977543711, -65711.15926593903, -66577.7241044748, -67414.86224587748, -68221.43164498027, -68996.29025661628, -69738.29603561861, -70446.3069368204, -71119.1809150548, -71755.77592515491, -72354.9499219539, -72915.56086028487, -73436.46669498092, -73916.52538087523, -74354.5948728009, -74749.53312559109, -75100.19809407889, -75405.44773309743, -75664.13999747988, -75875.13284205933, -76037.28422166896, -76149.45209114181, -76210.49440531107, -76219.26911900987, -76174.6341870713, -76075.44756432856, -75920.56720561473, -75708.8510657629, -75439.15709960627, -75110.34326197789, -74721.26750771102, -74270.7877916387, -73757.76206859405, -73181.04829341022, -72539.5044209203, -71831.98840595744, -71057.35820335487, -70214.47176794562, -69302.18705456276, -68319.36201803951, -67264.85461320903, -66137.52279490433, -64936.224517958646, -63659.81773720501, -62307.16040747665, -60877.11048360664, -59368.52592042816, -57780.26467277424, -56111.18469547806, -54360.14394337294, -52526.00037129159, -50607.61193406745, -48603.83658653364, -46513.53228352312, -44335.55697986926, -42068.7686304049, -39712.025189963344, -37264.18461337779, -34724.1048554813, -32090.64387110673, -29362.659615087672, -26539.01004225691, -23618.553107447864, -20600.14676549344, -17482.648971226823, -14264.917679481034, -10945.81084508932, -7524.18642288493, -3998.9023677007644, -368.8166343700723, 3367.212822274014, 7210.328047398361, 11161.671086169896, 15222.383983755368, 19393.608785321936, 23676.487536036177, 28072.162281065015, 32581.775065575493, 37206.46793473442, 41947.38293370837, 46805.66210766474, 51782.447501769755, 56878.8811611908, 62096.10513109469, 67435.261456648, 72897.49218301801, 78483.93935537129, 84195.74501887476, 90034.05121869524, 96000.0], \"yaxis\": \"y\"}],                        {\"legend\": {\"title\": {\"text\": \"variable\"}, \"tracegroupgap\": 0}, \"margin\": {\"t\": 60}, \"template\": {\"data\": {\"bar\": [{\"error_x\": {\"color\": \"#2a3f5f\"}, \"error_y\": {\"color\": \"#2a3f5f\"}, \"marker\": {\"line\": {\"color\": \"#E5ECF6\", \"width\": 0.5}}, \"type\": \"bar\"}], \"barpolar\": [{\"marker\": {\"line\": {\"color\": \"#E5ECF6\", \"width\": 0.5}}, \"type\": \"barpolar\"}], \"carpet\": [{\"aaxis\": {\"endlinecolor\": \"#2a3f5f\", \"gridcolor\": \"white\", \"linecolor\": \"white\", \"minorgridcolor\": \"white\", \"startlinecolor\": \"#2a3f5f\"}, \"baxis\": {\"endlinecolor\": \"#2a3f5f\", \"gridcolor\": \"white\", \"linecolor\": \"white\", \"minorgridcolor\": \"white\", \"startlinecolor\": \"#2a3f5f\"}, \"type\": \"carpet\"}], \"choropleth\": [{\"colorbar\": {\"outlinewidth\": 0, \"ticks\": \"\"}, \"type\": \"choropleth\"}], \"contour\": [{\"colorbar\": {\"outlinewidth\": 0, \"ticks\": \"\"}, \"colorscale\": [[0.0, \"#0d0887\"], [0.1111111111111111, \"#46039f\"], [0.2222222222222222, \"#7201a8\"], [0.3333333333333333, \"#9c179e\"], [0.4444444444444444, \"#bd3786\"], [0.5555555555555556, \"#d8576b\"], [0.6666666666666666, \"#ed7953\"], [0.7777777777777778, \"#fb9f3a\"], [0.8888888888888888, \"#fdca26\"], [1.0, \"#f0f921\"]], \"type\": \"contour\"}], \"contourcarpet\": [{\"colorbar\": {\"outlinewidth\": 0, \"ticks\": \"\"}, \"type\": \"contourcarpet\"}], \"heatmap\": [{\"colorbar\": {\"outlinewidth\": 0, \"ticks\": \"\"}, \"colorscale\": [[0.0, \"#0d0887\"], [0.1111111111111111, \"#46039f\"], [0.2222222222222222, \"#7201a8\"], [0.3333333333333333, \"#9c179e\"], [0.4444444444444444, \"#bd3786\"], [0.5555555555555556, \"#d8576b\"], [0.6666666666666666, \"#ed7953\"], [0.7777777777777778, \"#fb9f3a\"], [0.8888888888888888, \"#fdca26\"], [1.0, \"#f0f921\"]], \"type\": \"heatmap\"}], \"heatmapgl\": [{\"colorbar\": {\"outlinewidth\": 0, \"ticks\": \"\"}, \"colorscale\": [[0.0, \"#0d0887\"], [0.1111111111111111, \"#46039f\"], [0.2222222222222222, \"#7201a8\"], [0.3333333333333333, \"#9c179e\"], [0.4444444444444444, \"#bd3786\"], [0.5555555555555556, \"#d8576b\"], [0.6666666666666666, \"#ed7953\"], [0.7777777777777778, \"#fb9f3a\"], [0.8888888888888888, \"#fdca26\"], [1.0, \"#f0f921\"]], \"type\": \"heatmapgl\"}], \"histogram\": [{\"marker\": {\"colorbar\": {\"outlinewidth\": 0, \"ticks\": \"\"}}, \"type\": \"histogram\"}], \"histogram2d\": [{\"colorbar\": {\"outlinewidth\": 0, \"ticks\": \"\"}, \"colorscale\": [[0.0, \"#0d0887\"], [0.1111111111111111, \"#46039f\"], [0.2222222222222222, \"#7201a8\"], [0.3333333333333333, \"#9c179e\"], [0.4444444444444444, \"#bd3786\"], [0.5555555555555556, \"#d8576b\"], [0.6666666666666666, \"#ed7953\"], [0.7777777777777778, \"#fb9f3a\"], [0.8888888888888888, \"#fdca26\"], [1.0, \"#f0f921\"]], \"type\": \"histogram2d\"}], \"histogram2dcontour\": [{\"colorbar\": {\"outlinewidth\": 0, \"ticks\": \"\"}, \"colorscale\": [[0.0, \"#0d0887\"], [0.1111111111111111, \"#46039f\"], [0.2222222222222222, \"#7201a8\"], [0.3333333333333333, \"#9c179e\"], [0.4444444444444444, \"#bd3786\"], [0.5555555555555556, \"#d8576b\"], [0.6666666666666666, \"#ed7953\"], [0.7777777777777778, \"#fb9f3a\"], [0.8888888888888888, \"#fdca26\"], [1.0, \"#f0f921\"]], \"type\": \"histogram2dcontour\"}], \"mesh3d\": [{\"colorbar\": {\"outlinewidth\": 0, \"ticks\": \"\"}, \"type\": \"mesh3d\"}], \"parcoords\": [{\"line\": {\"colorbar\": {\"outlinewidth\": 0, \"ticks\": \"\"}}, \"type\": \"parcoords\"}], \"pie\": [{\"automargin\": true, \"type\": \"pie\"}], \"scatter\": [{\"marker\": {\"colorbar\": {\"outlinewidth\": 0, \"ticks\": \"\"}}, \"type\": \"scatter\"}], \"scatter3d\": [{\"line\": {\"colorbar\": {\"outlinewidth\": 0, \"ticks\": \"\"}}, \"marker\": {\"colorbar\": {\"outlinewidth\": 0, \"ticks\": \"\"}}, \"type\": \"scatter3d\"}], \"scattercarpet\": [{\"marker\": {\"colorbar\": {\"outlinewidth\": 0, \"ticks\": \"\"}}, \"type\": \"scattercarpet\"}], \"scattergeo\": [{\"marker\": {\"colorbar\": {\"outlinewidth\": 0, \"ticks\": \"\"}}, \"type\": \"scattergeo\"}], \"scattergl\": [{\"marker\": {\"colorbar\": {\"outlinewidth\": 0, \"ticks\": \"\"}}, \"type\": \"scattergl\"}], \"scattermapbox\": [{\"marker\": {\"colorbar\": {\"outlinewidth\": 0, \"ticks\": \"\"}}, \"type\": \"scattermapbox\"}], \"scatterpolar\": [{\"marker\": {\"colorbar\": {\"outlinewidth\": 0, \"ticks\": \"\"}}, \"type\": \"scatterpolar\"}], \"scatterpolargl\": [{\"marker\": {\"colorbar\": {\"outlinewidth\": 0, \"ticks\": \"\"}}, \"type\": \"scatterpolargl\"}], \"scatterternary\": [{\"marker\": {\"colorbar\": {\"outlinewidth\": 0, \"ticks\": \"\"}}, \"type\": \"scatterternary\"}], \"surface\": [{\"colorbar\": {\"outlinewidth\": 0, \"ticks\": \"\"}, \"colorscale\": [[0.0, \"#0d0887\"], [0.1111111111111111, \"#46039f\"], [0.2222222222222222, \"#7201a8\"], [0.3333333333333333, \"#9c179e\"], [0.4444444444444444, \"#bd3786\"], [0.5555555555555556, \"#d8576b\"], [0.6666666666666666, \"#ed7953\"], [0.7777777777777778, \"#fb9f3a\"], [0.8888888888888888, \"#fdca26\"], [1.0, \"#f0f921\"]], \"type\": \"surface\"}], \"table\": [{\"cells\": {\"fill\": {\"color\": \"#EBF0F8\"}, \"line\": {\"color\": \"white\"}}, \"header\": {\"fill\": {\"color\": \"#C8D4E3\"}, \"line\": {\"color\": \"white\"}}, \"type\": \"table\"}]}, \"layout\": {\"annotationdefaults\": {\"arrowcolor\": \"#2a3f5f\", \"arrowhead\": 0, \"arrowwidth\": 1}, \"coloraxis\": {\"colorbar\": {\"outlinewidth\": 0, \"ticks\": \"\"}}, \"colorscale\": {\"diverging\": [[0, \"#8e0152\"], [0.1, \"#c51b7d\"], [0.2, \"#de77ae\"], [0.3, \"#f1b6da\"], [0.4, \"#fde0ef\"], [0.5, \"#f7f7f7\"], [0.6, \"#e6f5d0\"], [0.7, \"#b8e186\"], [0.8, \"#7fbc41\"], [0.9, \"#4d9221\"], [1, \"#276419\"]], \"sequential\": [[0.0, \"#0d0887\"], [0.1111111111111111, \"#46039f\"], [0.2222222222222222, \"#7201a8\"], [0.3333333333333333, \"#9c179e\"], [0.4444444444444444, \"#bd3786\"], [0.5555555555555556, \"#d8576b\"], [0.6666666666666666, \"#ed7953\"], [0.7777777777777778, \"#fb9f3a\"], [0.8888888888888888, \"#fdca26\"], [1.0, \"#f0f921\"]], \"sequentialminus\": [[0.0, \"#0d0887\"], [0.1111111111111111, \"#46039f\"], [0.2222222222222222, \"#7201a8\"], [0.3333333333333333, \"#9c179e\"], [0.4444444444444444, \"#bd3786\"], [0.5555555555555556, \"#d8576b\"], [0.6666666666666666, \"#ed7953\"], [0.7777777777777778, \"#fb9f3a\"], [0.8888888888888888, \"#fdca26\"], [1.0, \"#f0f921\"]]}, \"colorway\": [\"#636efa\", \"#EF553B\", \"#00cc96\", \"#ab63fa\", \"#FFA15A\", \"#19d3f3\", \"#FF6692\", \"#B6E880\", \"#FF97FF\", \"#FECB52\"], \"font\": {\"color\": \"#2a3f5f\"}, \"geo\": {\"bgcolor\": \"white\", \"lakecolor\": \"white\", \"landcolor\": \"#E5ECF6\", \"showlakes\": true, \"showland\": true, \"subunitcolor\": \"white\"}, \"hoverlabel\": {\"align\": \"left\"}, \"hovermode\": \"closest\", \"mapbox\": {\"style\": \"light\"}, \"paper_bgcolor\": \"white\", \"plot_bgcolor\": \"#E5ECF6\", \"polar\": {\"angularaxis\": {\"gridcolor\": \"white\", \"linecolor\": \"white\", \"ticks\": \"\"}, \"bgcolor\": \"#E5ECF6\", \"radialaxis\": {\"gridcolor\": \"white\", \"linecolor\": \"white\", \"ticks\": \"\"}}, \"scene\": {\"xaxis\": {\"backgroundcolor\": \"#E5ECF6\", \"gridcolor\": \"white\", \"gridwidth\": 2, \"linecolor\": \"white\", \"showbackground\": true, \"ticks\": \"\", \"zerolinecolor\": \"white\"}, \"yaxis\": {\"backgroundcolor\": \"#E5ECF6\", \"gridcolor\": \"white\", \"gridwidth\": 2, \"linecolor\": \"white\", \"showbackground\": true, \"ticks\": \"\", \"zerolinecolor\": \"white\"}, \"zaxis\": {\"backgroundcolor\": \"#E5ECF6\", \"gridcolor\": \"white\", \"gridwidth\": 2, \"linecolor\": \"white\", \"showbackground\": true, \"ticks\": \"\", \"zerolinecolor\": \"white\"}}, \"shapedefaults\": {\"line\": {\"color\": \"#2a3f5f\"}}, \"ternary\": {\"aaxis\": {\"gridcolor\": \"white\", \"linecolor\": \"white\", \"ticks\": \"\"}, \"baxis\": {\"gridcolor\": \"white\", \"linecolor\": \"white\", \"ticks\": \"\"}, \"bgcolor\": \"#E5ECF6\", \"caxis\": {\"gridcolor\": \"white\", \"linecolor\": \"white\", \"ticks\": \"\"}}, \"title\": {\"x\": 0.05}, \"xaxis\": {\"automargin\": true, \"gridcolor\": \"white\", \"linecolor\": \"white\", \"ticks\": \"\", \"title\": {\"standoff\": 15}, \"zerolinecolor\": \"white\", \"zerolinewidth\": 2}, \"yaxis\": {\"automargin\": true, \"gridcolor\": \"white\", \"linecolor\": \"white\", \"ticks\": \"\", \"title\": {\"standoff\": 15}, \"zerolinecolor\": \"white\", \"zerolinewidth\": 2}}}, \"xaxis\": {\"anchor\": \"y\", \"domain\": [0.0, 1.0], \"title\": {\"text\": \"x\"}}, \"yaxis\": {\"anchor\": \"x\", \"domain\": [0.0, 1.0], \"title\": {\"text\": \"value\"}}},                        {\"responsive\": true}                    ).then(function(){\n",
       "                            \n",
       "var gd = document.getElementById('119b3773-69cf-463e-a875-0bdb75b52cae');\n",
       "var x = new MutationObserver(function (mutations, observer) {{\n",
       "        var display = window.getComputedStyle(gd).display;\n",
       "        if (!display || display === 'none') {{\n",
       "            console.log([gd, 'removed!']);\n",
       "            Plotly.purge(gd);\n",
       "            observer.disconnect();\n",
       "        }}\n",
       "}});\n",
       "\n",
       "// Listen for the removal of the full notebook cells\n",
       "var notebookContainer = gd.closest('#notebook-container');\n",
       "if (notebookContainer) {{\n",
       "    x.observe(notebookContainer, {childList: true});\n",
       "}}\n",
       "\n",
       "// Listen for the clearing of the current output cell\n",
       "var outputEl = gd.closest('.output');\n",
       "if (outputEl) {{\n",
       "    x.observe(outputEl, {childList: true});\n",
       "}}\n",
       "\n",
       "                        })                };                });            </script>        </div>"
      ]
     },
     "metadata": {},
     "output_type": "display_data"
    }
   ],
   "source": [
    "fig = px.line(x=x, y=[f(x), df(x)])\n",
    "fig.show()"
   ]
  },
  {
   "cell_type": "code",
   "execution_count": 25,
   "metadata": {},
   "outputs": [
    {
     "data": {
      "application/vnd.plotly.v1+json": {
       "config": {
        "plotlyServerURL": "https://plot.ly"
       },
       "data": [
        {
         "type": "scatter",
         "x": [
          -10,
          -9.748743718592966,
          -9.49748743718593,
          -9.246231155778894,
          -8.99497487437186,
          -8.743718592964825,
          -8.492462311557789,
          -8.241206030150753,
          -7.989949748743719,
          -7.738693467336684,
          -7.4874371859296485,
          -7.236180904522613,
          -6.984924623115578,
          -6.733668341708543,
          -6.482412060301508,
          -6.231155778894473,
          -5.9798994974874375,
          -5.728643216080402,
          -5.477386934673367,
          -5.226130653266332,
          -4.974874371859297,
          -4.723618090452262,
          -4.472361809045227,
          -4.2211055276381915,
          -3.9698492462311563,
          -3.718592964824121,
          -3.467336683417086,
          -3.216080402010051,
          -2.9648241206030157,
          -2.7135678391959805,
          -2.4623115577889454,
          -2.2110552763819102,
          -1.959798994974875,
          -1.7085427135678408,
          -1.4572864321608048,
          -1.2060301507537687,
          -0.9547738693467345,
          -0.7035175879397002,
          -0.45226130653266416,
          -0.20100502512562812,
          0.05025125628140614,
          0.3015075376884404,
          0.5527638190954764,
          0.8040201005025125,
          1.0552763819095468,
          1.306532663316581,
          1.557788944723617,
          1.809045226130653,
          2.0603015075376874,
          2.3115577889447216,
          2.5628140703517577,
          2.8140703517587937,
          3.065326633165828,
          3.3165829145728623,
          3.5678391959798983,
          3.8190954773869343,
          4.070351758793969,
          4.321608040201003,
          4.572864321608039,
          4.824120603015075,
          5.075376884422109,
          5.3266331658291435,
          5.5778894472361795,
          5.829145728643216,
          6.08040201005025,
          6.331658291457284,
          6.582914572864318,
          6.834170854271356,
          7.08542713567839,
          7.336683417085425,
          7.5879396984924625,
          7.839195979899497,
          8.090452261306531,
          8.341708542713565,
          8.5929648241206,
          8.844221105527637,
          9.095477386934672,
          9.346733668341706,
          9.597989949748744,
          9.849246231155778,
          10.100502512562812,
          10.351758793969847,
          10.60301507537688,
          10.854271356783919,
          11.105527638190953,
          11.356783919597987,
          11.608040201005025,
          11.85929648241206,
          12.110552763819094,
          12.361809045226128,
          12.613065326633162,
          12.8643216080402,
          13.115577889447234,
          13.366834170854268,
          13.618090452261306,
          13.86934673366834,
          14.120603015075375,
          14.371859296482409,
          14.623115577889443,
          14.874371859296481,
          15.125628140703515,
          15.37688442211055,
          15.628140703517587,
          15.879396984924622,
          16.130653266331656,
          16.38190954773869,
          16.633165829145725,
          16.884422110552762,
          17.135678391959797,
          17.38693467336683,
          17.63819095477387,
          17.889447236180903,
          18.140703517587937,
          18.39195979899497,
          18.643216080402006,
          18.894472361809044,
          19.145728643216078,
          19.396984924623112,
          19.64824120603015,
          19.899497487437184,
          20.15075376884422,
          20.402010050251253,
          20.653266331658287,
          20.904522613065325,
          21.15577889447236,
          21.407035175879393,
          21.65829145728643,
          21.909547738693465,
          22.1608040201005,
          22.412060301507537,
          22.663316582914568,
          22.914572864321606,
          23.165829145728637,
          23.417085427135675,
          23.668341708542712,
          23.919597989949743,
          24.17085427135678,
          24.42211055276382,
          24.67336683417085,
          24.924623115577887,
          25.175879396984925,
          25.427135678391956,
          25.678391959798994,
          25.929648241206024,
          26.180904522613062,
          26.4321608040201,
          26.68341708542713,
          26.93467336683417,
          27.1859296482412,
          27.437185929648237,
          27.688442211055275,
          27.939698492462306,
          28.190954773869343,
          28.44221105527638,
          28.693467336683412,
          28.94472361809045,
          29.195979899497488,
          29.447236180904518,
          29.698492462311556,
          29.949748743718587,
          30.201005025125625,
          30.452261306532662,
          30.703517587939693,
          30.95477386934673,
          31.20603015075376,
          31.4572864321608,
          31.708542713567837,
          31.959798994974868,
          32.211055276381906,
          32.462311557788944,
          32.713567839195974,
          32.96482412060301,
          33.21608040201005,
          33.46733668341708,
          33.71859296482412,
          33.96984924623115,
          34.22110552763819,
          34.472361809045225,
          34.723618090452256,
          34.97487437185929,
          35.226130653266324,
          35.47738693467336,
          35.7286432160804,
          35.97989949748743,
          36.23115577889447,
          36.482412060301506,
          36.73366834170854,
          36.984924623115575,
          37.23618090452261,
          37.48743718592964,
          37.73869346733668,
          37.98994974874371,
          38.24120603015075,
          38.49246231155779,
          38.74371859296482,
          38.994974874371856,
          39.24623115577889,
          39.497487437185924,
          39.74874371859296,
          40
         ],
         "y": [
          170000,
          156806.82702179186,
          144346.63374417202,
          132595.1062742245,
          121528.21766505505,
          111122.22791579105,
          101353.68397158184,
          92199.41972359864,
          83636.5560090345,
          75642.50061110417,
          68194.94825904432,
          61271.880628113446,
          54851.566339591845,
          48912.56096078165,
          43433.70700500683,
          38394.133931613156,
          33773.25814596826,
          29550.782999461575,
          25706.69878950438,
          22221.28275952975,
          19075.09909899262,
          16248.998943369741,
          13724.120374159686,
          11481.888418882858,
          9504.015051081487,
          7772.499190319631,
          6269.626702183174,
          4977.970398279824,
          3880.3900362391237,
          2960.0323197124335,
          2200.330898372947,
          1585.0063679156826,
          1098.0662700574858,
          723.8050925370302,
          446.8042691148116,
          251.93217957315932,
          124.3441497162272,
          49.48245136999389,
          13.076302382266565,
          1.1418666226798393,
          -0.017746017305429233,
          -3.8124796244013117,
          -23.365332263493023,
          -71.51235597763889,
          -160.80265678806944,
          -303.49839469418924,
          -511.5747836735771,
          -796.720091681983,
          -1170.3356406533273,
          -1643.5358064997083,
          -2227.1480191114006,
          -2931.712762356843,
          -3767.483574082646,
          -4744.427046113602,
          -5872.2228242526835,
          -7160.263608281017,
          -8617.655151957897,
          -10253.21626302082,
          -12075.478803185448,
          -14092.687688145601,
          -16312.800887573263,
          -18743.489425118616,
          -21392.13737841003,
          -24265.841879054005,
          -27371.41311263521,
          -30715.374318716546,
          -34303.96179083903,
          -38143.124876521935,
          -42238.52597726254,
          -46595.54054853647,
          -51219.2570997975,
          -56114.47719447741,
          -61285.71544998635,
          -66737.19953771256,
          -72472.87018302246,
          -78496.38116526074,
          -84811.09931775,
          -91420.10452779129,
          -98326.18973666377,
          -105531.86093962459,
          -113039.33718590927,
          -120850.55057873143,
          -128967.14627528295,
          -137390.48248673382,
          -146121.63047823208,
          -155161.37456890408,
          -164510.2121318545,
          -174168.3535941657,
          -184135.72243689874,
          -194411.9551950926,
          -204996.40145776447,
          -215888.12386790983,
          -227085.89812250194,
          -238588.21297249268,
          -250393.27022281213,
          -262498.9847323679,
          -274902.9844140465,
          -287602.61023471237,
          -300594.916215208,
          -313876.66943035426,
          -327444.3500089498,
          -341294.1511337719,
          -355421.9790415761,
          -369823.45302309527,
          -384493.9054230413,
          -399428.38164010405,
          -414621.6401269513,
          -430068.15239022963,
          -445762.10299056274,
          -461697.38954255334,
          -477867.6227147824,
          -494266.1262298085,
          -510885.9368641684,
          -527719.8044483773,
          -544760.1918669292,
          -561999.2750582949,
          -579428.9430149245,
          -597040.7977832456,
          -614826.1544636646,
          -632776.041210565,
          -650881.19923231,
          -669132.0827912398,
          -687518.859203673,
          -706031.4088399068,
          -724659.3251242158,
          -743391.914534854,
          -762218.1966040522,
          -781126.9039180202,
          -800106.4821169457,
          -819145.0898949947,
          -838230.5990003111,
          -857350.5942350179,
          -876492.3734552145,
          -895642.9475709805,
          -914789.0405463725,
          -933917.0893994248,
          -953013.2442021512,
          -972063.3680805431,
          -991053.0372145693,
          -1009967.5408381782,
          -1028791.8812392959,
          -1047510.7737598252,
          -1066108.646795649,
          -1084569.6417966275,
          -1102877.6132665998,
          -1121016.1287633826,
          -1138968.4688987697,
          -1156717.6273385347,
          -1174246.310802429,
          -1191536.939064183,
          -1208571.6449515028,
          -1225332.2743460739,
          -1241800.386183561,
          -1257957.2524536073,
          -1273783.8581998302,
          -1289260.9015198317,
          -1304368.7935651853,
          -1319087.658541447,
          -1333397.3337081498,
          -1347277.3693788052,
          -1360707.0289209024,
          -1373665.2887559081,
          -1386130.8383592688,
          -1398082.080260408,
          -1409497.1300427266,
          -1420353.8163436074,
          -1430629.6808544071,
          -1440301.9783204617,
          -1449347.6765410854,
          -1457743.456369575,
          -1465465.7117131967,
          -1472490.5495332023,
          -1478793.789844818,
          -1484350.9657172505,
          -1489137.3232736825,
          -1493127.8216912784,
          -1496297.133201175,
          -1498619.6430884916,
          -1500069.4496923247,
          -1500620.3644057484,
          -1500245.9116758173,
          -1498919.3290035613,
          -1496613.5669439882,
          -1493301.2891060868,
          -1488954.872152824,
          -1483546.4058011388,
          -1477047.692821958,
          -1469430.249040178,
          -1460665.3033346795,
          -1450723.7976383166,
          -1439576.3869379256,
          -1427193.4392743194,
          -1413545.0357422866,
          -1398600.9704905972,
          -1382330.7507220013,
          -1364703.5966932187,
          -1345688.4417149583,
          -1325253.9321518987,
          -1303368.4274227004,
          -1280000
         ]
        },
        {
         "type": "scatter",
         "x": [
          -10,
          -9.748743718592966,
          -9.49748743718593,
          -9.246231155778894,
          -8.99497487437186,
          -8.743718592964825,
          -8.492462311557789,
          -8.241206030150753,
          -7.989949748743719,
          -7.738693467336684,
          -7.4874371859296485,
          -7.236180904522613,
          -6.984924623115578,
          -6.733668341708543,
          -6.482412060301508,
          -6.231155778894473,
          -5.9798994974874375,
          -5.728643216080402,
          -5.477386934673367,
          -5.226130653266332,
          -4.974874371859297,
          -4.723618090452262,
          -4.472361809045227,
          -4.2211055276381915,
          -3.9698492462311563,
          -3.718592964824121,
          -3.467336683417086,
          -3.216080402010051,
          -2.9648241206030157,
          -2.7135678391959805,
          -2.4623115577889454,
          -2.2110552763819102,
          -1.959798994974875,
          -1.7085427135678408,
          -1.4572864321608048,
          -1.2060301507537687,
          -0.9547738693467345,
          -0.7035175879397002,
          -0.45226130653266416,
          -0.20100502512562812,
          0.05025125628140614,
          0.3015075376884404,
          0.5527638190954764,
          0.8040201005025125,
          1.0552763819095468,
          1.306532663316581,
          1.557788944723617,
          1.809045226130653,
          2.0603015075376874,
          2.3115577889447216,
          2.5628140703517577,
          2.8140703517587937,
          3.065326633165828,
          3.3165829145728623,
          3.5678391959798983,
          3.8190954773869343,
          4.070351758793969,
          4.321608040201003,
          4.572864321608039,
          4.824120603015075,
          5.075376884422109,
          5.3266331658291435,
          5.5778894472361795,
          5.829145728643216,
          6.08040201005025,
          6.331658291457284,
          6.582914572864318,
          6.834170854271356,
          7.08542713567839,
          7.336683417085425,
          7.5879396984924625,
          7.839195979899497,
          8.090452261306531,
          8.341708542713565,
          8.5929648241206,
          8.844221105527637,
          9.095477386934672,
          9.346733668341706,
          9.597989949748744,
          9.849246231155778,
          10.100502512562812,
          10.351758793969847,
          10.60301507537688,
          10.854271356783919,
          11.105527638190953,
          11.356783919597987,
          11.608040201005025,
          11.85929648241206,
          12.110552763819094,
          12.361809045226128,
          12.613065326633162,
          12.8643216080402,
          13.115577889447234,
          13.366834170854268,
          13.618090452261306,
          13.86934673366834,
          14.120603015075375,
          14.371859296482409,
          14.623115577889443,
          14.874371859296481,
          15.125628140703515,
          15.37688442211055,
          15.628140703517587,
          15.879396984924622,
          16.130653266331656,
          16.38190954773869,
          16.633165829145725,
          16.884422110552762,
          17.135678391959797,
          17.38693467336683,
          17.63819095477387,
          17.889447236180903,
          18.140703517587937,
          18.39195979899497,
          18.643216080402006,
          18.894472361809044,
          19.145728643216078,
          19.396984924623112,
          19.64824120603015,
          19.899497487437184,
          20.15075376884422,
          20.402010050251253,
          20.653266331658287,
          20.904522613065325,
          21.15577889447236,
          21.407035175879393,
          21.65829145728643,
          21.909547738693465,
          22.1608040201005,
          22.412060301507537,
          22.663316582914568,
          22.914572864321606,
          23.165829145728637,
          23.417085427135675,
          23.668341708542712,
          23.919597989949743,
          24.17085427135678,
          24.42211055276382,
          24.67336683417085,
          24.924623115577887,
          25.175879396984925,
          25.427135678391956,
          25.678391959798994,
          25.929648241206024,
          26.180904522613062,
          26.4321608040201,
          26.68341708542713,
          26.93467336683417,
          27.1859296482412,
          27.437185929648237,
          27.688442211055275,
          27.939698492462306,
          28.190954773869343,
          28.44221105527638,
          28.693467336683412,
          28.94472361809045,
          29.195979899497488,
          29.447236180904518,
          29.698492462311556,
          29.949748743718587,
          30.201005025125625,
          30.452261306532662,
          30.703517587939693,
          30.95477386934673,
          31.20603015075376,
          31.4572864321608,
          31.708542713567837,
          31.959798994974868,
          32.211055276381906,
          32.462311557788944,
          32.713567839195974,
          32.96482412060301,
          33.21608040201005,
          33.46733668341708,
          33.71859296482412,
          33.96984924623115,
          34.22110552763819,
          34.472361809045225,
          34.723618090452256,
          34.97487437185929,
          35.226130653266324,
          35.47738693467336,
          35.7286432160804,
          35.97989949748743,
          36.23115577889447,
          36.482412060301506,
          36.73366834170854,
          36.984924623115575,
          37.23618090452261,
          37.48743718592964,
          37.73869346733668,
          37.98994974874371,
          38.24120603015075,
          38.49246231155779,
          38.74371859296482,
          38.994974874371856,
          39.24623115577889,
          39.497487437185924,
          39.74874371859296,
          40
         ],
         "y": [
          -54000,
          -51033.97546303271,
          -48165.291242455045,
          -45392.80529310017,
          -42715.37556980123,
          -40131.86002739133,
          -37641.11662070358,
          -35242.00330457113,
          -32933.378033827124,
          -30714.09876330467,
          -28583.0234478369,
          -26539.010042256938,
          -24580.91650139793,
          -22707.600780092984,
          -20917.920833175245,
          -19210.734615477835,
          -17584.900081833883,
          -16039.275187076517,
          -14572.717886038867,
          -13184.086133554063,
          -11872.237884455231,
          -10636.031093575504,
          -9474.323715748005,
          -8385.973705805867,
          -7369.839018582218,
          -6424.777608910187,
          -5549.647431622902,
          -4743.306441553494,
          -4004.612593535087,
          -3332.4238424008136,
          -2725.5981429838025,
          -2182.993450117182,
          -1703.4677186340798,
          -1285.8789033676271,
          -929.0849591509487,
          -631.9438408171765,
          -393.3135031994402,
          -212.05190113086687,
          -87.01698944458442,
          -17.066722973723188,
          -1.0590565514118537,
          -37.85194501077855,
          -126.30334318495292,
          -265.27120590706363,
          -453.613488010238,
          -690.1881443276056,
          -973.8531296922974,
          -1303.466398937441,
          -1677.8859068961617,
          -2095.9696084015914,
          -2556.5754582868617,
          -3058.5614113850984,
          -3600.7854225294273,
          -4182.10544655298,
          -4801.379438288888,
          -5457.46535257028,
          -6149.221144230277,
          -6875.504768102011,
          -7635.1741790186215,
          -8427.087331813229,
          -9250.102181318953,
          -10103.076682368934,
          -10984.868789796303,
          -11894.336458434183,
          -12830.337643115703,
          -13791.730298673987,
          -14777.372379942171,
          -15786.121841753396,
          -16816.836638940764,
          -17868.374726337417,
          -18939.5940587765,
          -20029.35259109111,
          -21136.508278114386,
          -22259.919074679463,
          -23398.442935619474,
          -24550.937815767553,
          -25716.261669956803,
          -26893.272453020378,
          -28080.828119791404,
          -29277.786625102985,
          -30483.005923788274,
          -31695.34397068039,
          -32913.65872061247,
          -34136.808128417644,
          -35363.650148929024,
          -36593.04273697974,
          -37823.84384740297,
          -39054.91143503177,
          -40285.10345469931,
          -41513.277861238705,
          -42738.2926094831,
          -43959.00565426561,
          -45174.27495041938,
          -46382.95845277751,
          -47583.914116173146,
          -48775.99989543941,
          -49958.07374540945,
          -51128.99362091637,
          -52287.61747679331,
          -53432.803267873416,
          -54563.40894898978,
          -55678.292474975555,
          -56776.31180066388,
          -57856.32488088785,
          -58917.189670480635,
          -59957.764124275316,
          -60976.906197105054,
          -61973.47384380299,
          -62946.32501920221,
          -63894.31767813588,
          -64816.30977543711,
          -65711.15926593903,
          -66577.7241044748,
          -67414.86224587748,
          -68221.43164498027,
          -68996.29025661628,
          -69738.29603561861,
          -70446.3069368204,
          -71119.1809150548,
          -71755.77592515491,
          -72354.9499219539,
          -72915.56086028487,
          -73436.46669498092,
          -73916.52538087523,
          -74354.5948728009,
          -74749.53312559109,
          -75100.19809407889,
          -75405.44773309743,
          -75664.13999747988,
          -75875.13284205933,
          -76037.28422166896,
          -76149.45209114181,
          -76210.49440531107,
          -76219.26911900987,
          -76174.6341870713,
          -76075.44756432856,
          -75920.56720561473,
          -75708.8510657629,
          -75439.15709960627,
          -75110.34326197789,
          -74721.26750771102,
          -74270.7877916387,
          -73757.76206859405,
          -73181.04829341022,
          -72539.5044209203,
          -71831.98840595744,
          -71057.35820335487,
          -70214.47176794562,
          -69302.18705456276,
          -68319.36201803951,
          -67264.85461320903,
          -66137.52279490433,
          -64936.224517958646,
          -63659.81773720501,
          -62307.16040747665,
          -60877.11048360664,
          -59368.52592042816,
          -57780.26467277424,
          -56111.18469547806,
          -54360.14394337294,
          -52526.00037129159,
          -50607.61193406745,
          -48603.83658653364,
          -46513.53228352312,
          -44335.55697986926,
          -42068.7686304049,
          -39712.025189963344,
          -37264.18461337779,
          -34724.1048554813,
          -32090.64387110673,
          -29362.659615087672,
          -26539.01004225691,
          -23618.553107447864,
          -20600.14676549344,
          -17482.648971226823,
          -14264.917679481034,
          -10945.81084508932,
          -7524.18642288493,
          -3998.9023677007644,
          -368.8166343700723,
          3367.212822274014,
          7210.328047398361,
          11161.671086169896,
          15222.383983755368,
          19393.608785321936,
          23676.487536036177,
          28072.162281065015,
          32581.775065575493,
          37206.46793473442,
          41947.38293370837,
          46805.66210766474,
          51782.447501769755,
          56878.8811611908,
          62096.10513109469,
          67435.261456648,
          72897.49218301801,
          78483.93935537129,
          84195.74501887476,
          90034.05121869524,
          96000
         ]
        }
       ],
       "layout": {
        "autosize": true,
        "template": {
         "data": {
          "bar": [
           {
            "error_x": {
             "color": "#2a3f5f"
            },
            "error_y": {
             "color": "#2a3f5f"
            },
            "marker": {
             "line": {
              "color": "#E5ECF6",
              "width": 0.5
             }
            },
            "type": "bar"
           }
          ],
          "barpolar": [
           {
            "marker": {
             "line": {
              "color": "#E5ECF6",
              "width": 0.5
             }
            },
            "type": "barpolar"
           }
          ],
          "carpet": [
           {
            "aaxis": {
             "endlinecolor": "#2a3f5f",
             "gridcolor": "white",
             "linecolor": "white",
             "minorgridcolor": "white",
             "startlinecolor": "#2a3f5f"
            },
            "baxis": {
             "endlinecolor": "#2a3f5f",
             "gridcolor": "white",
             "linecolor": "white",
             "minorgridcolor": "white",
             "startlinecolor": "#2a3f5f"
            },
            "type": "carpet"
           }
          ],
          "choropleth": [
           {
            "colorbar": {
             "outlinewidth": 0,
             "ticks": ""
            },
            "type": "choropleth"
           }
          ],
          "contour": [
           {
            "colorbar": {
             "outlinewidth": 0,
             "ticks": ""
            },
            "colorscale": [
             [
              0,
              "#0d0887"
             ],
             [
              0.1111111111111111,
              "#46039f"
             ],
             [
              0.2222222222222222,
              "#7201a8"
             ],
             [
              0.3333333333333333,
              "#9c179e"
             ],
             [
              0.4444444444444444,
              "#bd3786"
             ],
             [
              0.5555555555555556,
              "#d8576b"
             ],
             [
              0.6666666666666666,
              "#ed7953"
             ],
             [
              0.7777777777777778,
              "#fb9f3a"
             ],
             [
              0.8888888888888888,
              "#fdca26"
             ],
             [
              1,
              "#f0f921"
             ]
            ],
            "type": "contour"
           }
          ],
          "contourcarpet": [
           {
            "colorbar": {
             "outlinewidth": 0,
             "ticks": ""
            },
            "type": "contourcarpet"
           }
          ],
          "heatmap": [
           {
            "colorbar": {
             "outlinewidth": 0,
             "ticks": ""
            },
            "colorscale": [
             [
              0,
              "#0d0887"
             ],
             [
              0.1111111111111111,
              "#46039f"
             ],
             [
              0.2222222222222222,
              "#7201a8"
             ],
             [
              0.3333333333333333,
              "#9c179e"
             ],
             [
              0.4444444444444444,
              "#bd3786"
             ],
             [
              0.5555555555555556,
              "#d8576b"
             ],
             [
              0.6666666666666666,
              "#ed7953"
             ],
             [
              0.7777777777777778,
              "#fb9f3a"
             ],
             [
              0.8888888888888888,
              "#fdca26"
             ],
             [
              1,
              "#f0f921"
             ]
            ],
            "type": "heatmap"
           }
          ],
          "heatmapgl": [
           {
            "colorbar": {
             "outlinewidth": 0,
             "ticks": ""
            },
            "colorscale": [
             [
              0,
              "#0d0887"
             ],
             [
              0.1111111111111111,
              "#46039f"
             ],
             [
              0.2222222222222222,
              "#7201a8"
             ],
             [
              0.3333333333333333,
              "#9c179e"
             ],
             [
              0.4444444444444444,
              "#bd3786"
             ],
             [
              0.5555555555555556,
              "#d8576b"
             ],
             [
              0.6666666666666666,
              "#ed7953"
             ],
             [
              0.7777777777777778,
              "#fb9f3a"
             ],
             [
              0.8888888888888888,
              "#fdca26"
             ],
             [
              1,
              "#f0f921"
             ]
            ],
            "type": "heatmapgl"
           }
          ],
          "histogram": [
           {
            "marker": {
             "colorbar": {
              "outlinewidth": 0,
              "ticks": ""
             }
            },
            "type": "histogram"
           }
          ],
          "histogram2d": [
           {
            "colorbar": {
             "outlinewidth": 0,
             "ticks": ""
            },
            "colorscale": [
             [
              0,
              "#0d0887"
             ],
             [
              0.1111111111111111,
              "#46039f"
             ],
             [
              0.2222222222222222,
              "#7201a8"
             ],
             [
              0.3333333333333333,
              "#9c179e"
             ],
             [
              0.4444444444444444,
              "#bd3786"
             ],
             [
              0.5555555555555556,
              "#d8576b"
             ],
             [
              0.6666666666666666,
              "#ed7953"
             ],
             [
              0.7777777777777778,
              "#fb9f3a"
             ],
             [
              0.8888888888888888,
              "#fdca26"
             ],
             [
              1,
              "#f0f921"
             ]
            ],
            "type": "histogram2d"
           }
          ],
          "histogram2dcontour": [
           {
            "colorbar": {
             "outlinewidth": 0,
             "ticks": ""
            },
            "colorscale": [
             [
              0,
              "#0d0887"
             ],
             [
              0.1111111111111111,
              "#46039f"
             ],
             [
              0.2222222222222222,
              "#7201a8"
             ],
             [
              0.3333333333333333,
              "#9c179e"
             ],
             [
              0.4444444444444444,
              "#bd3786"
             ],
             [
              0.5555555555555556,
              "#d8576b"
             ],
             [
              0.6666666666666666,
              "#ed7953"
             ],
             [
              0.7777777777777778,
              "#fb9f3a"
             ],
             [
              0.8888888888888888,
              "#fdca26"
             ],
             [
              1,
              "#f0f921"
             ]
            ],
            "type": "histogram2dcontour"
           }
          ],
          "mesh3d": [
           {
            "colorbar": {
             "outlinewidth": 0,
             "ticks": ""
            },
            "type": "mesh3d"
           }
          ],
          "parcoords": [
           {
            "line": {
             "colorbar": {
              "outlinewidth": 0,
              "ticks": ""
             }
            },
            "type": "parcoords"
           }
          ],
          "pie": [
           {
            "automargin": true,
            "type": "pie"
           }
          ],
          "scatter": [
           {
            "marker": {
             "colorbar": {
              "outlinewidth": 0,
              "ticks": ""
             }
            },
            "type": "scatter"
           }
          ],
          "scatter3d": [
           {
            "line": {
             "colorbar": {
              "outlinewidth": 0,
              "ticks": ""
             }
            },
            "marker": {
             "colorbar": {
              "outlinewidth": 0,
              "ticks": ""
             }
            },
            "type": "scatter3d"
           }
          ],
          "scattercarpet": [
           {
            "marker": {
             "colorbar": {
              "outlinewidth": 0,
              "ticks": ""
             }
            },
            "type": "scattercarpet"
           }
          ],
          "scattergeo": [
           {
            "marker": {
             "colorbar": {
              "outlinewidth": 0,
              "ticks": ""
             }
            },
            "type": "scattergeo"
           }
          ],
          "scattergl": [
           {
            "marker": {
             "colorbar": {
              "outlinewidth": 0,
              "ticks": ""
             }
            },
            "type": "scattergl"
           }
          ],
          "scattermapbox": [
           {
            "marker": {
             "colorbar": {
              "outlinewidth": 0,
              "ticks": ""
             }
            },
            "type": "scattermapbox"
           }
          ],
          "scatterpolar": [
           {
            "marker": {
             "colorbar": {
              "outlinewidth": 0,
              "ticks": ""
             }
            },
            "type": "scatterpolar"
           }
          ],
          "scatterpolargl": [
           {
            "marker": {
             "colorbar": {
              "outlinewidth": 0,
              "ticks": ""
             }
            },
            "type": "scatterpolargl"
           }
          ],
          "scatterternary": [
           {
            "marker": {
             "colorbar": {
              "outlinewidth": 0,
              "ticks": ""
             }
            },
            "type": "scatterternary"
           }
          ],
          "surface": [
           {
            "colorbar": {
             "outlinewidth": 0,
             "ticks": ""
            },
            "colorscale": [
             [
              0,
              "#0d0887"
             ],
             [
              0.1111111111111111,
              "#46039f"
             ],
             [
              0.2222222222222222,
              "#7201a8"
             ],
             [
              0.3333333333333333,
              "#9c179e"
             ],
             [
              0.4444444444444444,
              "#bd3786"
             ],
             [
              0.5555555555555556,
              "#d8576b"
             ],
             [
              0.6666666666666666,
              "#ed7953"
             ],
             [
              0.7777777777777778,
              "#fb9f3a"
             ],
             [
              0.8888888888888888,
              "#fdca26"
             ],
             [
              1,
              "#f0f921"
             ]
            ],
            "type": "surface"
           }
          ],
          "table": [
           {
            "cells": {
             "fill": {
              "color": "#EBF0F8"
             },
             "line": {
              "color": "white"
             }
            },
            "header": {
             "fill": {
              "color": "#C8D4E3"
             },
             "line": {
              "color": "white"
             }
            },
            "type": "table"
           }
          ]
         },
         "layout": {
          "annotationdefaults": {
           "arrowcolor": "#2a3f5f",
           "arrowhead": 0,
           "arrowwidth": 1
          },
          "coloraxis": {
           "colorbar": {
            "outlinewidth": 0,
            "ticks": ""
           }
          },
          "colorscale": {
           "diverging": [
            [
             0,
             "#8e0152"
            ],
            [
             0.1,
             "#c51b7d"
            ],
            [
             0.2,
             "#de77ae"
            ],
            [
             0.3,
             "#f1b6da"
            ],
            [
             0.4,
             "#fde0ef"
            ],
            [
             0.5,
             "#f7f7f7"
            ],
            [
             0.6,
             "#e6f5d0"
            ],
            [
             0.7,
             "#b8e186"
            ],
            [
             0.8,
             "#7fbc41"
            ],
            [
             0.9,
             "#4d9221"
            ],
            [
             1,
             "#276419"
            ]
           ],
           "sequential": [
            [
             0,
             "#0d0887"
            ],
            [
             0.1111111111111111,
             "#46039f"
            ],
            [
             0.2222222222222222,
             "#7201a8"
            ],
            [
             0.3333333333333333,
             "#9c179e"
            ],
            [
             0.4444444444444444,
             "#bd3786"
            ],
            [
             0.5555555555555556,
             "#d8576b"
            ],
            [
             0.6666666666666666,
             "#ed7953"
            ],
            [
             0.7777777777777778,
             "#fb9f3a"
            ],
            [
             0.8888888888888888,
             "#fdca26"
            ],
            [
             1,
             "#f0f921"
            ]
           ],
           "sequentialminus": [
            [
             0,
             "#0d0887"
            ],
            [
             0.1111111111111111,
             "#46039f"
            ],
            [
             0.2222222222222222,
             "#7201a8"
            ],
            [
             0.3333333333333333,
             "#9c179e"
            ],
            [
             0.4444444444444444,
             "#bd3786"
            ],
            [
             0.5555555555555556,
             "#d8576b"
            ],
            [
             0.6666666666666666,
             "#ed7953"
            ],
            [
             0.7777777777777778,
             "#fb9f3a"
            ],
            [
             0.8888888888888888,
             "#fdca26"
            ],
            [
             1,
             "#f0f921"
            ]
           ]
          },
          "colorway": [
           "#636efa",
           "#EF553B",
           "#00cc96",
           "#ab63fa",
           "#FFA15A",
           "#19d3f3",
           "#FF6692",
           "#B6E880",
           "#FF97FF",
           "#FECB52"
          ],
          "font": {
           "color": "#2a3f5f"
          },
          "geo": {
           "bgcolor": "white",
           "lakecolor": "white",
           "landcolor": "#E5ECF6",
           "showlakes": true,
           "showland": true,
           "subunitcolor": "white"
          },
          "hoverlabel": {
           "align": "left"
          },
          "hovermode": "closest",
          "mapbox": {
           "style": "light"
          },
          "paper_bgcolor": "white",
          "plot_bgcolor": "#E5ECF6",
          "polar": {
           "angularaxis": {
            "gridcolor": "white",
            "linecolor": "white",
            "ticks": ""
           },
           "bgcolor": "#E5ECF6",
           "radialaxis": {
            "gridcolor": "white",
            "linecolor": "white",
            "ticks": ""
           }
          },
          "scene": {
           "xaxis": {
            "backgroundcolor": "#E5ECF6",
            "gridcolor": "white",
            "gridwidth": 2,
            "linecolor": "white",
            "showbackground": true,
            "ticks": "",
            "zerolinecolor": "white"
           },
           "yaxis": {
            "backgroundcolor": "#E5ECF6",
            "gridcolor": "white",
            "gridwidth": 2,
            "linecolor": "white",
            "showbackground": true,
            "ticks": "",
            "zerolinecolor": "white"
           },
           "zaxis": {
            "backgroundcolor": "#E5ECF6",
            "gridcolor": "white",
            "gridwidth": 2,
            "linecolor": "white",
            "showbackground": true,
            "ticks": "",
            "zerolinecolor": "white"
           }
          },
          "shapedefaults": {
           "line": {
            "color": "#2a3f5f"
           }
          },
          "ternary": {
           "aaxis": {
            "gridcolor": "white",
            "linecolor": "white",
            "ticks": ""
           },
           "baxis": {
            "gridcolor": "white",
            "linecolor": "white",
            "ticks": ""
           },
           "bgcolor": "#E5ECF6",
           "caxis": {
            "gridcolor": "white",
            "linecolor": "white",
            "ticks": ""
           }
          },
          "title": {
           "x": 0.05
          },
          "xaxis": {
           "automargin": true,
           "gridcolor": "white",
           "linecolor": "white",
           "ticks": "",
           "title": {
            "standoff": 15
           },
           "zerolinecolor": "white",
           "zerolinewidth": 2
          },
          "yaxis": {
           "automargin": true,
           "gridcolor": "white",
           "linecolor": "white",
           "ticks": "",
           "title": {
            "standoff": 15
           },
           "zerolinecolor": "white",
           "zerolinewidth": 2
          }
         }
        },
        "xaxis": {
         "autorange": true,
         "range": [
          -10,
          40
         ],
         "type": "linear"
        },
        "yaxis": {
         "autorange": true,
         "range": [
          -1593432.6068727344,
          262812.242466986
         ],
         "type": "linear"
        }
       }
      },
      "image/png": "[encoded data removed]",
      "text/html": [
       "<div>                            <div id=\"bbea8a1c-946b-4cfa-92f8-83f5b1b1d6f6\" class=\"plotly-graph-div\" style=\"height:525px; width:100%;\"></div>            <script type=\"text/javascript\">                require([\"plotly\"], function(Plotly) {                    window.PLOTLYENV=window.PLOTLYENV || {};                                    if (document.getElementById(\"bbea8a1c-946b-4cfa-92f8-83f5b1b1d6f6\")) {                    Plotly.newPlot(                        \"bbea8a1c-946b-4cfa-92f8-83f5b1b1d6f6\",                        [{\"type\": \"scatter\", \"x\": [-10.0, -9.748743718592966, -9.49748743718593, -9.246231155778894, -8.99497487437186, -8.743718592964825, -8.492462311557789, -8.241206030150753, -7.989949748743719, -7.738693467336684, -7.4874371859296485, -7.236180904522613, -6.984924623115578, -6.733668341708543, -6.482412060301508, -6.231155778894473, -5.9798994974874375, -5.728643216080402, -5.477386934673367, -5.226130653266332, -4.974874371859297, -4.723618090452262, -4.472361809045227, -4.2211055276381915, -3.9698492462311563, -3.718592964824121, -3.467336683417086, -3.216080402010051, -2.9648241206030157, -2.7135678391959805, -2.4623115577889454, -2.2110552763819102, -1.959798994974875, -1.7085427135678408, -1.4572864321608048, -1.2060301507537687, -0.9547738693467345, -0.7035175879397002, -0.45226130653266416, -0.20100502512562812, 0.05025125628140614, 0.3015075376884404, 0.5527638190954764, 0.8040201005025125, 1.0552763819095468, 1.306532663316581, 1.557788944723617, 1.809045226130653, 2.0603015075376874, 2.3115577889447216, 2.5628140703517577, 2.8140703517587937, 3.065326633165828, 3.3165829145728623, 3.5678391959798983, 3.8190954773869343, 4.070351758793969, 4.321608040201003, 4.572864321608039, 4.824120603015075, 5.075376884422109, 5.3266331658291435, 5.5778894472361795, 5.829145728643216, 6.08040201005025, 6.331658291457284, 6.582914572864318, 6.834170854271356, 7.08542713567839, 7.336683417085425, 7.5879396984924625, 7.839195979899497, 8.090452261306531, 8.341708542713565, 8.5929648241206, 8.844221105527637, 9.095477386934672, 9.346733668341706, 9.597989949748744, 9.849246231155778, 10.100502512562812, 10.351758793969847, 10.60301507537688, 10.854271356783919, 11.105527638190953, 11.356783919597987, 11.608040201005025, 11.85929648241206, 12.110552763819094, 12.361809045226128, 12.613065326633162, 12.8643216080402, 13.115577889447234, 13.366834170854268, 13.618090452261306, 13.86934673366834, 14.120603015075375, 14.371859296482409, 14.623115577889443, 14.874371859296481, 15.125628140703515, 15.37688442211055, 15.628140703517587, 15.879396984924622, 16.130653266331656, 16.38190954773869, 16.633165829145725, 16.884422110552762, 17.135678391959797, 17.38693467336683, 17.63819095477387, 17.889447236180903, 18.140703517587937, 18.39195979899497, 18.643216080402006, 18.894472361809044, 19.145728643216078, 19.396984924623112, 19.64824120603015, 19.899497487437184, 20.15075376884422, 20.402010050251253, 20.653266331658287, 20.904522613065325, 21.15577889447236, 21.407035175879393, 21.65829145728643, 21.909547738693465, 22.1608040201005, 22.412060301507537, 22.663316582914568, 22.914572864321606, 23.165829145728637, 23.417085427135675, 23.668341708542712, 23.919597989949743, 24.17085427135678, 24.42211055276382, 24.67336683417085, 24.924623115577887, 25.175879396984925, 25.427135678391956, 25.678391959798994, 25.929648241206024, 26.180904522613062, 26.4321608040201, 26.68341708542713, 26.93467336683417, 27.1859296482412, 27.437185929648237, 27.688442211055275, 27.939698492462306, 28.190954773869343, 28.44221105527638, 28.693467336683412, 28.94472361809045, 29.195979899497488, 29.447236180904518, 29.698492462311556, 29.949748743718587, 30.201005025125625, 30.452261306532662, 30.703517587939693, 30.95477386934673, 31.20603015075376, 31.4572864321608, 31.708542713567837, 31.959798994974868, 32.211055276381906, 32.462311557788944, 32.713567839195974, 32.96482412060301, 33.21608040201005, 33.46733668341708, 33.71859296482412, 33.96984924623115, 34.22110552763819, 34.472361809045225, 34.723618090452256, 34.97487437185929, 35.226130653266324, 35.47738693467336, 35.7286432160804, 35.97989949748743, 36.23115577889447, 36.482412060301506, 36.73366834170854, 36.984924623115575, 37.23618090452261, 37.48743718592964, 37.73869346733668, 37.98994974874371, 38.24120603015075, 38.49246231155779, 38.74371859296482, 38.994974874371856, 39.24623115577889, 39.497487437185924, 39.74874371859296, 40.0], \"y\": [170000.0, 156806.82702179186, 144346.63374417202, 132595.1062742245, 121528.21766505505, 111122.22791579105, 101353.68397158184, 92199.41972359864, 83636.5560090345, 75642.50061110417, 68194.94825904432, 61271.880628113446, 54851.566339591845, 48912.56096078165, 43433.70700500683, 38394.133931613156, 33773.25814596826, 29550.782999461575, 25706.69878950438, 22221.28275952975, 19075.09909899262, 16248.998943369741, 13724.120374159686, 11481.888418882858, 9504.015051081487, 7772.499190319631, 6269.626702183174, 4977.970398279824, 3880.3900362391237, 2960.0323197124335, 2200.330898372947, 1585.0063679156826, 1098.0662700574858, 723.8050925370302, 446.8042691148116, 251.93217957315932, 124.3441497162272, 49.48245136999389, 13.076302382266565, 1.1418666226798393, -0.017746017305429233, -3.8124796244013117, -23.365332263493023, -71.51235597763889, -160.80265678806944, -303.49839469418924, -511.5747836735771, -796.720091681983, -1170.3356406533273, -1643.5358064997083, -2227.1480191114006, -2931.712762356843, -3767.483574082646, -4744.427046113602, -5872.2228242526835, -7160.263608281017, -8617.655151957897, -10253.21626302082, -12075.478803185448, -14092.687688145601, -16312.800887573263, -18743.489425118616, -21392.13737841003, -24265.841879054005, -27371.41311263521, -30715.374318716546, -34303.96179083903, -38143.124876521935, -42238.52597726254, -46595.54054853647, -51219.2570997975, -56114.47719447741, -61285.71544998635, -66737.19953771256, -72472.87018302246, -78496.38116526074, -84811.09931775, -91420.10452779129, -98326.18973666377, -105531.86093962459, -113039.33718590927, -120850.55057873143, -128967.14627528295, -137390.48248673382, -146121.63047823208, -155161.37456890408, -164510.2121318545, -174168.3535941657, -184135.72243689874, -194411.9551950926, -204996.40145776447, -215888.12386790983, -227085.89812250194, -238588.21297249268, -250393.27022281213, -262498.9847323679, -274902.9844140465, -287602.61023471237, -300594.916215208, -313876.66943035426, -327444.3500089498, -341294.1511337719, -355421.9790415761, -369823.45302309527, -384493.9054230413, -399428.38164010405, -414621.6401269513, -430068.15239022963, -445762.10299056274, -461697.38954255334, -477867.6227147824, -494266.1262298085, -510885.9368641684, -527719.8044483773, -544760.1918669292, -561999.2750582949, -579428.9430149245, -597040.7977832456, -614826.1544636646, -632776.041210565, -650881.19923231, -669132.0827912398, -687518.859203673, -706031.4088399068, -724659.3251242158, -743391.914534854, -762218.1966040522, -781126.9039180202, -800106.4821169457, -819145.0898949947, -838230.5990003111, -857350.5942350179, -876492.3734552145, -895642.9475709805, -914789.0405463725, -933917.0893994248, -953013.2442021512, -972063.3680805431, -991053.0372145693, -1009967.5408381782, -1028791.8812392959, -1047510.7737598252, -1066108.646795649, -1084569.6417966275, -1102877.6132665998, -1121016.1287633826, -1138968.4688987697, -1156717.6273385347, -1174246.310802429, -1191536.939064183, -1208571.6449515028, -1225332.2743460739, -1241800.386183561, -1257957.2524536073, -1273783.8581998302, -1289260.9015198317, -1304368.7935651853, -1319087.658541447, -1333397.3337081498, -1347277.3693788052, -1360707.0289209024, -1373665.2887559081, -1386130.8383592688, -1398082.080260408, -1409497.1300427266, -1420353.8163436074, -1430629.6808544071, -1440301.9783204617, -1449347.6765410854, -1457743.456369575, -1465465.7117131967, -1472490.5495332023, -1478793.789844818, -1484350.9657172505, -1489137.3232736825, -1493127.8216912784, -1496297.133201175, -1498619.6430884916, -1500069.4496923247, -1500620.3644057484, -1500245.9116758173, -1498919.3290035613, -1496613.5669439882, -1493301.2891060868, -1488954.872152824, -1483546.4058011388, -1477047.692821958, -1469430.249040178, -1460665.3033346795, -1450723.7976383166, -1439576.3869379256, -1427193.4392743194, -1413545.0357422866, -1398600.9704905972, -1382330.7507220013, -1364703.5966932187, -1345688.4417149583, -1325253.9321518987, -1303368.4274227004, -1280000.0]}, {\"type\": \"scatter\", \"x\": [-10.0, -9.748743718592966, -9.49748743718593, -9.246231155778894, -8.99497487437186, -8.743718592964825, -8.492462311557789, -8.241206030150753, -7.989949748743719, -7.738693467336684, -7.4874371859296485, -7.236180904522613, -6.984924623115578, -6.733668341708543, -6.482412060301508, -6.231155778894473, -5.9798994974874375, -5.728643216080402, -5.477386934673367, -5.226130653266332, -4.974874371859297, -4.723618090452262, -4.472361809045227, -4.2211055276381915, -3.9698492462311563, -3.718592964824121, -3.467336683417086, -3.216080402010051, -2.9648241206030157, -2.7135678391959805, -2.4623115577889454, -2.2110552763819102, -1.959798994974875, -1.7085427135678408, -1.4572864321608048, -1.2060301507537687, -0.9547738693467345, -0.7035175879397002, -0.45226130653266416, -0.20100502512562812, 0.05025125628140614, 0.3015075376884404, 0.5527638190954764, 0.8040201005025125, 1.0552763819095468, 1.306532663316581, 1.557788944723617, 1.809045226130653, 2.0603015075376874, 2.3115577889447216, 2.5628140703517577, 2.8140703517587937, 3.065326633165828, 3.3165829145728623, 3.5678391959798983, 3.8190954773869343, 4.070351758793969, 4.321608040201003, 4.572864321608039, 4.824120603015075, 5.075376884422109, 5.3266331658291435, 5.5778894472361795, 5.829145728643216, 6.08040201005025, 6.331658291457284, 6.582914572864318, 6.834170854271356, 7.08542713567839, 7.336683417085425, 7.5879396984924625, 7.839195979899497, 8.090452261306531, 8.341708542713565, 8.5929648241206, 8.844221105527637, 9.095477386934672, 9.346733668341706, 9.597989949748744, 9.849246231155778, 10.100502512562812, 10.351758793969847, 10.60301507537688, 10.854271356783919, 11.105527638190953, 11.356783919597987, 11.608040201005025, 11.85929648241206, 12.110552763819094, 12.361809045226128, 12.613065326633162, 12.8643216080402, 13.115577889447234, 13.366834170854268, 13.618090452261306, 13.86934673366834, 14.120603015075375, 14.371859296482409, 14.623115577889443, 14.874371859296481, 15.125628140703515, 15.37688442211055, 15.628140703517587, 15.879396984924622, 16.130653266331656, 16.38190954773869, 16.633165829145725, 16.884422110552762, 17.135678391959797, 17.38693467336683, 17.63819095477387, 17.889447236180903, 18.140703517587937, 18.39195979899497, 18.643216080402006, 18.894472361809044, 19.145728643216078, 19.396984924623112, 19.64824120603015, 19.899497487437184, 20.15075376884422, 20.402010050251253, 20.653266331658287, 20.904522613065325, 21.15577889447236, 21.407035175879393, 21.65829145728643, 21.909547738693465, 22.1608040201005, 22.412060301507537, 22.663316582914568, 22.914572864321606, 23.165829145728637, 23.417085427135675, 23.668341708542712, 23.919597989949743, 24.17085427135678, 24.42211055276382, 24.67336683417085, 24.924623115577887, 25.175879396984925, 25.427135678391956, 25.678391959798994, 25.929648241206024, 26.180904522613062, 26.4321608040201, 26.68341708542713, 26.93467336683417, 27.1859296482412, 27.437185929648237, 27.688442211055275, 27.939698492462306, 28.190954773869343, 28.44221105527638, 28.693467336683412, 28.94472361809045, 29.195979899497488, 29.447236180904518, 29.698492462311556, 29.949748743718587, 30.201005025125625, 30.452261306532662, 30.703517587939693, 30.95477386934673, 31.20603015075376, 31.4572864321608, 31.708542713567837, 31.959798994974868, 32.211055276381906, 32.462311557788944, 32.713567839195974, 32.96482412060301, 33.21608040201005, 33.46733668341708, 33.71859296482412, 33.96984924623115, 34.22110552763819, 34.472361809045225, 34.723618090452256, 34.97487437185929, 35.226130653266324, 35.47738693467336, 35.7286432160804, 35.97989949748743, 36.23115577889447, 36.482412060301506, 36.73366834170854, 36.984924623115575, 37.23618090452261, 37.48743718592964, 37.73869346733668, 37.98994974874371, 38.24120603015075, 38.49246231155779, 38.74371859296482, 38.994974874371856, 39.24623115577889, 39.497487437185924, 39.74874371859296, 40.0], \"y\": [-54000.0, -51033.97546303271, -48165.291242455045, -45392.80529310017, -42715.37556980123, -40131.86002739133, -37641.11662070358, -35242.00330457113, -32933.378033827124, -30714.09876330467, -28583.0234478369, -26539.010042256938, -24580.91650139793, -22707.600780092984, -20917.920833175245, -19210.734615477835, -17584.900081833883, -16039.275187076517, -14572.717886038867, -13184.086133554063, -11872.237884455231, -10636.031093575504, -9474.323715748005, -8385.973705805867, -7369.839018582218, -6424.777608910187, -5549.647431622902, -4743.306441553494, -4004.612593535087, -3332.4238424008136, -2725.5981429838025, -2182.993450117182, -1703.4677186340798, -1285.8789033676271, -929.0849591509487, -631.9438408171765, -393.3135031994402, -212.05190113086687, -87.01698944458442, -17.066722973723188, -1.0590565514118537, -37.85194501077855, -126.30334318495292, -265.27120590706363, -453.613488010238, -690.1881443276056, -973.8531296922974, -1303.466398937441, -1677.8859068961617, -2095.9696084015914, -2556.5754582868617, -3058.5614113850984, -3600.7854225294273, -4182.10544655298, -4801.379438288888, -5457.46535257028, -6149.221144230277, -6875.504768102011, -7635.1741790186215, -8427.087331813229, -9250.102181318953, -10103.076682368934, -10984.868789796303, -11894.336458434183, -12830.337643115703, -13791.730298673987, -14777.372379942171, -15786.121841753396, -16816.836638940764, -17868.374726337417, -18939.5940587765, -20029.35259109111, -21136.508278114386, -22259.919074679463, -23398.442935619474, -24550.937815767553, -25716.261669956803, -26893.272453020378, -28080.828119791404, -29277.786625102985, -30483.005923788274, -31695.34397068039, -32913.65872061247, -34136.808128417644, -35363.650148929024, -36593.04273697974, -37823.84384740297, -39054.91143503177, -40285.10345469931, -41513.277861238705, -42738.2926094831, -43959.00565426561, -45174.27495041938, -46382.95845277751, -47583.914116173146, -48775.99989543941, -49958.07374540945, -51128.99362091637, -52287.61747679331, -53432.803267873416, -54563.40894898978, -55678.292474975555, -56776.31180066388, -57856.32488088785, -58917.189670480635, -59957.764124275316, -60976.906197105054, -61973.47384380299, -62946.32501920221, -63894.31767813588, -64816.30977543711, -65711.15926593903, -66577.7241044748, -67414.86224587748, -68221.43164498027, -68996.29025661628, -69738.29603561861, -70446.3069368204, -71119.1809150548, -71755.77592515491, -72354.9499219539, -72915.56086028487, -73436.46669498092, -73916.52538087523, -74354.5948728009, -74749.53312559109, -75100.19809407889, -75405.44773309743, -75664.13999747988, -75875.13284205933, -76037.28422166896, -76149.45209114181, -76210.49440531107, -76219.26911900987, -76174.6341870713, -76075.44756432856, -75920.56720561473, -75708.8510657629, -75439.15709960627, -75110.34326197789, -74721.26750771102, -74270.7877916387, -73757.76206859405, -73181.04829341022, -72539.5044209203, -71831.98840595744, -71057.35820335487, -70214.47176794562, -69302.18705456276, -68319.36201803951, -67264.85461320903, -66137.52279490433, -64936.224517958646, -63659.81773720501, -62307.16040747665, -60877.11048360664, -59368.52592042816, -57780.26467277424, -56111.18469547806, -54360.14394337294, -52526.00037129159, -50607.61193406745, -48603.83658653364, -46513.53228352312, -44335.55697986926, -42068.7686304049, -39712.025189963344, -37264.18461337779, -34724.1048554813, -32090.64387110673, -29362.659615087672, -26539.01004225691, -23618.553107447864, -20600.14676549344, -17482.648971226823, -14264.917679481034, -10945.81084508932, -7524.18642288493, -3998.9023677007644, -368.8166343700723, 3367.212822274014, 7210.328047398361, 11161.671086169896, 15222.383983755368, 19393.608785321936, 23676.487536036177, 28072.162281065015, 32581.775065575493, 37206.46793473442, 41947.38293370837, 46805.66210766474, 51782.447501769755, 56878.8811611908, 62096.10513109469, 67435.261456648, 72897.49218301801, 78483.93935537129, 84195.74501887476, 90034.05121869524, 96000.0]}],                        {\"template\": {\"data\": {\"bar\": [{\"error_x\": {\"color\": \"#2a3f5f\"}, \"error_y\": {\"color\": \"#2a3f5f\"}, \"marker\": {\"line\": {\"color\": \"#E5ECF6\", \"width\": 0.5}}, \"type\": \"bar\"}], \"barpolar\": [{\"marker\": {\"line\": {\"color\": \"#E5ECF6\", \"width\": 0.5}}, \"type\": \"barpolar\"}], \"carpet\": [{\"aaxis\": {\"endlinecolor\": \"#2a3f5f\", \"gridcolor\": \"white\", \"linecolor\": \"white\", \"minorgridcolor\": \"white\", \"startlinecolor\": \"#2a3f5f\"}, \"baxis\": {\"endlinecolor\": \"#2a3f5f\", \"gridcolor\": \"white\", \"linecolor\": \"white\", \"minorgridcolor\": \"white\", \"startlinecolor\": \"#2a3f5f\"}, \"type\": \"carpet\"}], \"choropleth\": [{\"colorbar\": {\"outlinewidth\": 0, \"ticks\": \"\"}, \"type\": \"choropleth\"}], \"contour\": [{\"colorbar\": {\"outlinewidth\": 0, \"ticks\": \"\"}, \"colorscale\": [[0.0, \"#0d0887\"], [0.1111111111111111, \"#46039f\"], [0.2222222222222222, \"#7201a8\"], [0.3333333333333333, \"#9c179e\"], [0.4444444444444444, \"#bd3786\"], [0.5555555555555556, \"#d8576b\"], [0.6666666666666666, \"#ed7953\"], [0.7777777777777778, \"#fb9f3a\"], [0.8888888888888888, \"#fdca26\"], [1.0, \"#f0f921\"]], \"type\": \"contour\"}], \"contourcarpet\": [{\"colorbar\": {\"outlinewidth\": 0, \"ticks\": \"\"}, \"type\": \"contourcarpet\"}], \"heatmap\": [{\"colorbar\": {\"outlinewidth\": 0, \"ticks\": \"\"}, \"colorscale\": [[0.0, \"#0d0887\"], [0.1111111111111111, \"#46039f\"], [0.2222222222222222, \"#7201a8\"], [0.3333333333333333, \"#9c179e\"], [0.4444444444444444, \"#bd3786\"], [0.5555555555555556, \"#d8576b\"], [0.6666666666666666, \"#ed7953\"], [0.7777777777777778, \"#fb9f3a\"], [0.8888888888888888, \"#fdca26\"], [1.0, \"#f0f921\"]], \"type\": \"heatmap\"}], \"heatmapgl\": [{\"colorbar\": {\"outlinewidth\": 0, \"ticks\": \"\"}, \"colorscale\": [[0.0, \"#0d0887\"], [0.1111111111111111, \"#46039f\"], [0.2222222222222222, \"#7201a8\"], [0.3333333333333333, \"#9c179e\"], [0.4444444444444444, \"#bd3786\"], [0.5555555555555556, \"#d8576b\"], [0.6666666666666666, \"#ed7953\"], [0.7777777777777778, \"#fb9f3a\"], [0.8888888888888888, \"#fdca26\"], [1.0, \"#f0f921\"]], \"type\": \"heatmapgl\"}], \"histogram\": [{\"marker\": {\"colorbar\": {\"outlinewidth\": 0, \"ticks\": \"\"}}, \"type\": \"histogram\"}], \"histogram2d\": [{\"colorbar\": {\"outlinewidth\": 0, \"ticks\": \"\"}, \"colorscale\": [[0.0, \"#0d0887\"], [0.1111111111111111, \"#46039f\"], [0.2222222222222222, \"#7201a8\"], [0.3333333333333333, \"#9c179e\"], [0.4444444444444444, \"#bd3786\"], [0.5555555555555556, \"#d8576b\"], [0.6666666666666666, \"#ed7953\"], [0.7777777777777778, \"#fb9f3a\"], [0.8888888888888888, \"#fdca26\"], [1.0, \"#f0f921\"]], \"type\": \"histogram2d\"}], \"histogram2dcontour\": [{\"colorbar\": {\"outlinewidth\": 0, \"ticks\": \"\"}, \"colorscale\": [[0.0, \"#0d0887\"], [0.1111111111111111, \"#46039f\"], [0.2222222222222222, \"#7201a8\"], [0.3333333333333333, \"#9c179e\"], [0.4444444444444444, \"#bd3786\"], [0.5555555555555556, \"#d8576b\"], [0.6666666666666666, \"#ed7953\"], [0.7777777777777778, \"#fb9f3a\"], [0.8888888888888888, \"#fdca26\"], [1.0, \"#f0f921\"]], \"type\": \"histogram2dcontour\"}], \"mesh3d\": [{\"colorbar\": {\"outlinewidth\": 0, \"ticks\": \"\"}, \"type\": \"mesh3d\"}], \"parcoords\": [{\"line\": {\"colorbar\": {\"outlinewidth\": 0, \"ticks\": \"\"}}, \"type\": \"parcoords\"}], \"pie\": [{\"automargin\": true, \"type\": \"pie\"}], \"scatter\": [{\"marker\": {\"colorbar\": {\"outlinewidth\": 0, \"ticks\": \"\"}}, \"type\": \"scatter\"}], \"scatter3d\": [{\"line\": {\"colorbar\": {\"outlinewidth\": 0, \"ticks\": \"\"}}, \"marker\": {\"colorbar\": {\"outlinewidth\": 0, \"ticks\": \"\"}}, \"type\": \"scatter3d\"}], \"scattercarpet\": [{\"marker\": {\"colorbar\": {\"outlinewidth\": 0, \"ticks\": \"\"}}, \"type\": \"scattercarpet\"}], \"scattergeo\": [{\"marker\": {\"colorbar\": {\"outlinewidth\": 0, \"ticks\": \"\"}}, \"type\": \"scattergeo\"}], \"scattergl\": [{\"marker\": {\"colorbar\": {\"outlinewidth\": 0, \"ticks\": \"\"}}, \"type\": \"scattergl\"}], \"scattermapbox\": [{\"marker\": {\"colorbar\": {\"outlinewidth\": 0, \"ticks\": \"\"}}, \"type\": \"scattermapbox\"}], \"scatterpolar\": [{\"marker\": {\"colorbar\": {\"outlinewidth\": 0, \"ticks\": \"\"}}, \"type\": \"scatterpolar\"}], \"scatterpolargl\": [{\"marker\": {\"colorbar\": {\"outlinewidth\": 0, \"ticks\": \"\"}}, \"type\": \"scatterpolargl\"}], \"scatterternary\": [{\"marker\": {\"colorbar\": {\"outlinewidth\": 0, \"ticks\": \"\"}}, \"type\": \"scatterternary\"}], \"surface\": [{\"colorbar\": {\"outlinewidth\": 0, \"ticks\": \"\"}, \"colorscale\": [[0.0, \"#0d0887\"], [0.1111111111111111, \"#46039f\"], [0.2222222222222222, \"#7201a8\"], [0.3333333333333333, \"#9c179e\"], [0.4444444444444444, \"#bd3786\"], [0.5555555555555556, \"#d8576b\"], [0.6666666666666666, \"#ed7953\"], [0.7777777777777778, \"#fb9f3a\"], [0.8888888888888888, \"#fdca26\"], [1.0, \"#f0f921\"]], \"type\": \"surface\"}], \"table\": [{\"cells\": {\"fill\": {\"color\": \"#EBF0F8\"}, \"line\": {\"color\": \"white\"}}, \"header\": {\"fill\": {\"color\": \"#C8D4E3\"}, \"line\": {\"color\": \"white\"}}, \"type\": \"table\"}]}, \"layout\": {\"annotationdefaults\": {\"arrowcolor\": \"#2a3f5f\", \"arrowhead\": 0, \"arrowwidth\": 1}, \"coloraxis\": {\"colorbar\": {\"outlinewidth\": 0, \"ticks\": \"\"}}, \"colorscale\": {\"diverging\": [[0, \"#8e0152\"], [0.1, \"#c51b7d\"], [0.2, \"#de77ae\"], [0.3, \"#f1b6da\"], [0.4, \"#fde0ef\"], [0.5, \"#f7f7f7\"], [0.6, \"#e6f5d0\"], [0.7, \"#b8e186\"], [0.8, \"#7fbc41\"], [0.9, \"#4d9221\"], [1, \"#276419\"]], \"sequential\": [[0.0, \"#0d0887\"], [0.1111111111111111, \"#46039f\"], [0.2222222222222222, \"#7201a8\"], [0.3333333333333333, \"#9c179e\"], [0.4444444444444444, \"#bd3786\"], [0.5555555555555556, \"#d8576b\"], [0.6666666666666666, \"#ed7953\"], [0.7777777777777778, \"#fb9f3a\"], [0.8888888888888888, \"#fdca26\"], [1.0, \"#f0f921\"]], \"sequentialminus\": [[0.0, \"#0d0887\"], [0.1111111111111111, \"#46039f\"], [0.2222222222222222, \"#7201a8\"], [0.3333333333333333, \"#9c179e\"], [0.4444444444444444, \"#bd3786\"], [0.5555555555555556, \"#d8576b\"], [0.6666666666666666, \"#ed7953\"], [0.7777777777777778, \"#fb9f3a\"], [0.8888888888888888, \"#fdca26\"], [1.0, \"#f0f921\"]]}, \"colorway\": [\"#636efa\", \"#EF553B\", \"#00cc96\", \"#ab63fa\", \"#FFA15A\", \"#19d3f3\", \"#FF6692\", \"#B6E880\", \"#FF97FF\", \"#FECB52\"], \"font\": {\"color\": \"#2a3f5f\"}, \"geo\": {\"bgcolor\": \"white\", \"lakecolor\": \"white\", \"landcolor\": \"#E5ECF6\", \"showlakes\": true, \"showland\": true, \"subunitcolor\": \"white\"}, \"hoverlabel\": {\"align\": \"left\"}, \"hovermode\": \"closest\", \"mapbox\": {\"style\": \"light\"}, \"paper_bgcolor\": \"white\", \"plot_bgcolor\": \"#E5ECF6\", \"polar\": {\"angularaxis\": {\"gridcolor\": \"white\", \"linecolor\": \"white\", \"ticks\": \"\"}, \"bgcolor\": \"#E5ECF6\", \"radialaxis\": {\"gridcolor\": \"white\", \"linecolor\": \"white\", \"ticks\": \"\"}}, \"scene\": {\"xaxis\": {\"backgroundcolor\": \"#E5ECF6\", \"gridcolor\": \"white\", \"gridwidth\": 2, \"linecolor\": \"white\", \"showbackground\": true, \"ticks\": \"\", \"zerolinecolor\": \"white\"}, \"yaxis\": {\"backgroundcolor\": \"#E5ECF6\", \"gridcolor\": \"white\", \"gridwidth\": 2, \"linecolor\": \"white\", \"showbackground\": true, \"ticks\": \"\", \"zerolinecolor\": \"white\"}, \"zaxis\": {\"backgroundcolor\": \"#E5ECF6\", \"gridcolor\": \"white\", \"gridwidth\": 2, \"linecolor\": \"white\", \"showbackground\": true, \"ticks\": \"\", \"zerolinecolor\": \"white\"}}, \"shapedefaults\": {\"line\": {\"color\": \"#2a3f5f\"}}, \"ternary\": {\"aaxis\": {\"gridcolor\": \"white\", \"linecolor\": \"white\", \"ticks\": \"\"}, \"baxis\": {\"gridcolor\": \"white\", \"linecolor\": \"white\", \"ticks\": \"\"}, \"bgcolor\": \"#E5ECF6\", \"caxis\": {\"gridcolor\": \"white\", \"linecolor\": \"white\", \"ticks\": \"\"}}, \"title\": {\"x\": 0.05}, \"xaxis\": {\"automargin\": true, \"gridcolor\": \"white\", \"linecolor\": \"white\", \"ticks\": \"\", \"title\": {\"standoff\": 15}, \"zerolinecolor\": \"white\", \"zerolinewidth\": 2}, \"yaxis\": {\"automargin\": true, \"gridcolor\": \"white\", \"linecolor\": \"white\", \"ticks\": \"\", \"title\": {\"standoff\": 15}, \"zerolinecolor\": \"white\", \"zerolinewidth\": 2}}}},                        {\"responsive\": true}                    ).then(function(){\n",
       "                            \n",
       "var gd = document.getElementById('bbea8a1c-946b-4cfa-92f8-83f5b1b1d6f6');\n",
       "var x = new MutationObserver(function (mutations, observer) {{\n",
       "        var display = window.getComputedStyle(gd).display;\n",
       "        if (!display || display === 'none') {{\n",
       "            console.log([gd, 'removed!']);\n",
       "            Plotly.purge(gd);\n",
       "            observer.disconnect();\n",
       "        }}\n",
       "}});\n",
       "\n",
       "// Listen for the removal of the full notebook cells\n",
       "var notebookContainer = gd.closest('#notebook-container');\n",
       "if (notebookContainer) {{\n",
       "    x.observe(notebookContainer, {childList: true});\n",
       "}}\n",
       "\n",
       "// Listen for the clearing of the current output cell\n",
       "var outputEl = gd.closest('.output');\n",
       "if (outputEl) {{\n",
       "    x.observe(outputEl, {childList: true});\n",
       "}}\n",
       "\n",
       "                        })                };                });            </script>        </div>"
      ]
     },
     "metadata": {},
     "output_type": "display_data"
    }
   ],
   "source": [
    "fig = go.Figure()\n",
    "fig.add_trace(go.Scatter(x=x, y=f(x)))\n",
    "fig.add_trace(go.Scatter(x=x, y=df(x)))\n",
    "fig.show()"
   ]
  },
  {
   "cell_type": "code",
   "execution_count": 26,
   "metadata": {},
   "outputs": [],
   "source": [
    "x = Symbol('x')"
   ]
  },
  {
   "cell_type": "code",
   "execution_count": 27,
   "metadata": {},
   "outputs": [],
   "source": [
    "polynomial = 3*x**4-140*x**3"
   ]
  },
  {
   "cell_type": "code",
   "execution_count": 28,
   "metadata": {},
   "outputs": [
    {
     "data": {
      "image/png": "[encoded data removed]",
      "text/latex": [
       "$\\displaystyle 3 x^{4} - 140 x^{3}$"
      ],
      "text/plain": [
       "   4        3\n",
       "3⋅x  - 140⋅x "
      ]
     },
     "execution_count": 28,
     "metadata": {},
     "output_type": "execute_result"
    }
   ],
   "source": [
    "polynomial.expand()"
   ]
  },
  {
   "cell_type": "code",
   "execution_count": 29,
   "metadata": {},
   "outputs": [
    {
     "data": {
      "image/png": "[encoded data removed]",
      "text/latex": [
       "$\\displaystyle x^{3} \\left(3 x - 140\\right)$"
      ],
      "text/plain": [
       " 3            \n",
       "x ⋅(3⋅x - 140)"
      ]
     },
     "execution_count": 29,
     "metadata": {},
     "output_type": "execute_result"
    }
   ],
   "source": [
    "polynomial.factor()"
   ]
  },
  {
   "cell_type": "code",
   "execution_count": 30,
   "metadata": {},
   "outputs": [
    {
     "data": {
      "image/png": "[encoded data removed]",
      "text/latex": [
       "$\\displaystyle 3 x^{4} - 140 x^{3} = 0$"
      ],
      "text/plain": [
       "   4        3    \n",
       "3⋅x  - 140⋅x  = 0"
      ]
     },
     "execution_count": 30,
     "metadata": {},
     "output_type": "execute_result"
    }
   ],
   "source": [
    "equation = Eq(polynomial, 0)\n",
    "equation"
   ]
  },
  {
   "cell_type": "code",
   "execution_count": 31,
   "metadata": {},
   "outputs": [
    {
     "data": {
      "image/png": "[encoded data removed]",
      "text/latex": [
       "$\\displaystyle \\left\\{ 0 : 2, \\  35 : 1\\right\\}$"
      ],
      "text/plain": [
       "{0: 2, 35: 1}"
      ]
     },
     "execution_count": 31,
     "metadata": {},
     "output_type": "execute_result"
    }
   ],
   "source": [
    "roots(Eq(polynomial.diff(),0))"
   ]
  },
  {
   "cell_type": "code",
   "execution_count": 32,
   "metadata": {},
   "outputs": [
    {
     "data": {
      "image/png": "[encoded data removed]",
      "text/latex": [
       "$\\displaystyle f{\\left(x \\right)} = \\frac{3}{2} + \\frac{e^{- 2 x}}{2}$"
      ],
      "text/plain": [
       "            -2⋅x\n",
       "       3   ℯ    \n",
       "f(x) = ─ + ─────\n",
       "       2     2  "
      ]
     },
     "execution_count": 32,
     "metadata": {},
     "output_type": "execute_result"
    }
   ],
   "source": [
    "f = Function('f')\n",
    "a = Symbol('a')\n",
    "ics = {f(0): 2, f(x).diff(x).subs(x, 0): -1}\n",
    "dsolve(f(x).diff(x) - 3 + 2*f(x), f(x), ics=ics)"
   ]
  },
  {
   "cell_type": "code",
   "execution_count": 33,
   "metadata": {},
   "outputs": [
    {
     "data": {
      "image/png": "[encoded data removed]",
      "text/latex": [
       "$\\displaystyle f{\\left(x \\right)} = 1.8 e^{- 0.03 x}$"
      ],
      "text/plain": [
       "            -0.03⋅x\n",
       "f(x) = 1.8⋅ℯ       "
      ]
     },
     "execution_count": 33,
     "metadata": {},
     "output_type": "execute_result"
    }
   ],
   "source": [
    "ics = {f(0): 1.8}\n",
    "dsolve(f(x).diff(x) + 0.03 * f(x), f(x), ics=ics)"
   ]
  },
  {
   "cell_type": "code",
   "execution_count": 34,
   "metadata": {},
   "outputs": [],
   "source": [
    "def plot_direction_field(x, y_x, f_xy, x_lim=(-15, 50), y_lim=(-20, 50), ax=None):\n",
    "    f_np = lambdify((x, y_x), f_xy, 'numpy')\n",
    "    x_vec = np.linspace(x_lim[0], x_lim[1], 20)\n",
    "    y_vec = np.linspace(y_lim[0], y_lim[1], 20)\n",
    "\n",
    "    if ax is None:\n",
    "        _, ax = plt.subplots(figsize=(10, 10))\n",
    "\n",
    "    dx = x_vec[1] - x_vec[0]\n",
    "    dy = y_vec[1] - y_vec[0]\n",
    "\n",
    "    for m, xx in enumerate(x_vec):\n",
    "        for n, yy in enumerate(y_vec):\n",
    "            Dy = f_np(xx, yy) * dx\n",
    "            Dx = 0.8 * dx**2 / np.sqrt(dx**2 + Dy**2)\n",
    "            Dy = 0.8 * Dy*dy / np.sqrt(dx**2 + Dy**2)\n",
    "            ax.plot([xx - Dx/2, xx + Dx/2],\n",
    "                    [yy - Dy/2, yy + Dy/2], 'b', lw=0.5)\n",
    "\n",
    "    ax.axis('tight') \n",
    "    ax.set_title(r\"$%s$\" %\n",
    "                 (latex(Eq(f(x).diff(x), f_xy))),\n",
    "                 fontsize=18)\n",
    "    return ax"
   ]
  },
  {
   "cell_type": "code",
   "execution_count": 35,
   "metadata": {},
   "outputs": [
    {
     "data": {
      "text/plain": [
       "<matplotlib.axes._subplots.AxesSubplot at 0x7f88f275da30>"
      ]
     },
     "execution_count": 35,
     "metadata": {},
     "output_type": "execute_result"
    },
    {
     "data": {
      "image/png": "[encoded data removed]",
      "text/plain": [
       "<Figure size 720x720 with 1 Axes>"
      ]
     },
     "metadata": {
      "needs_background": "light"
     },
     "output_type": "display_data"
    }
   ],
   "source": [
    "x = symbols(\"x\")\n",
    "f = Function(\"f\")\n",
    "plot_direction_field(x, f(x), -0.03* f(x))"
   ]
  },
  {
   "cell_type": "code",
   "execution_count": 76,
   "metadata": {},
   "outputs": [
    {
     "name": "stdout",
     "output_type": "stream",
     "text": [
      "[ 2. -1.]\n"
     ]
    }
   ],
   "source": [
    "A = np.array([[-2, 1], [3/4, 1]])\n",
    "B = np.array([-5, 1/2])\n",
    "X = np.linalg.inv(A).dot(B)\n",
    "\n",
    "print(X)"
   ]
  },
  {
   "cell_type": "code",
   "execution_count": null,
   "metadata": {},
   "outputs": [],
   "source": []
  }
 ],
 "metadata": {
  "kernelspec": {
   "display_name": "Python 3",
   "language": "python",
   "name": "python3"
  },
  "language_info": {
   "codemirror_mode": {
    "name": "ipython",
    "version": 3
   },
   "file_extension": ".py",
   "mimetype": "text/x-python",
   "name": "python",
   "nbconvert_exporter": "python",
   "pygments_lexer": "ipython3",
   "version": "3.8.3"
  }
 },
 "nbformat": 4,
 "nbformat_minor": 4
}
